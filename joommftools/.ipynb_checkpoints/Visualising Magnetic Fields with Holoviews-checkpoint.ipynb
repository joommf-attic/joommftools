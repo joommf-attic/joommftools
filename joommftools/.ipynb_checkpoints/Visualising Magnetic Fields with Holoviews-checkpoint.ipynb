{
 "cells": [
  {
   "cell_type": "markdown",
   "metadata": {},
   "source": [
    "# Visualising micromagnetic simulation data with Holoviews"
   ]
  },
  {
   "cell_type": "markdown",
   "metadata": {},
   "source": [
    "In micromagnetic simulations, it is common to want to investigate systems through a multidimensional parameter space. We may wish to see how a system evolves through time, or how adjusting the strength of interactions might change the final state. In this notebook, we show how output files from OOMMF can be displayed using Holoviews, and how this can allow interactive exploration of data."
   ]
  },
  {
   "cell_type": "code",
   "execution_count": null,
   "metadata": {
    "collapsed": false
   },
   "outputs": [],
   "source": [
    "import sys\n",
    "sys.version"
   ]
  },
  {
   "cell_type": "code",
   "execution_count": null,
   "metadata": {
    "collapsed": false
   },
   "outputs": [],
   "source": []
  },
  {
   "cell_type": "code",
   "execution_count": null,
   "metadata": {
    "collapsed": false
   },
   "outputs": [],
   "source": [
    "%load_ext autoreload\n",
    "%autoreload 2"
   ]
  },
  {
   "cell_type": "code",
   "execution_count": 1,
   "metadata": {
    "collapsed": false
   },
   "outputs": [
    {
     "data": {
      "text/html": [
       "\n",
       "<script src=\"https://code.jquery.com/ui/1.10.4/jquery-ui.min.js\" type=\"text/javascript\"></script>\n",
       "<script type=\"text/javascript\">function HoloViewsWidget(){\n",
       "}\n",
       "\n",
       "HoloViewsWidget.prototype.init_slider = function(init_val){\n",
       "\tif(this.load_json) {\n",
       "\t\tthis.from_json()\n",
       "\t} else {\n",
       "\t\tthis.update_cache();\n",
       "\t}\n",
       "}\n",
       "\n",
       "HoloViewsWidget.prototype.populate_cache = function(idx){\n",
       "    this.cache[idx].html(this.frames[idx]);\n",
       "    if (this.embed) {\n",
       "        delete this.frames[idx];\n",
       "    }\n",
       "}\n",
       "\n",
       "HoloViewsWidget.prototype.process_error = function(msg){\n",
       "\n",
       "}\n",
       "\n",
       "HoloViewsWidget.prototype.from_json = function() {\n",
       "\tvar data_url = this.json_path + this.id + '.json';\n",
       "\t$.getJSON(data_url, $.proxy(function(json_data) {\n",
       "\t\tthis.frames = json_data;\n",
       "\t\tthis.update_cache();\n",
       "\t\tthis.update(0);\n",
       "\t}, this));\n",
       "}\n",
       "\n",
       "HoloViewsWidget.prototype.dynamic_update = function(current){\n",
       "    function callback(msg){\n",
       "        /* This callback receives data from Python as a string\n",
       "         in order to parse it correctly quotes are sliced off*/\n",
       "        var data = msg.content.data['text/plain'].slice(1, -1);\n",
       "        this.frames[current] = data;\n",
       "        this.update_cache();\n",
       "        this.update(current);\n",
       "    }\n",
       "    if(!(current in this.cache)) {\n",
       "        var kernel = IPython.notebook.kernel;\n",
       "        callbacks = {iopub: {output: $.proxy(callback, this)}};\n",
       "        var cmd = \"holoviews.plotting.widgets.NdWidget.widgets['\" + this.id + \"'].update(\" + current + \")\";\n",
       "        kernel.execute(\"import holoviews;\" + cmd, callbacks, {silent : false});\n",
       "    } else {\n",
       "        this.update(current);\n",
       "    }\n",
       "}\n",
       "\n",
       "HoloViewsWidget.prototype.update_cache = function(){\n",
       "    var frame_len = Object.keys(this.frames).length;\n",
       "    for (var i=0; i<frame_len; i++) {\n",
       "        if(!this.load_json || this.dynamic)  {\n",
       "            frame = Object.keys(this.frames)[i];\n",
       "        } else {\n",
       "            frame = i;\n",
       "        }\n",
       "        if(!(frame in this.cache)) {\n",
       "            this.cache[frame] = $('<div />').appendTo(\"#\" + this.img_id).hide();\n",
       "            var cache_id = this.img_id+\"_\"+frame;\n",
       "            this.cache[frame].attr(\"id\", cache_id);\n",
       "            this.populate_cache(frame);\n",
       "        }\n",
       "    }\n",
       "}\n",
       "\n",
       "HoloViewsWidget.prototype.update = function(current){\n",
       "    if(current in this.cache) {\n",
       "        $.each(this.cache, function(index, value) {\n",
       "            value.hide();\n",
       "        });\n",
       "        this.cache[current].show();\n",
       "\t\tthis.wait = false;\n",
       "    }\n",
       "}\n",
       "\n",
       "\n",
       "function SelectionWidget(frames, id, slider_ids, keyMap, dim_vals, notFound, load_json, mode, cached, json_path, dynamic){\n",
       "    this.frames = frames;\n",
       "    this.fig_id = \"fig_\" + id;\n",
       "    this.img_id = \"_anim_img\" + id;\n",
       "    this.id = id;\n",
       "    this.slider_ids = slider_ids;\n",
       "    this.keyMap = keyMap\n",
       "    this.current_frame = 0;\n",
       "    this.current_vals = dim_vals;\n",
       "    this.load_json = load_json;\n",
       "    this.mode = mode;\n",
       "    this.notFound = notFound;\n",
       "    this.cached = cached;\n",
       "    this.dynamic = dynamic;\n",
       "    this.cache = {};\n",
       "\tthis.json_path = json_path;\n",
       "    this.init_slider(this.current_vals[0]);\n",
       "\tthis.queue = [];\n",
       "\tthis.wait = false;\n",
       "}\n",
       "\n",
       "SelectionWidget.prototype = new HoloViewsWidget;\n",
       "\n",
       "\n",
       "SelectionWidget.prototype.get_key = function(current_vals) {\n",
       "\tvar key = \"(\";\n",
       "    for (var i=0; i<this.slider_ids.length; i++)\n",
       "    {\n",
       "        val = this.current_vals[i];\n",
       "        if (!(typeof val === 'string')) {\n",
       "            if (val % 1 === 0) { var fixed = 1;}\n",
       "            else { var fixed = 10;}\n",
       "            val = val.toFixed(fixed)\n",
       "        }\n",
       "        key += \"'\" + val + \"'\";\n",
       "        if(i != this.slider_ids.length-1) { key += ', ';}\n",
       "        else if(this.slider_ids.length == 1) { key += ',';}\n",
       "    }\n",
       "    key += \")\";\n",
       "\treturn this.keyMap[key];\n",
       "}\n",
       "\n",
       "SelectionWidget.prototype.set_frame = function(dim_val, dim_idx){\n",
       "\tthis.current_vals[dim_idx] = dim_val;\n",
       "    var current = this.get_key(this.current_vals);\n",
       "    if(current === undefined && !this.dynamic) {\n",
       "        return\n",
       "    }\n",
       "\tif (this.dynamic || !this.cached) {\n",
       "\t\tif (this.time === undefined) {\n",
       "\t\t\t// Do nothing the first time\n",
       "\t\t} else if ((this.timed === undefined) || ((this.time + this.timed) > Date.now())) {\n",
       "\t\t\tvar key = this.current_vals;\n",
       "\t\t\tif (!this.dynamic) {\n",
       "\t\t\t\tkey = this.get_key(key);\n",
       "\t\t\t}\n",
       "\t\t\tthis.queue.push(key);\n",
       "\t\t\treturn\n",
       "\t\t}\n",
       "\t}\n",
       "\tthis.queue = [];\n",
       "\tthis.time = Date.now();\n",
       "    if(this.dynamic) {\n",
       "        this.dynamic_update(this.current_vals)\n",
       "        return;\n",
       "    }\n",
       "    this.current_frame = current;\n",
       "    if(this.cached) {\n",
       "        this.update(current)\n",
       "    } else {\n",
       "        this.dynamic_update(current)\n",
       "    }\n",
       "}\n",
       "\n",
       "\n",
       "/* Define the ScrubberWidget class */\n",
       "function ScrubberWidget(frames, num_frames, id, interval, load_json, mode, cached, json_path, dynamic){\n",
       "    this.img_id = \"_anim_img\" + id;\n",
       "    this.slider_id = \"_anim_slider\" + id;\n",
       "    this.loop_select_id = \"_anim_loop_select\" + id;\n",
       "    this.id = id;\n",
       "    this.fig_id = \"fig_\" + id;\n",
       "    this.interval = interval;\n",
       "    this.current_frame = 0;\n",
       "    this.direction = 0;\n",
       "    this.dynamic = dynamic;\n",
       "    this.timer = null;\n",
       "    this.load_json = load_json;\n",
       "    this.mode = mode;\n",
       "    this.cached = cached;\n",
       "    this.frames = frames;\n",
       "    this.cache = {};\n",
       "    this.length = num_frames;\n",
       "\tthis.json_path = json_path;\n",
       "    document.getElementById(this.slider_id).max = this.length - 1;\n",
       "    this.init_slider(0);\n",
       "\tthis.wait = false;\n",
       "\tthis.queue = [];\n",
       "}\n",
       "\n",
       "ScrubberWidget.prototype = new HoloViewsWidget;\n",
       "\n",
       "ScrubberWidget.prototype.set_frame = function(frame){\n",
       "\tthis.current_frame = frame;\n",
       "\twidget = document.getElementById(this.slider_id);\n",
       "    if (widget === null) {\n",
       "        this.pause_animation();\n",
       "        return\n",
       "    }\n",
       "    widget.value = this.current_frame;\n",
       "    if(this.cached) {\n",
       "        this.update(frame)\n",
       "    } else {\n",
       "        this.dynamic_update(frame)\n",
       "    }\n",
       "}\n",
       "\n",
       "\n",
       "ScrubberWidget.prototype.process_error = function(msg){\n",
       "\tif (msg.content.ename === 'StopIteration') {\n",
       "\t\tthis.pause_animation();\n",
       "\t\tthis.stopped = true;\n",
       "\t\tvar keys = Object.keys(this.frames)\n",
       "\t\tthis.length = keys.length;\n",
       "\t\tdocument.getElementById(this.slider_id).max = this.length-1;\n",
       "\t\tdocument.getElementById(this.slider_id).value = this.length-1;\n",
       "\t\tthis.current_frame = this.length-1;\n",
       "\t}\n",
       "}\n",
       "\n",
       "\n",
       "ScrubberWidget.prototype.get_loop_state = function(){\n",
       "    var button_group = document[this.loop_select_id].state;\n",
       "    for (var i = 0; i < button_group.length; i++) {\n",
       "        var button = button_group[i];\n",
       "        if (button.checked) {\n",
       "            return button.value;\n",
       "        }\n",
       "    }\n",
       "    return undefined;\n",
       "}\n",
       "\n",
       "\n",
       "ScrubberWidget.prototype.next_frame = function() {\n",
       "\tif (this.dynamic || !this.cached) {\n",
       "\t\tif (this.wait) {\n",
       "\t\t\treturn\n",
       "\t\t}\n",
       "\t\tthis.wait = true;\n",
       "\t}\n",
       "\tif (this.dynamic && this.current_frame + 1 >= this.length) {\n",
       "\t\tthis.length += 1;\n",
       "        document.getElementById(this.slider_id).max = this.length-1;\n",
       "\t}\n",
       "    this.set_frame(Math.min(this.length - 1, this.current_frame + 1));\n",
       "}\n",
       "\n",
       "ScrubberWidget.prototype.previous_frame = function() {\n",
       "    this.set_frame(Math.max(0, this.current_frame - 1));\n",
       "}\n",
       "\n",
       "ScrubberWidget.prototype.first_frame = function() {\n",
       "    this.set_frame(0);\n",
       "}\n",
       "\n",
       "ScrubberWidget.prototype.last_frame = function() {\n",
       "    this.set_frame(this.length - 1);\n",
       "}\n",
       "\n",
       "ScrubberWidget.prototype.slower = function() {\n",
       "    this.interval /= 0.7;\n",
       "    if(this.direction > 0){this.play_animation();}\n",
       "    else if(this.direction < 0){this.reverse_animation();}\n",
       "}\n",
       "\n",
       "ScrubberWidget.prototype.faster = function() {\n",
       "    this.interval *= 0.7;\n",
       "    if(this.direction > 0){this.play_animation();}\n",
       "    else if(this.direction < 0){this.reverse_animation();}\n",
       "}\n",
       "\n",
       "ScrubberWidget.prototype.anim_step_forward = function() {\n",
       "    if(this.current_frame < this.length || (this.dynamic && !this.stopped)){\n",
       "        this.next_frame();\n",
       "    }else{\n",
       "        var loop_state = this.get_loop_state();\n",
       "        if(loop_state == \"loop\"){\n",
       "            this.first_frame();\n",
       "        }else if(loop_state == \"reflect\"){\n",
       "            this.last_frame();\n",
       "            this.reverse_animation();\n",
       "        }else{\n",
       "            this.pause_animation();\n",
       "            this.last_frame();\n",
       "        }\n",
       "    }\n",
       "}\n",
       "\n",
       "ScrubberWidget.prototype.anim_step_reverse = function() {\n",
       "    this.current_frame -= 1;\n",
       "    if(this.current_frame >= 0){\n",
       "        this.set_frame(this.current_frame);\n",
       "    } else {\n",
       "        var loop_state = this.get_loop_state();\n",
       "        if(loop_state == \"loop\"){\n",
       "            this.last_frame();\n",
       "        }else if(loop_state == \"reflect\"){\n",
       "            this.first_frame();\n",
       "            this.play_animation();\n",
       "        }else{\n",
       "            this.pause_animation();\n",
       "            this.first_frame();\n",
       "        }\n",
       "    }\n",
       "}\n",
       "\n",
       "ScrubberWidget.prototype.pause_animation = function() {\n",
       "    this.direction = 0;\n",
       "    if (this.timer){\n",
       "        clearInterval(this.timer);\n",
       "        this.timer = null;\n",
       "    }\n",
       "}\n",
       "\n",
       "ScrubberWidget.prototype.play_animation = function() {\n",
       "    this.pause_animation();\n",
       "    this.direction = 1;\n",
       "    var t = this;\n",
       "    if (!this.timer) this.timer = setInterval(function(){t.anim_step_forward();}, this.interval);\n",
       "}\n",
       "\n",
       "ScrubberWidget.prototype.reverse_animation = function() {\n",
       "    this.pause_animation();\n",
       "    this.direction = -1;\n",
       "    var t = this;\n",
       "    if (!this.timer) this.timer = setInterval(function(){t.anim_step_reverse();}, this.interval);\n",
       "}\n",
       "\n",
       "function extend(destination, source) {\n",
       "    for (var k in source) {\n",
       "        if (source.hasOwnProperty(k)) {\n",
       "            destination[k] = source[k];\n",
       "        }\n",
       "    }\n",
       "    return destination;\n",
       "}\n",
       "\n",
       "function update_widget(widget, values) {\n",
       "\tif (widget.hasClass(\"ui-slider\")) {\n",
       "\t\twidget.slider('option',\n",
       "\t\t\t\t\t  {'min': 0, 'max': values.length-1,\n",
       "\t\t\t\t\t   'dim_vals': values, 'value': 0,\n",
       "\t\t\t\t\t   'dim_labels': values})\n",
       "\t\twidget.slider('option', 'slide').call(widget, event, {'value': 0})\n",
       "\t} else {\n",
       "\t\twidget.empty();\n",
       "\t\tfor (var i=0; i<values.length; i++){\n",
       "\t\t\twidget.append($(\"<option>\", {\n",
       "\t\t\t\tvalue: i,\n",
       "\t\t\t\ttext: values[i]\n",
       "\t\t\t}))};\n",
       "\t\twidget.data('values', values);\n",
       "\t\twidget.data('value', 0);\n",
       "\t\twidget.trigger(\"change\");\n",
       "\t};\n",
       "}\n",
       "\n",
       "// Define MPL specific subclasses\n",
       "function MPLSelectionWidget() {\n",
       "\tSelectionWidget.apply(this, arguments);\n",
       "}\n",
       "\n",
       "function MPLScrubberWidget() {\n",
       "\tScrubberWidget.apply(this, arguments);\n",
       "}\n",
       "\n",
       "// Let them inherit from the baseclasses\n",
       "MPLSelectionWidget.prototype = Object.create(SelectionWidget.prototype);\n",
       "MPLScrubberWidget.prototype = Object.create(ScrubberWidget.prototype);\n",
       "\n",
       "// Define methods to override on widgets\n",
       "var MPLMethods = {\n",
       "\tinit_slider : function(init_val){\n",
       "\t\tif(this.load_json) {\n",
       "\t\t\tthis.from_json()\n",
       "\t\t} else {\n",
       "\t\t\tthis.update_cache();\n",
       "\t\t}\n",
       "\t\tthis.update(0);\n",
       "\t\tif(this.mode == 'nbagg') {\n",
       "\t\t\tthis.set_frame(init_val, 0);\n",
       "\t\t}\n",
       "\t},\n",
       "\tpopulate_cache : function(idx){\n",
       "\t\tvar cache_id = this.img_id+\"_\"+idx;\n",
       "\t\tif(this.mode == 'mpld3') {\n",
       "\t\t\tmpld3.draw_figure(cache_id, this.frames[idx]);\n",
       "\t\t} else {\n",
       "\t\t\tthis.cache[idx].html(this.frames[idx]);\n",
       "\t\t}\n",
       "\t\tif (this.embed) {\n",
       "\t\t\tdelete this.frames[idx];\n",
       "\t\t}\n",
       "\t},\n",
       "\tdynamic_update : function(current){\n",
       "\t\tif (this.dynamic) {\n",
       "\t\t\tcurrent = JSON.stringify(current);\n",
       "\t\t}\n",
       "\t\tfunction callback(msg){\n",
       "\t\t\t/* This callback receives data from Python as a string\n",
       "\t\t\t in order to parse it correctly quotes are sliced off*/\n",
       "\t\t\tif (msg.content.ename != undefined) {\n",
       "\t\t\t\tthis.process_error(msg);\n",
       "\t\t\t}\n",
       "\t\t\tif (msg.msg_type != \"execute_result\") {\n",
       "\t\t\t\tconsole.log(\"Warning: HoloViews callback returned unexpected data for key: (\", current, \") with the following content:\", msg.content)\n",
       "\t\t\t\tthis.time = undefined;\n",
       "\t\t\t\treturn\n",
       "\t\t\t}\n",
       "\t\t\tif (!(this.mode == 'nbagg')) {\n",
       "\t\t\t\tif(!(current in this.cache)) {\n",
       "\t\t\t\t\tvar data = msg.content.data['text/plain'].slice(1, -1);\n",
       "\t\t\t\t\tif(this.mode == 'mpld3'){\n",
       "\t\t\t\t\t\tdata = JSON.parse(data)[0];\n",
       "\t\t\t\t\t}\n",
       "\t\t\t\t\tthis.frames[current] = data;\n",
       "\t\t\t\t\tthis.update_cache();\n",
       "\t\t\t\t}\n",
       "\t\t\t\tthis.update(current);\n",
       "\t\t\t}\n",
       "\t\t\tthis.timed = (Date.now() - this.time) * 1.5;\n",
       "\t\t\tthis.wait = false;\n",
       "\t\t\tif (this.queue.length > 0) {\n",
       "\t\t\t\tvar current_vals = this.queue[this.queue.length-1];\n",
       "\t\t\t\tthis.time = Date.now();\n",
       "\t\t\t\tthis.dynamic_update(current_vals);\n",
       "\t\t\t\tthis.queue = [];\n",
       "\t\t\t}\n",
       "\t\t}\n",
       "\t\tvar kernel = IPython.notebook.kernel;\n",
       "\t\tcallbacks = {iopub: {output: $.proxy(callback, this)}};\n",
       "\t\tvar cmd = \"holoviews.plotting.widgets.NdWidget.widgets['\" + this.id + \"'].update(\" + current + \")\";\n",
       "\t\tkernel.execute(\"import holoviews;\" + cmd, callbacks, {silent : false});\n",
       "\t}\n",
       "}\n",
       "\n",
       "// Extend MPL widgets with backend specific methods\n",
       "extend(MPLSelectionWidget.prototype, MPLMethods);\n",
       "extend(MPLScrubberWidget.prototype, MPLMethods);\n",
       "</script>\n",
       "\n",
       "\n",
       "<link rel=\"stylesheet\" href=\"https://code.jquery.com/ui/1.10.4/themes/smoothness/jquery-ui.css\">\n",
       "<style>div.hololayout {\n",
       "    display: flex;\n",
       "    align-items: center;\n",
       "    margin: 0;\n",
       "}\n",
       "\n",
       "div.holoframe {\n",
       "\twidth: 75%;\n",
       "}\n",
       "\n",
       "div.holowell {\n",
       "    display: flex;\n",
       "    align-items: center;\n",
       "    margin: 0;\n",
       "}\n",
       "\n",
       "form.holoform {\n",
       "    background-color: #fafafa;\n",
       "    border-radius: 5px;\n",
       "    overflow: hidden;\n",
       "\tpadding-left: 0.8em;\n",
       "    padding-right: 0.8em;\n",
       "    padding-top: 0.4em;\n",
       "    padding-bottom: 0.4em;\n",
       "}\n",
       "\n",
       "div.holowidgets {\n",
       "    padding-right: 0;\n",
       "\twidth: 25%;\n",
       "}\n",
       "\n",
       "div.holoslider {\n",
       "    min-height: 0 !important;\n",
       "    height: 0.8em;\n",
       "    width: 60%;\n",
       "}\n",
       "\n",
       "div.holoformgroup {\n",
       "    padding-top: 0.5em;\n",
       "    margin-bottom: 0.5em;\n",
       "}\n",
       "\n",
       "div.hologroup {\n",
       "    padding-left: 0;\n",
       "    padding-right: 0.8em;\n",
       "    width: 50%;\n",
       "}\n",
       "\n",
       ".holoselect {\n",
       "    width: 92%;\n",
       "    margin-left: 0;\n",
       "    margin-right: 0;\n",
       "}\n",
       "\n",
       ".holotext {\n",
       "    width: 100%;\n",
       "    padding-left:  0.5em;\n",
       "    padding-right: 0;\n",
       "}\n",
       "\n",
       ".holowidgets .ui-resizable-se {\n",
       "\tvisibility: hidden\n",
       "}\n",
       "\n",
       ".holoframe > .ui-resizable-se {\n",
       "\tvisibility: hidden\n",
       "}\n",
       "\n",
       ".holowidgets .ui-resizable-s {\n",
       "\tvisibility: hidden\n",
       "}\n",
       "</style>\n",
       "\n",
       "\n",
       "<div>\n",
       "<img src='data:image/png;base64,iVBORw0KGgoAAAANSUhEUgAAABkAAAAZCAIAAABLixI0AAAACXBIWXMAAAsTAAALEwEAmpwYAAAAB3RJTUUH3wkCDDIOi3cusgAABT1JREFUOMtVlclvG2UYh3/fMovHe53FThySNHZomrRJl6QR0AJdpVblQBEHJC4ciipxAgmO3PgPEP8BQkIsRUJUSF1oqGih0JY2CtnjOLGz2Em8xPbMeL6Pw9RJOprLjPT+5tH7Pu83JE7pqeHh8wMD2evfyXMXf/nxB2FZo6dPNzVHvvr6GxMQeOEigARswNzzUgK6x8NagPzS0nqxODQ62nLn1xMnX99/eLC3sGVROj2/IBxHABKgANlzM4ACTuMRAOecNREiAWtzc0NIEu/M37zVMTWeqlrpUDg1M7NTVgdkowwvxqGRRV1CE8jOznq7uhYAi2CpXtdVVQE4QAAdCAAGwAAJyEa9Amh7PsAihBBAABrg1XUfpe3bxTXb8XR0WJa1VSzWGyAcUAEVoIAARIMOQH2HC4AA6lKW8/n9Pm/Ahl4zV8fGTg0PtzQ3K3tA3GId8AO+BqZLt8sFQKE0GouRSkWtFM63KV0Vy1rJhN44k56cFFI6exJ3MBWANACVHS63aw5QtutVVT/4xWfHv/0ylytmHvx56sIFLxACfIABGIAf8ANRn++9y5evXrkS0XWXd5dLJWRfOHwspA1tr4iFtP3gD8/apjCtSDiyQYhZKNA94wOQTCQPhfzm9FTJH8jn84Tz3SyPlEQ4vf0Dt5/MPE5vpVObzQbxqvaDdL731MnWnh5pmsxxdE3rTCZfO3u2FbL6+2+hzpcKwXA2ldrNUgAVII7TMXhkZnzcAQTgAWI6sgV7YmKivLra1tFxMJk4Ho/r5fLy3btsYS7JHL1YoeHQKldKhcLzLNcdlRDOWDgczuVyOtDt4yN9gRYVmc161TTLmYw9P9e8OHcU5dG2fa3EmhNyKjGwROmzZ8+YqlIAKsDd9jtOenIy1t8vgDJQtuvYrjRT0kMQBRIUQxqSXkSDUIO0YAulvdfxGk/u33eVZs2EeBvu6gCjtKW7Oz81xQBhI73mtATQn/BuZ6wTrezsYX+1Jn+aNR8sl9Zb47l4/O+HD2u27QDgnHUQwhvKuFmRaLS2tkZsmwJSQpqIUzHYyynndx5t/1Vy5gXyhMhorEJIKpViQB0QnFNlZzkbdExRhBAckIAFbFXFetkpg94er004WK6jCniamrRAYHlmxhXFtWTXVfW50SQYDjvVKm+YHVMR10G5VAGrcWAohkEVpbC1RRo7QN2mS0BzuQiJHziwMTurAwrgBTo95NVjnshb3XaF9q1MTM7VeWNv6kJQgAISYAAHuARUQAHA2NCZM35KJ27c6KA4YiBXJlpVro5bkaGN2mStsCy8gAXobpyU7iFhAgxQAB40jMHh4WhnJ6nVpsfGVjOZUQMhi40k9K1FqQZI4ogffd3k33GPobTb5kCIFmriEYjgnABao60KwD68eCnz5PH0vXsr4+OsVIpRvNmpnLvQEozRpm5vxAP107dx+RMlvGTcmw7Xle6DwZlsdbZY05qbAq2ta9msCkhAcM4+yv+3uFZWAA+gA5pEaUOUnpaMohb+/BK7+j76r4IliFoyAv9EjsZ4ZbMmyOKqmdvciiWTL4+OUsY8mkY554d7okGyciuHqgQFVIABlkJ9fV44FLFrz8ecuIZ3u6offzD1fSnFmJSgle35mzcdVQ1Eo23B4Eh7lJdWNgZGohM/r5QAjZEoaDzi0TfKPlFDV/KF35mqs0NN1v3iRrqqAT7Xbdti6UXPImKZaf5SQiUBtAIG0OVXXnmnDUJWb9nET7D8VPba7pAJTKRnxPUpI+v0BXlApZPrlgDaCTke1VqaaLZC/wesjSVVF5Ac7QAAAABJRU5ErkJggg=='\n",
       "     style='width:25px;height:25px; border-radius:12px;'/>\n",
       "\n",
       "HoloViewsJS, MatplotlibJS successfully loaded in this cell.\n",
       "</div>\n"
      ],
      "text/plain": [
       "<IPython.core.display.HTML object>"
      ]
     },
     "metadata": {},
     "output_type": "display_data"
    }
   ],
   "source": [
    "import holoviews as hv\n",
    "import pandas as pd\n",
    "import numpy as np\n",
    "import oommffield\n",
    "import os\n",
    "import glob\n",
    "import re\n",
    "datafiles = os.path.join(os.getcwd(), 'examples/doc/data')\n",
    "hv.notebook_extension('matplotlib')\n"
   ]
  },
  {
   "cell_type": "markdown",
   "metadata": {},
   "source": [
    "Here, we define a function which takes either a string, which is the path to an OOMMF magnetisation vector (OMF) file, or a Field object from the module oommffield. This constructs a Holoviews object which is the sum of two parts:\n",
    "* A hv.VectorField object - this shows a plot of the in-plane magnetisation\n",
    "* a hv.Image object - this shows a plot of the out-of-plane magnetisation"
   ]
  },
  {
   "cell_type": "code",
   "execution_count": null,
   "metadata": {
    "collapsed": false
   },
   "outputs": [],
   "source": [
    "def field2inplane(field, slice_axis, slice_coord):\n",
    "    \"\"\"\n",
    "    field2hv(field, slice_axis, slice_coord)\n",
    "    \n",
    "    This function constructs a Holoviews object\n",
    "    which shows the in plane Magnetisation and out of plane Magnetisation\n",
    "    \n",
    "    Inputs\n",
    "    ======\n",
    "    field:\n",
    "        Path to an OMF file or object of type oommffield.Field\n",
    "    slice_axis:\n",
    "        The axis along which the vector field will be sliced given as a string.\n",
    "        Must be one of ['x', 'y', 'z']\n",
    "    slice_coord:\n",
    "        The coordinate along the slice_axis where the field is sliced\n",
    "    \"\"\"\n",
    "    # Construct a field object if not a field object\n",
    "    if isinstance(field, str):\n",
    "        field = oommffield.read_oommf_file(field)\n",
    "    field.normalise()\n",
    "    if slice_axis == 'z':\n",
    "        axis = (0, 1, 2)\n",
    "    elif slice_axis == 'y':\n",
    "        axis = (0, 2, 1)\n",
    "    elif slice_axis == 'x':\n",
    "        axis = (1, 2, 0)\n",
    "    else:\n",
    "        raise ValueError(\"Slice Axis must be one of 'x', 'y' ,'z'\")\n",
    "    dims = ['x', 'y', 'z']\n",
    "    bounds = [field.cmin[axis[0]], field.cmin[axis[1]], field.cmax[axis[0]], field.cmax[axis[1]]]\n",
    "    x, y, vec, coords = field.slice_field(slice_axis, slice_coord)\n",
    "    X, Y = np.meshgrid(x, y)\n",
    "    flat = vec.flatten()\n",
    "    modm = (flat[axis[0]::3]**2 + flat[axis[1]::3]**2).reshape((len(x), len(y)))\n",
    "    angm = np.arctan2(flat[axis[1]::3], flat[axis[0]::3]).reshape((len(x), len(y)))\n",
    "    outofplane = flat[axis[2]::3]\n",
    "    mz = flat[axis[2]::3].reshape((len(x), len(y)))\n",
    "    kdims = kdims=[dims[axis[0]], dims[axis[1]]]\n",
    "    return hv.VectorField([X, Y, angm, modm],\n",
    "                          kdims = kdims, vdims=['xyfield'],\n",
    "                          label='In-plane Magnetisation')"
   ]
  },
  {
   "cell_type": "code",
   "execution_count": null,
   "metadata": {
    "collapsed": false
   },
   "outputs": [],
   "source": [
    "def field2outofplane(field, slice_axis, slice_coord):\n",
    "    \"\"\"\n",
    "    field2hv(field, slice_axis, slice_coord)\n",
    "    \n",
    "    This function constructs a Holoviews object\n",
    "    which shows the in plane Magnetisation and out of plane Magnetisation\n",
    "    \n",
    "    Inputs\n",
    "    ======\n",
    "    field:\n",
    "        Path to an OMF file or object of type oommffield.Field\n",
    "    slice_axis:\n",
    "        The axis along which the vector field will be sliced given as a string.\n",
    "        Must be one of ['x', 'y', 'z']\n",
    "    slice_coord:\n",
    "        The coordinate along the slice_axis where the field is sliced\n",
    "    \"\"\"\n",
    "    # Construct a field object if not a field object\n",
    "    if isinstance(field, str):\n",
    "        field = oommffield.read_oommf_file(field)\n",
    "    field.normalise()\n",
    "    if slice_axis == 'z':\n",
    "        axis = (0, 1, 2)\n",
    "    elif slice_axis == 'y':\n",
    "        axis = (0, 2, 1)\n",
    "    elif slice_axis == 'x':\n",
    "        axis = (1, 2, 0)\n",
    "    else:\n",
    "        raise ValueError(\"Slice Axis must be one of 'x', 'y' ,'z'\")\n",
    "    dims = ['x', 'y', 'z']\n",
    "    bounds = [field.cmin[axis[0]], field.cmin[axis[1]], field.cmax[axis[0]], field.cmax[axis[1]]]\n",
    "    x, y, vec, coords = field.slice_field(slice_axis, slice_coord)\n",
    "    X, Y = np.meshgrid(x, y)\n",
    "    flat = vec.flatten()\n",
    "    modm = (flat[axis[0]::3]**2 + flat[axis[1]::3]**2).reshape((len(x), len(y)))\n",
    "    angm = np.arctan2(flat[axis[1]::3], flat[axis[0]::3]).reshape((len(x), len(y)))\n",
    "    outofplane = flat[axis[2]::3]\n",
    "    mz = flat[axis[2]::3].reshape((len(x), len(y)))\n",
    "    kdims = kdims=[dims[axis[0]], dims[axis[1]]]\n",
    "    return hv.Image(mz, bounds=bounds,\n",
    "                    label='Out of plane Magnetisation',\n",
    "                    kdims = kdims, \n",
    "                    vdims=[hv.Dimension('M{}'.format(slice_axis),\n",
    "                                        range=(-1, 1))])"
   ]
  },
  {
   "cell_type": "markdown",
   "metadata": {},
   "source": [
    "We can load up an OMF file from an OOMMF simulation of a cube of dimensions [5e-8, 5e-8, 5e-8] nm to test this works. Here, the simulation files correspond to the output from a hysteresis simulation of a cube, with Exchange and Demagnetisation interactions included."
   ]
  },
  {
   "cell_type": "code",
   "execution_count": null,
   "metadata": {
    "collapsed": false
   },
   "outputs": [],
   "source": [
    "# Glob through data file directory for *.omf files.\n",
    "files = sorted(glob.glob(datafiles + '/*.omf'))\n",
    "# Get holoviews object from the first file\n",
    "test = field2outofplane(files[0], 'y', 0e-8)"
   ]
  },
  {
   "cell_type": "code",
   "execution_count": null,
   "metadata": {
    "collapsed": false
   },
   "outputs": [],
   "source": [
    "test"
   ]
  },
  {
   "cell_type": "markdown",
   "metadata": {},
   "source": [
    "We can sample across a holoviews Image element through the centre of the image:"
   ]
  },
  {
   "cell_type": "code",
   "execution_count": null,
   "metadata": {
    "collapsed": false
   },
   "outputs": [],
   "source": [
    "test + test.sample(z = 2.5e-8) + test.sample(z = 2.5e-8)"
   ]
  },
  {
   "cell_type": "markdown",
   "metadata": {},
   "source": [
    "We might want to change the colourmap of the B image to a divergent colourmap, and add a colorbar. We can do this by setting properties of the renderer with cell magics:\n"
   ]
  },
  {
   "cell_type": "code",
   "execution_count": null,
   "metadata": {
    "collapsed": false
   },
   "outputs": [],
   "source": [
    "%%opts Image style(interpolation='nearest', cmap='RdBu')[colorbar=True]\n",
    "test"
   ]
  },
  {
   "cell_type": "markdown",
   "metadata": {},
   "source": [
    "We have several dimensions through which to explore the data - the files correspond to different simulation parameters (in this case, the applied field), and we may want to look at how the magnetisation varies along each of the axes. To explore the data, we create a Holomap, which will provide sliders and selectors which allow the varying of how we visualise the simulation data.\n",
    "\n",
    "The first step to this is to construct dimensions for which we want to explore the data."
   ]
  },
  {
   "cell_type": "code",
   "execution_count": null,
   "metadata": {
    "collapsed": false
   },
   "outputs": [],
   "source": [
    "physical_dimension = hv.Dimension(\"SliceDimension\")\n",
    "file = hv.Dimension('File')\n",
    "slice_dimension = hv.Dimension('Coordinates')\n",
    "\n",
    "dims = ['x', 'y', 'z']\n",
    "slicecoords = np.linspace(0, 5e-8, 11)\n",
    "slicecoords = list(slicecoords)\n"
   ]
  },
  {
   "cell_type": "markdown",
   "metadata": {},
   "source": [
    "We now construct the holoviews objects for each combination across parameter space, by creating a list of tuples of the form. We process the filenames with a function to something more reasonable.\n",
    "> ((parameter arguments), output)"
   ]
  },
  {
   "cell_type": "code",
   "execution_count": null,
   "metadata": {
    "collapsed": false
   },
   "outputs": [],
   "source": [
    "filename_fun = lambda filename: int(filename.split('-')[3])"
   ]
  },
  {
   "cell_type": "code",
   "execution_count": null,
   "metadata": {
    "collapsed": false
   },
   "outputs": [],
   "source": [
    "mapdata = [((filename_fun(file), slicedim, slicecoord), \n",
    "           field2inplane(file, slicedim, slicecoord) + field2outofplane(file, slicedim, slicecoord)) \n",
    "           for file in files \n",
    "           for slicedim in ['x', 'y', 'z'] \n",
    "           for slicecoord in slicecoords]"
   ]
  },
  {
   "cell_type": "markdown",
   "metadata": {},
   "source": [
    "We can now create a holomap of this data, which allows us to explore the datafiles:"
   ]
  },
  {
   "cell_type": "code",
   "execution_count": null,
   "metadata": {
    "collapsed": false
   },
   "outputs": [],
   "source": [
    "holomap = hv.HoloMap(mapdata, kdims=[file, physical_dimension, slice_dimension])\n",
    "holomap.collate()"
   ]
  },
  {
   "cell_type": "markdown",
   "metadata": {},
   "source": [
    "We can then render the HoloMap by accessing it. It is worth noting that for large amounts of data this can take some time, and DynamicMap, which renders on the fly rather than all at once, is more suitable. On the other hand, once a HoloMap has been created, you can embed the notebook into webpages or reload the notebook for interactive visualisation without having to run the notebook.\n",
    "\n",
    "The cell below takes a long time to run - skip ahead to the DynamicMap if you're not running on a powerful computer."
   ]
  },
  {
   "cell_type": "code",
   "execution_count": null,
   "metadata": {
    "collapsed": false
   },
   "outputs": [],
   "source": [
    "%%output max_frames=5000 \n",
    "%%opts Image style(interpolation='nearest', cmap='RdBu')[colorbar=True]\n",
    "holomap"
   ]
  },
  {
   "cell_type": "markdown",
   "metadata": {},
   "source": [
    "Clearly there is a lot of potential. Examples of other parameters you could explore are:\n",
    "* Time\n",
    "* System size\n",
    "* Applied Field\n",
    "* Exchange/DMI/Anisotropy strength\n",
    "* Anisotropy Axis\n",
    "\n",
    "Additionally, other hv objects can be created which can be computed for each slice through the field:\n",
    "* Field profile along an axis\n",
    "* Skyrmion number\n",
    "* Structure factor\n",
    "\n",
    "Here, we use the same data to create a Dynamic Map - to see this, a live notebook server must be used."
   ]
  },
  {
   "cell_type": "code",
   "execution_count": null,
   "metadata": {
    "collapsed": false
   },
   "outputs": [],
   "source": []
  },
  {
   "cell_type": "code",
   "execution_count": null,
   "metadata": {
    "collapsed": false
   },
   "outputs": [],
   "source": [
    "# Here we set the value ranges for the dimensions defined earlier. This \n",
    "physical_dimension.values = ['x', 'y', 'z', None]\n",
    "file.values = files\n",
    "file.value_format = filename_fun\n",
    "slice_dimension.values = list(slicecoords)\n",
    "slice_dimension.values.append(None)"
   ]
  },
  {
   "cell_type": "code",
   "execution_count": null,
   "metadata": {
    "collapsed": true
   },
   "outputs": [],
   "source": [
    "dmap = hv.DynamicMap(field2outofplane, kdims=[file, physical_dimension, slice_dimension])"
   ]
  },
  {
   "cell_type": "code",
   "execution_count": null,
   "metadata": {
    "collapsed": false
   },
   "outputs": [],
   "source": [
    "%%opts Image style(interpolation='nearest', cmap='RdBu')[colorbar=True]\n",
    "dmap"
   ]
  },
  {
   "cell_type": "code",
   "execution_count": null,
   "metadata": {
    "collapsed": true
   },
   "outputs": [],
   "source": [
    "dmap_inplane = hv.DynamicMap(field2inplane, kdims=[file, physical_dimension, slice_dimension])"
   ]
  },
  {
   "cell_type": "code",
   "execution_count": null,
   "metadata": {
    "collapsed": false
   },
   "outputs": [],
   "source": [
    "dmap_inplane"
   ]
  },
  {
   "cell_type": "code",
   "execution_count": null,
   "metadata": {
    "collapsed": true
   },
   "outputs": [],
   "source": []
  },
  {
   "cell_type": "code",
   "execution_count": null,
   "metadata": {
    "collapsed": false
   },
   "outputs": [],
   "source": [
    "dmap + dmap_inplane "
   ]
  },
  {
   "cell_type": "code",
   "execution_count": null,
   "metadata": {
    "collapsed": true
   },
   "outputs": [],
   "source": [
    "import pandas as pd"
   ]
  },
  {
   "cell_type": "code",
   "execution_count": null,
   "metadata": {
    "collapsed": true
   },
   "outputs": [],
   "source": [
    "import oommfodt"
   ]
  },
  {
   "cell_type": "code",
   "execution_count": null,
   "metadata": {
    "collapsed": false
   },
   "outputs": [],
   "source": [
    "odtpath = os.path.join(datafiles, 'cube_example.odt')"
   ]
  },
  {
   "cell_type": "code",
   "execution_count": null,
   "metadata": {
    "collapsed": false
   },
   "outputs": [],
   "source": [
    "odtdata = oommfodt.OOMMFodt(odtpath)"
   ]
  },
  {
   "cell_type": "code",
   "execution_count": null,
   "metadata": {
    "collapsed": false
   },
   "outputs": [],
   "source": []
  },
  {
   "cell_type": "code",
   "execution_count": null,
   "metadata": {
    "collapsed": false
   },
   "outputs": [],
   "source": [
    "def odt2df_fromfiles(files, odtfile):\n",
    "    \"\"\"\n",
    "    odt2df_fromfiles(files)\n",
    "    \n",
    "    Takes a list of omf filenames and selects rows in ODT file which correspond\n",
    "    to these files\n",
    "    \n",
    "    Inputs\n",
    "    ------\n",
    "    files - List of omf file paths\n",
    "    odtfile - path to OOMMF ODT file. This file must have the columns\n",
    "        'stage' and 'iteration' as headers, as these are used\n",
    "        to match up the data. Additionally, OOMMF omf file names must\n",
    "        not have been modified from their original format.\n",
    "    \"\"\"\n",
    "    strarray = [re.findall(r\"[\\w']+\", file)[10:12] for file in files]\n",
    "    relevantfiles = np.array([[int(i[0]), int(i[1])] for i in strarray])\n",
    "    index = pd.DataFrame(relevantfiles, columns = ('stage', 'iteration'))\n",
    "    \n",
    "    odtframe = oommfodt.OOMMFodt(odtfile).df\n",
    "    reduced = pd.merge(index, odtframe)\n",
    "    reduced = reduced.reset_index()\n",
    "    return reduced"
   ]
  },
  {
   "cell_type": "code",
   "execution_count": null,
   "metadata": {
    "collapsed": false
   },
   "outputs": [],
   "source": []
  },
  {
   "cell_type": "code",
   "execution_count": null,
   "metadata": {
    "collapsed": false
   },
   "outputs": [],
   "source": [
    "a = odt2df_fromfiles(files, odtpath)"
   ]
  },
  {
   "cell_type": "code",
   "execution_count": null,
   "metadata": {
    "collapsed": false
   },
   "outputs": [],
   "source": []
  },
  {
   "cell_type": "code",
   "execution_count": null,
   "metadata": {
    "collapsed": false
   },
   "outputs": [],
   "source": [
    "class hvODT:\n",
    "    def __init__(self, odtpath, omfpaths):\n",
    "        self.omfpaths = omfpaths\n",
    "        strarray = [re.findall(r\"[\\w']+\", file)[10:12] for file in omfpaths]\n",
    "        relevantfiles = np.array([[int(i[0]), int(i[1])] for i in strarray])\n",
    "        index = pd.DataFrame(relevantfiles, columns = ('stage', 'iteration'))\n",
    "\n",
    "        odtframe = oommfodt.OOMMFodt(odtpath).df\n",
    "        reduced = pd.merge(index, odtframe)\n",
    "        reduced = reduced.reset_index()\n",
    "        reduced.rename(columns={'index':'File'}, inplace=True)\n",
    "        self.frame = reduced\n",
    "        self.headers = list(reduced.columns)[1:]\n",
    "        self.hv = hv.Table(self.frame)\n",
    "    def get_curve(self, file, graph):\n",
    "        if isinstance(file, str):\n",
    "            try:\n",
    "                index = self.omfpaths.index(file)\n",
    "            except:\n",
    "                raise ValueError(\"File not in list of OMF files\")\n",
    "        else:\n",
    "            index = file\n",
    "        return self.hv.to.curve('File', graph, []) * \\\n",
    "               hv.VLine(index) \n",
    "\n",
    "            \n",
    "odttest = hvODT(odtpath, files)"
   ]
  },
  {
   "cell_type": "code",
   "execution_count": null,
   "metadata": {
    "collapsed": true
   },
   "outputs": [],
   "source": [
    "odttest.headers.append(None)"
   ]
  },
  {
   "cell_type": "code",
   "execution_count": null,
   "metadata": {
    "collapsed": false
   },
   "outputs": [],
   "source": [
    "graphs = hv.Dimension('Graph', values=odttest.headers)"
   ]
  },
  {
   "cell_type": "code",
   "execution_count": null,
   "metadata": {
    "collapsed": false
   },
   "outputs": [],
   "source": []
  },
  {
   "cell_type": "code",
   "execution_count": null,
   "metadata": {
    "collapsed": false
   },
   "outputs": [],
   "source": [
    "dmap_curves = hv.DynamicMap(odttest.get_curve, kdims=[file, graphs])\n"
   ]
  },
  {
   "cell_type": "code",
   "execution_count": null,
   "metadata": {
    "collapsed": false
   },
   "outputs": [],
   "source": [
    "kdims"
   ]
  },
  {
   "cell_type": "code",
   "execution_count": null,
   "metadata": {
    "collapsed": false
   },
   "outputs": [],
   "source": [
    "dmap_curves"
   ]
  },
  {
   "cell_type": "code",
   "execution_count": null,
   "metadata": {
    "collapsed": false,
    "scrolled": true
   },
   "outputs": [],
   "source": [
    "dmap + dmap_inplane + dmap_curves"
   ]
  },
  {
   "cell_type": "code",
   "execution_count": null,
   "metadata": {
    "collapsed": false
   },
   "outputs": [],
   "source": [
    "dmap_curves"
   ]
  },
  {
   "cell_type": "code",
   "execution_count": null,
   "metadata": {
    "collapsed": false
   },
   "outputs": [],
   "source": [
    "hv.__version__"
   ]
  },
  {
   "cell_type": "code",
   "execution_count": null,
   "metadata": {
    "collapsed": false
   },
   "outputs": [],
   "source": [
    "renderer = hv.Store.renderers['matplotlib']"
   ]
  },
  {
   "cell_type": "code",
   "execution_count": null,
   "metadata": {
    "collapsed": false
   },
   "outputs": [],
   "source": [
    "import holoviews as hv\n",
    "import numpy as np\n",
    "hv.notebook_extension('matplotlib')\n",
    "kdims = [file,\n",
    "         hv.Dimension('SliceDimension', values=['x', 'y', 'z']),\n",
    "         hv.Dimension('Coordinates', range=(0.01, 1))]\n",
    "dmap1 = hv.DynamicMap(lambda x, y, z: hv.Image(np.random.rand(10,10)), kdims=kdims)\n",
    "dmap2 = hv.DynamicMap(lambda x: hv.Curve(np.random.rand(10,2))*hv.VLine(x),\n",
    "                     kdims=kdims[:1])\n"
   ]
  },
  {
   "cell_type": "code",
   "execution_count": null,
   "metadata": {
    "collapsed": false
   },
   "outputs": [],
   "source": []
  },
  {
   "cell_type": "code",
   "execution_count": null,
   "metadata": {
    "collapsed": false
   },
   "outputs": [],
   "source": []
  },
  {
   "cell_type": "code",
   "execution_count": 2,
   "metadata": {
    "collapsed": true
   },
   "outputs": [],
   "source": [
    "import fieldhandler"
   ]
  },
  {
   "cell_type": "code",
   "execution_count": 3,
   "metadata": {
    "collapsed": false
   },
   "outputs": [],
   "source": [
    "import glob\n"
   ]
  },
  {
   "cell_type": "code",
   "execution_count": 4,
   "metadata": {
    "collapsed": false
   },
   "outputs": [],
   "source": [
    "file_list = sorted(glob.glob('examples/dynamic_sim/*.omf'))"
   ]
  },
  {
   "cell_type": "code",
   "execution_count": 6,
   "metadata": {
    "collapsed": true
   },
   "outputs": [],
   "source": [
    "fieldhandler.create_outofplane_dynamic_map?"
   ]
  },
  {
   "cell_type": "code",
   "execution_count": 17,
   "metadata": {
    "collapsed": false
   },
   "outputs": [
    {
     "data": {
      "text/html": [
       "<div class=\"hololayout row row-fluid\">\n",
       "  <div class=\"holoframe\" id=\"display_area9f35b732ded941eb9cbc24900a5fc8eb\">\n",
       "    <div id=\"_anim_img9f35b732ded941eb9cbc24900a5fc8eb\">\n",
       "      \n",
       "      \n",
       "      \n",
       "    </div>\n",
       "  </div>\n",
       "  <div class=\"holowidgets\" id=\"widget_area9f35b732ded941eb9cbc24900a5fc8eb\">\n",
       "    <form class=\"holoform well\" id=\"form9f35b732ded941eb9cbc24900a5fc8eb\">\n",
       "      \n",
       "      \n",
       "        <div class=\"form-group control-group holoformgroup\" style=''>\n",
       "          <label for=\"textInput9f35b732ded941eb9cbc24900a5fc8eb_field\"><strong>field:</strong></label>\n",
       "          <select class=\"holoselect form-control\" id=\"_anim_widget9f35b732ded941eb9cbc24900a5fc8eb_field\" >\n",
       "          </select>\n",
       "        </div>\n",
       "        <script>\n",
       "        var vals = [0, 1, 2, 3, 4, 5, 6, 7, 8, 9, 10, 11, 12, 13, 14, 15, 16, 17, 18, 19, 20, 21, 22, 23, 24, 25, 26, 27, 28, 29, 30, 31, 32, 33, 34, 35, 36, 37, 38, 39, 40, 41, 42, 43, 44, 45, 46, 47, 48, 49, 50, 51, 52, 53, 54, 55, 56, 57, 58, 59, 60, 61, 62, 63, 64, 65, 66, 67, 68, 69, 70, 71, 72, 73, 74, 75, 76, 77, 78, 79, 80, 81, 82, 83, 84, 85, 86, 87, 88, 89, 90, 91, 92, 93, 94, 95, 96, 97, 98, 99, 100, 101, 102, 103, 104, 105, 106, 107, 108, 109, 110, 111, 112, 113, 114, 115, 116, 117, 118, 119, 120, 121, 122, 123, 124, 125, 126, 127, 128, 129, 130, 131, 132, 133, 134, 135, 136, 137, 138, 139, 140, 141, 142, 143, 144, 145, 146, 147, 148, 149, 150, 151, 152, 153, 154, 155, 156, 157, 158, 159, 160, 161, 162, 163, 164, 165, 166, 167, 168, 169, 170, 171, 172, 173, 174, 175, 176, 177, 178, 179, 180, 181, 182, 183, 184, 185, 186, 187, 188, 189, 190, 191, 192, 193, 194, 195, 196, 197, 198, 199];\n",
       "        var labels = ['0.0', '1.0', '2.0', '3.0', '4.0', '5.0', '6.0', '7.0', '8.0', '9.0', '10.0', '11.0', '12.0', '13.0', '14.0', '15.0', '16.0', '17.0', '18.0', '19.0', '20.0', '21.0', '22.0', '23.0', '24.0', '25.0', '26.0', '27.0', '28.0', '29.0', '30.0', '31.0', '32.0', '33.0', '34.0', '35.0', '36.0', '37.0', '38.0', '39.0', '40.0', '41.0', '42.0', '43.0', '44.0', '45.0', '46.0', '47.0', '48.0', '49.0', '50.0', '51.0', '52.0', '53.0', '54.0', '55.0', '56.0', '57.0', '58.0', '59.0', '60.0', '61.0', '62.0', '63.0', '64.0', '65.0', '66.0', '67.0', '68.0', '69.0', '70.0', '71.0', '72.0', '73.0', '74.0', '75.0', '76.0', '77.0', '78.0', '79.0', '80.0', '81.0', '82.0', '83.0', '84.0', '85.0', '86.0', '87.0', '88.0', '89.0', '90.0', '91.0', '92.0', '93.0', '94.0', '95.0', '96.0', '97.0', '98.0', '99.0', '100.0', '101.0', '102.0', '103.0', '104.0', '105.0', '106.0', '107.0', '108.0', '109.0', '110.0', '111.0', '112.0', '113.0', '114.0', '115.0', '116.0', '117.0', '118.0', '119.0', '120.0', '121.0', '122.0', '123.0', '124.0', '125.0', '126.0', '127.0', '128.0', '129.0', '130.0', '131.0', '132.0', '133.0', '134.0', '135.0', '136.0', '137.0', '138.0', '139.0', '140.0', '141.0', '142.0', '143.0', '144.0', '145.0', '146.0', '147.0', '148.0', '149.0', '150.0', '151.0', '152.0', '153.0', '154.0', '155.0', '156.0', '157.0', '158.0', '159.0', '160.0', '161.0', '162.0', '163.0', '164.0', '165.0', '166.0', '167.0', '168.0', '169.0', '170.0', '171.0', '172.0', '173.0', '174.0', '175.0', '176.0', '177.0', '178.0', '179.0', '180.0', '181.0', '182.0', '183.0', '184.0', '185.0', '186.0', '187.0', '188.0', '189.0', '190.0', '191.0', '192.0', '193.0', '194.0', '195.0', '196.0', '197.0', '198.0', '199.0'];\n",
       "        var widget = $(\"#_anim_widget9f35b732ded941eb9cbc24900a5fc8eb_field\");\n",
       "        widget.data('values', vals)\n",
       "        for (var i=0; i<vals.length; i++){\n",
       "\t\t\tif (\"bounded\") {\n",
       "\t\t       var val = vals[i];\n",
       "\t\t\t} else {\n",
       "\t\t\t   var val = i;\n",
       "\t\t\t}\n",
       "            widget.append($(\"<option>\", {\n",
       "                value: val,\n",
       "                text: labels[i]\n",
       "            }));\n",
       "        };\n",
       "        widget.data(\"next_vals\", {});\n",
       "        widget.on('change', function(event, ui) {\n",
       "\t\t    if (\"bounded\") {\n",
       "                var dim_val = parseInt(this.value);\n",
       "\t\t\t} else {\n",
       "\t\t\t    var dim_val = $.data(this, 'values')[this.value];\n",
       "\t\t\t}\n",
       "            var next_vals = $.data(this, \"next_vals\");\n",
       "            if (Object.keys(next_vals).length > 0) {\n",
       "                var new_vals = next_vals[dim_val];\n",
       "                var next_widget = $('#_anim_widget9f35b732ded941eb9cbc24900a5fc8eb_');\n",
       "                update_widget(next_widget, new_vals);\n",
       "            }\n",
       "\t\t\tif (anim9f35b732ded941eb9cbc24900a5fc8eb) {\n",
       "                anim9f35b732ded941eb9cbc24900a5fc8eb.set_frame(dim_val, 0);\n",
       "            }\n",
       "\n",
       "        });\n",
       "        </script>\n",
       "        \n",
       "        \n",
       "      \n",
       "        <div class=\"form-group control-group holoformgroup\" style=''>\n",
       "          <label for=\"textInput9f35b732ded941eb9cbc24900a5fc8eb_slice_axis\"><strong>slice_axis:</strong></label>\n",
       "          <select class=\"holoselect form-control\" id=\"_anim_widget9f35b732ded941eb9cbc24900a5fc8eb_slice_axis\" >\n",
       "          </select>\n",
       "        </div>\n",
       "        <script>\n",
       "        var vals = [0];\n",
       "        var labels = ['x'];\n",
       "        var widget = $(\"#_anim_widget9f35b732ded941eb9cbc24900a5fc8eb_slice_axis\");\n",
       "        widget.data('values', vals)\n",
       "        for (var i=0; i<vals.length; i++){\n",
       "\t\t\tif (\"bounded\") {\n",
       "\t\t       var val = vals[i];\n",
       "\t\t\t} else {\n",
       "\t\t\t   var val = i;\n",
       "\t\t\t}\n",
       "            widget.append($(\"<option>\", {\n",
       "                value: val,\n",
       "                text: labels[i]\n",
       "            }));\n",
       "        };\n",
       "        widget.data(\"next_vals\", {});\n",
       "        widget.on('change', function(event, ui) {\n",
       "\t\t    if (\"bounded\") {\n",
       "                var dim_val = parseInt(this.value);\n",
       "\t\t\t} else {\n",
       "\t\t\t    var dim_val = $.data(this, 'values')[this.value];\n",
       "\t\t\t}\n",
       "            var next_vals = $.data(this, \"next_vals\");\n",
       "            if (Object.keys(next_vals).length > 0) {\n",
       "                var new_vals = next_vals[dim_val];\n",
       "                var next_widget = $('#_anim_widget9f35b732ded941eb9cbc24900a5fc8eb_');\n",
       "                update_widget(next_widget, new_vals);\n",
       "            }\n",
       "\t\t\tif (anim9f35b732ded941eb9cbc24900a5fc8eb) {\n",
       "                anim9f35b732ded941eb9cbc24900a5fc8eb.set_frame(dim_val, 1);\n",
       "            }\n",
       "\n",
       "        });\n",
       "        </script>\n",
       "        \n",
       "        \n",
       "      \n",
       "      <div class=\"form-group control-group holoformgroup\" style=''>\n",
       "        <label for=\"textInput9f35b732ded941eb9cbc24900a5fc8eb_slice_coord\">\n",
       "          <strong>slice_coord:</strong>\n",
       "        </label>\n",
       "        <div class=\"holowell row row-fluid\">\n",
       "          <div class=\"hologroup\">\n",
       "            <input type=\"text\" class=\"holotext form-control input-small\"\n",
       "                   id=\"textInput9f35b732ded941eb9cbc24900a5fc8eb_slice_coord\" value=\"\" readonly>\n",
       "          </div>\n",
       "          <div class=\"holoslider\"\n",
       "               id=\"_anim_widget9f35b732ded941eb9cbc24900a5fc8eb_slice_coord\"></div>\n",
       "        </div>\n",
       "      </div>\n",
       "\t  <script>\n",
       "        // Slider JS Block START\n",
       "        function loadcssfile(filename){\n",
       "            var fileref=document.createElement(\"link\")\n",
       "            fileref.setAttribute(\"rel\", \"stylesheet\")\n",
       "            fileref.setAttribute(\"type\", \"text/css\")\n",
       "            fileref.setAttribute(\"href\", filename)\n",
       "            document.getElementsByTagName(\"head\")[0].appendChild(fileref)\n",
       "        }\n",
       "        loadcssfile(\"https://code.jquery.com/ui/1.10.4/themes/smoothness/jquery-ui.css\");\n",
       "        /* Check if jQuery and jQueryUI have been loaded\n",
       "           otherwise load with require.js */\n",
       "        var jQuery = window.jQuery,\n",
       "            // check for old versions of jQuery\n",
       "            oldjQuery = jQuery && !!jQuery.fn.jquery.match(/^1\\.[0-4](\\.|$)/),\n",
       "            jquery_path = '',\n",
       "            paths = {},\n",
       "            noConflict;\n",
       "        var jQueryUI = jQuery.ui;\n",
       "        // check for jQuery\n",
       "        if (!jQuery || oldjQuery) {\n",
       "            // load if it's not available or doesn't meet min standards\n",
       "            paths.jQuery = jQuery;\n",
       "            noConflict = !!oldjQuery;\n",
       "        } else {\n",
       "            // register the current jQuery\n",
       "            define('jquery', [], function() { return jQuery; });\n",
       "        }\n",
       "        if (!jQueryUI) {\n",
       "            paths.jQueryUI = \"https://code.jquery.com/ui/1.10.4/jquery-ui.min\"\n",
       "        } else {\n",
       "            define('jQueryUI', [], function() { return jQuery.ui; });\n",
       "        }\n",
       "        paths.underscore = \"https://cdnjs.cloudflare.com/ajax/libs/underscore.js/1.8.3/underscore-min\";\n",
       "        var jquery_require = {\n",
       "            paths: paths,\n",
       "            shim: {\n",
       "                \"jQueryUI\": {\n",
       "                    exports:\"$\",\n",
       "                    deps: ['jquery']\n",
       "                },\n",
       "                \"underscore\": {\n",
       "                    exports: '_'\n",
       "                }\n",
       "            }\n",
       "        }\n",
       "        require.config(jquery_require);\n",
       "        require([\"jQueryUI\", \"underscore\"], function(jUI, _){\n",
       "            if (noConflict) $.noConflict(true);\n",
       "            var vals = {0: 0, 1: 1, 2: 2, 3: 3, 4: 4, 5: 5, 6: 6, 7: 7, 8: 8, 9: 9, 10: 10, 11: 11, 12: 12, 13: 13, 14: 14, 15: 15, 16: 16, 17: 17, 18: 18, 19: 19, 20: 20, 21: 21, 22: 22, 23: 23, 24: 24, 25: 25, 26: 26, 27: 27, 28: 28, 29: 29, 30: 30, 31: 31, 32: 32, 33: 33, 34: 34, 35: 35, 36: 36, 37: 37, 38: 38, 39: 39};\n",
       "            var next_vals = {};\n",
       "            if (\"bounded\" && vals.constructor === Array) {\n",
       "                var min = parseFloat(vals[0]);\n",
       "                var max = parseFloat(vals[vals.length-1]);\n",
       "                var step = 1;\n",
       "                var labels = [min];\n",
       "            } else {\n",
       "                var min = 0;\n",
       "                if (\"bounded\") {\n",
       "                    var max = Object.keys(vals).length - 1;\n",
       "                } else {\n",
       "                    var max = vals.length - 1;\n",
       "                }\n",
       "                var step = 1;\n",
       "\t\t\t\tvar labels = ['0', '2.5641e-09', '5.1282e-09', '7.6923e-09', '1.0256e-08', '1.2821e-08', '1.5385e-08', '1.7949e-08', '2.0513e-08', '2.3077e-08', '2.5641e-08', '2.8205e-08', '3.0769e-08', '3.3333e-08', '3.5897e-08', '3.8462e-08', '4.1026e-08', '4.359e-08', '4.6154e-08', '4.8718e-08', '5.1282e-08', '5.3846e-08', '5.641e-08', '5.8974e-08', '6.1538e-08', '6.4103e-08', '6.6667e-08', '6.9231e-08', '7.1795e-08', '7.4359e-08', '7.6923e-08', '7.9487e-08', '8.2051e-08', '8.4615e-08', '8.7179e-08', '8.9744e-08', '9.2308e-08', '9.4872e-08', '9.7436e-08', '1e-07'];\n",
       "            }\n",
       "\t\t\tfunction adjustFontSize(text) {\n",
       "\t\t\t\tvar width_ratio = (text.parent().width()/8)/text.val().length;\n",
       "\t\t\t\tvar size = Math.min(0.9, Math.max(0.6, width_ratio))+'em';\n",
       "\t\t\t\ttext.css('font-size', size);\n",
       "\t\t\t}\n",
       "            var slider = $('#_anim_widget9f35b732ded941eb9cbc24900a5fc8eb_slice_coord');\n",
       "            slider.slider({\n",
       "                animate: \"fast\",\n",
       "                min: min,\n",
       "                max: max,\n",
       "                step: step,\n",
       "                value: min,\n",
       "                dim_vals: vals,\n",
       "                dim_labels: labels,\n",
       "                next_vals: next_vals,\n",
       "                slide: function(event, ui) {\n",
       "                    var vals = slider.slider(\"option\", \"dim_vals\");\n",
       "                    var next_vals = slider.slider(\"option\", \"next_vals\");\n",
       "                    var labels = slider.slider(\"option\", \"dim_labels\");\n",
       "                    if (\"bounded\") {\n",
       "\t\t\t\t\t    var dim_val = ui.value;\n",
       "\t\t\t\t\t    if (vals.constructor === Array) {\n",
       "\t\t\t\t\t\t   var label = ui.value;\n",
       "\t\t\t\t\t\t} else {\n",
       "\t\t\t\t\t\t   var label = labels[ui.value];\n",
       "\t\t\t\t\t\t}\n",
       "                    } else {\n",
       "                        var dim_val = vals[ui.value];\n",
       "\t\t\t\t\t\tvar label = labels[ui.value];\n",
       "                    }\n",
       "\t\t\t\t\tvar text = $('#textInput9f35b732ded941eb9cbc24900a5fc8eb_slice_coord');\n",
       "\t\t\t\t\ttext.val(label);\n",
       "\t\t\t\t\tadjustFontSize(text);\n",
       "                    anim9f35b732ded941eb9cbc24900a5fc8eb.set_frame(dim_val, 2);\n",
       "                    if (Object.keys(next_vals).length > 0) {\n",
       "                        var new_vals = next_vals[dim_val];\n",
       "                        var next_widget = $('#_anim_widget9f35b732ded941eb9cbc24900a5fc8eb_');\n",
       "                        update_widget(next_widget, new_vals);\n",
       "                    }\n",
       "                }\n",
       "            });\n",
       "            slider.keypress(function(event) {\n",
       "                if (event.which == 80 || event.which == 112) {\n",
       "                    var start = slider.slider(\"option\", \"value\");\n",
       "                    var stop =  slider.slider(\"option\", \"max\");\n",
       "                    for (var i=start; i<=stop; i++) {\n",
       "                        var delay = i*50;\n",
       "                        $.proxy(function doSetTimeout(i) { setTimeout($.proxy(function() {\n",
       "                            var val = {value:i};\n",
       "                            slider.slider('value',i);\n",
       "                            slider.slider(\"option\", \"slide\")(null, val);\n",
       "                        }, slider), delay);}, slider)(i);\n",
       "                    }\n",
       "                }\n",
       "                if (event.which == 82 || event.which == 114) {\n",
       "                    var start = slider.slider(\"option\", \"value\");\n",
       "                    var stop =  slider.slider(\"option\", \"min\");\n",
       "                    var count = 0;\n",
       "                    for (var i=start; i>=stop; i--) {\n",
       "                        var delay = count*50;\n",
       "                        count = count + 1;\n",
       "                        $.proxy(function doSetTimeout(i) { setTimeout($.proxy(function() {\n",
       "                            var val = {value:i};\n",
       "                            slider.slider('value',i);\n",
       "                            slider.slider(\"option\", \"slide\")(null, val);\n",
       "                        }, slider), delay);}, slider)(i);\n",
       "                    }\n",
       "                }\n",
       "            });\n",
       "\t\t\tvar textInput = $('#textInput9f35b732ded941eb9cbc24900a5fc8eb_slice_coord')\n",
       "\t\t\ttextInput.val(labels[0]);\n",
       "\t\t\tadjustFontSize(textInput);\n",
       "        });\n",
       "        // Slider JS Block END\n",
       "        </script>\n",
       "        \n",
       "        \n",
       "        </form>\n",
       "    </div>\n",
       "</div>\n",
       "\n",
       "\n",
       "<script language=\"javascript\">\n",
       "/* Instantiate the MPLSelectionWidget class. */\n",
       "/* The IDs given should match those used in the template above. */\n",
       "(function() {\n",
       "\tif (jQuery.ui !== undefined) {\n",
       "\t\t$(\"#display_area9f35b732ded941eb9cbc24900a5fc8eb\").resizable({\n",
       "\t\t\tresize: function(event, ui) {\n",
       "\t\t\t\t$(\"#widget_area9f35b732ded941eb9cbc24900a5fc8eb\").width($(this).parent().width()-ui.size.width);\n",
       "\t\t\t}\n",
       "\t\t});\n",
       "\t\t$(\"#widget_area9f35b732ded941eb9cbc24900a5fc8eb\").resizable();\n",
       "\t}\n",
       "    var widget_ids = new Array(3);\n",
       "    \n",
       "    widget_ids[0] = \"_anim_widget9f35b732ded941eb9cbc24900a5fc8eb_field\";\n",
       "    \n",
       "    widget_ids[1] = \"_anim_widget9f35b732ded941eb9cbc24900a5fc8eb_slice_axis\";\n",
       "    \n",
       "    widget_ids[2] = \"_anim_widget9f35b732ded941eb9cbc24900a5fc8eb_slice_coord\";\n",
       "    \n",
       "    var frame_data = {\"0\": \"<img src='data:image/png;base64,iVBORw0KGgoAAAANSUhEUgAAAPwAAAEaCAYAAAA1wTpMAAAABHNCSVQICAgIfAhkiAAAAAlwSFlzAAALEgAACxIB0t1+/AAAIABJREFUeJzsfXd4VVXW/pvee++FhPTk5iYhoYQSehURFetYR8YZv9+Mjw1BBRUQFWF0sI0FkC4gHRECAQSSkBBagABCIKT3nptb9u8Pvnu/nLP2DSfeAAbveh4ekpVzznvOPmXv/e611mvCGGMwmtGM9qcw07t9AkYzmtHunBlfeKMZ7U9kxhfeaEb7E5nxhTea0f5EZnzhjWa0P5EZX3gDLSQkBOfOnevVY44YMQK7du3q1WPqsxUrVsDU1BRffPGFwB8aGgpPT887cg5iO3XqFH788UeBTy6XQ6FQ/CGO15fN+MIbDYmJiVi5cqXu96ysLLi6ut618ykoKMCGDRsEvhMnTsDKyuoPcby+bMYXvhdtxIgReO2115Ceno6wsDDMmjWr223/9a9/ITU1Ff3798fs2bO5261duxZpaWlISkpCUlIS9u/fr/tbSEgI3nnnHQwaNAihoaFYtmyZ7m8XL17EhAkTkJqaisTERKxYsULvuYSGhsLGxgYXLlwAACxfvhxPP/20YJvHH38cAwYMQEJCAh544AE0Njbq/jZ79myEh4dj4MCBeOONN5CSkgIAOHjwIBITEzFz5kwkJCQgMTERRUVFuv1WrlyJtLQ0pKSkYNSoUbh06RLq6urwzjvvIDMzE3K5HP/85z8BAKampmhrawNjDC+++CKio6ORmJiI9PR0AIBarca4ceMwYMAAxMXF4dlnn4VKpbrl8QDg+PHjGDRoEGQyGQYPHoy8vDwAwLVr1+Dh4YE5c+ZALpcjKioKR48e1duOfcKY0Qyy4OBgVlhYyBhjbPjw4WzGjBmMMcYaGxuZu7s7u3z5Mne/4cOHs7FjxzKNRsNaWlpYXFwc27lzp+5v2p/r6up0+xQVFTF/f38B9quvvsoYY6y4uJjZ29uz1tZWplKpWFJSEisqKmKMMdbc3MwiIiJ0v3e15cuXswcffJAtX76cvf7666ylpYWFhYWx3377jXl4eOi2q62t1f08Z84cNmvWLMYYY9u2bWMymYy1t7czxhibNm0aS0lJYYwxlpWVxSwtLdmpU6cYY4zNnz+fPf7444wxxg4fPswmTpzIOjs7GWOM7d69mw0ePFhwTl3N1NSUtba2soKCAhYVFaXzNzQ06H7u2lZPPvkk++qrr255vM7OThYYGMgOHDjAGGNs3759LDAwkCmVSlZcXMxMTEzYrl27GGOMrV69WneOfdXM7/YH516zBx98EADg6OiIqKgo/Pbbb+jXrx9327/85S8wMTGBnZ0dZsyYgf3792PChAmCbS5fvow5c+agtLQUFhYWqKysRFVVlW5+PWPGDABAUFAQXF1dcePGDajVapw/fx4zZswA+99Ays7OTpw/fx79+/fXe95yuRzh4eGYOnUqzMzMBH9fvnw51qxZg87OTrS1temOk5WVhYceegjW1ta6a3r//fd1+0VERCA+Ph4AkJaWhh07dgAAtm/fjtOnTyM1NRWMMTDGBKMGsWmvIzQ0FCqVCs8++yxGjBiBSZMmAQA0Gg0+/PBD/Pzzz1Cr1WhoaICdnZ3e42mtqKgIVlZWGD58OABg5MiRsLKyQlFREezt7eHg4IDx48frzv+VV1655TH/yGZ84XvZtA8+AJiZmUGlUuHs2bN44oknYGJighEjRmDx4sWSj/fII49gyZIlmDx5MhhjsLW1RUdHBxfP1NQUKpUKAODh4YETJ05IxrG1tUVaWhpmzZqFAwcOCP52+PBhfPnll8jOzoarqyvWrl2L//73v5KOy2sP4OYL/Mwzz2Du3LmSjmNiYgLg5oe0sLAQWVlZ2Lt3L15//XUUFBTgl19+wdGjR3HkyBHY2tpi4cKFuHTpkqRji411iTbvOs/vev591Yxz+DtgsbGxKCgowIkTJwQv+6pVq6BWq9Ha2ooNGzZg5MiRZN/GxkYEBwcDAL799lt0dnbeEi8iIgK2trZYtWqVzldUVISWlpZu93v99dcxd+5cxMTEAPi/B7+xsRHOzs5wcXGBQqHAd999p9tn+PDh2LhxI9rb26HRaPDDDz/c8vwAYPLkyVi5ciVKS0sB3OyhtR8oR0dH0ttrz6Wmpgatra0YPXo0PvjgAzg7O+PKlStoaGiAu7s7bG1t0djYiDVr1uj27e54ERER6OzsxMGDBwEA+/fvh0qlQkREhGA78X591YwvvIGm7XnEP/N+F1tkZCQGDRqExMRETJ48WTd07LrfkiVLcN999yE5ORnFxcVwc3O7JZ6ZmRm2b9+OdevWQSaTITY2Fn//+99v+bGIiorCiy++SI43btw4hIaGon///hgxYgSSkpJ020yePBljx45FQkICBg0aBF9fXzg5OXWLAwDp6emYP38+pkyZgsTERMTFxWHbtm0Abg6rW1pakJiYqCPZtOdSUlKCUaNGITExEQkJCZgwYQLS0tLw5JNPoqmpCdHR0bjvvvswdOhQHVZ3x7OwsMCmTZswa9YsyGQyvPXWW9i0aRPMzc27beO+aiasr3+y+qiNGDECr776Kpmz90VraWmBvb09GGN47rnn4Ofnh3ffffdun5bROGacw98l6+s9RVd78sknUVxcjPb2diQnJ+O1116726dkND1m7OGNZrQ/kRnn8EYz2p/IjC+80Yz2JzLjC3+HbOvWrYiOjkZSUhIuXrwoOXmjawio2KQm7rS3t2PGjBkIDw9HdHQ0du7c2ePz13dOkyZNwtWrVw06Xm/ZnzUhpidmJO3ukH311Vd477338MADDwCA5KCY7sg9qcTfxx9/DCcnJ1y6dAmXL19Geno6fvvtN9ja2kravztcbeTcH8F6Emj0ZzVjD38H7OWXX8bhw4fx2muv6YJruvaS4kSX5cuX6/btyqkePnwY8fHxSEhIwEsvvSQ5CGT9+vV44YUXAABhYWFISUnB7t27b7nfvHnzEB0dDblcjqSkJDQ1NZFz6jrKKCsrw/Tp05GQkACZTIZFixYBAJqbm/H8888jLS0NMpkM//rXv7o998rKSmRkZCAlJQVxcXF44403dH97/vnn8fLLL+u2Cw0NxenTpwHcOsGmOysqKkJgYCBKSkp01/7oo4/ecr8+Z3cycP/PbF0TYhj7v+SNWyW6mJiYsNbWVqZQKJifnx87dOgQY4yxDRs2MFNTU13izttvv61LFhGbg4MDq6mp0f3+4osvsiVLlnR7vnV1dczZ2Zl1dHQwxhhraWlharVacE6MCZOHRowYwRYvXqw7hjbh5rnnnmOrVq1ijDGm0WjYI488wr755hu92AqFQnd8pVLJMjIy2J49exhjjLW3t7OEhAS2ZcsWNmrUKPbll1+SNu0uwWbChAksPz+fi7tq1SqWlpbGfvnlFxYZGclaWlq6baO+aMYh/V0y9r893MWLFyUluhQVFcHOzk7XWz344IP461//qvv7vHnz9GL9njV/JycnhIeH48knn8To0aMxadKkbpNRWltbcfToUWRmZup82pz6bdu24fjx4/j4448B3OQUAgIC9B5LpVLhlVdewdGjR8EYQ2VlJU6ePIkxY8bA2toa69evR3JyMsaPH68buQC3TrAB0C1/8dhjj2Hfvn2YOnUqjhw5Iin5pq+Z8YW/S6Z9CRlj3Sa69MYcPjAwENeuXdOF5V6/fh0ZGRnd7mNqaors7GwcOXIEmZmZSEpKwp49exAbG9vt+TDGuOe1ZcsWXU7AreyTTz5BQ0MDjh8/DgsLC7zwwguChKHCwkI4OTmhoqICGo0GpqamOnxAf4LNrSr4KJVKFBYWwsXFBeXl5ZDJZJLOty+ZcQ5/l4x1Sd7oLtGl63bt7e04cuQIAGDjxo3dppN2tenTp+Orr74CAFy6dAl5eXkYN24cAGDZsmV48803yT4tLS2oqqpCeno65s6di9jYWJw9e1Yvhp2dHQYNGoQlS5bofLW1tQCAKVOmYOHChdBoNDp/cXGx3mM1NDTAx8cHFhYWKC0txdatW3V/u3r1Kl5++WUcPHgQ/fr1ExQOYbdIsLmVvfLKK0hOTsbevXsxc+ZMlJWV3XKfvmbGF/4O2e9NdNFuZ2lpibVr1+Jvf/sbZDIZDh06hMDAQN3x3nnnHXz99ddc7FdffRX19fUIDw/HlClT8N///lc3XD1//jzc3d3JPo2NjZg6dSpkMhni4uLg4+ODadOmkWvp+vMPP/yAX3/9FXFxcUhMTNRl1S1ZsgRmZmZISEhAfHw8xo8f3+3L9D//8z/49ddfER8fj+effx6jRo0CcLMHnjFjBhYtWoR+/fph2bJl2L59O/bs2SM4F30JNgAwceJE7mhq69atOHToEJYuXYqoqCjMnTsXjzzyiO4jda+YMbT2T24jRozAjh077sn5qtGoGV94oxntT2RG0s5od83uu+8+3bo3cHMOHhQUhC1bttzFs7q3zdjDG81ofyIzknZ93A4ePKgrC11eXs4tk9XXrOs13cqys7Mhk8kQGRmJcePGoaam5jafXd824wt/D5iWnfbx8REEvvQFU6vVXL+UGAPGGJ544gl88cUXuHDhAtLT0/H666/39ineU9YnX/hXX30VoaGhMDU17TWZJ6VSicTERMjlcsjlckRERMDS0hINDQ29cnxDrb29HQ899BBiY2ORmJioK0/d1bTCCVo7duwY0tPTIZPJkJiYiH379gHomUgFcLNtXn31Vd1ymzYBSKPR4JVXXkFcXBzi4+Px6quv6tbCq6qqMG3aNCQkJCAhIUFQ3DIkJASzZs1CamoqZs6cCQCYM2cOwsPDkZqaKjmbLz8/HzY2Nhg4cCAAYObMmURhxmgiu9OxvL1hR44cYTdu3GAhISG6OO7etqVLl7LJkyfflmP/Hvvpp5/YuHHjdL9r48OzsrJ0wg/FxcU68Yi6ujrm7e3NsrOzGWM3Y9gbGhp6JFKhtXnz5rEHHniAqVQqxtj/xch/8cUXbPTo0UylUjGlUslGjhypi21/+OGH2dtvv80YY6y8vJz5+vrq7lVwcDD7+9//rjv+9u3bWUJCAmtra2MajYZNnjxZd02MMSaTyVh5eTk5r02bNrFJkyYJfHZ2dqy+vr77xvwTW5/s4QcNGgQ/Pz+ScZWbm6vLskpJSTFIkPH777/HM888Y+ip9polJCTg/PnzeOmll7Bx40ZYWlp2u/2xY8cQExOD1NRUADeHyE5OToLYfW0mmTZ2X5/t2LED//znP3XiFNoY+X379uGpp56CmZkZzM3N8fTTT+tGEfv27dPFuXt7e2PChAmCevdPPvmk7ucDBw7g4Ycfho2NDUxMTPDss88K8AsKCuDt7S2pncTPhNGEds8syzU2NmLmzJnYvXs3vLy8UFFRgZSUFBQWFsLR0bFHx8rLy0NFRQUmT558m8625xYSEoLCwkJkZmZi165dePPNN7sNddVn7Bax+3fK7O3tDT5GYGCgIES3pqYGZmZmcHZ2NvjY96r1yR6eZ0ePHsXVq1cxfvx4JCYmYvz48TA1NcXly5cB3FRi8fT0FPzz8PDgJkh8//33ePzxx4nc0t200tJSmJqaYsqUKfjkk09QU1ODuro6sp22hxs4cCDOnTuHnJwcADfn2w0NDb9LpGLSpElYunQplEolgP+LkR81ahRWrFgBlUoFpVKJFStWYMyYMQCA0aNH69RpKioqsHv3br0rCBkZGdiwYQPa2tqgVqvx/fffS2qTpKQkdHR06AQev/zyS53Ul9H02N2dURhmXXOxd+7cyYYNG2bwMTs6OpiLi8tt4wZ+r+3evZslJCSwhIQEFhcXxz766CPGmP45PGOMHTt2jA0cOJDFx8ezxMRElpmZyRhj7PLly2zixIksISGBxcTEsJEjRwrEIsWmUCjYyy+/zKKjo1liYqJOmFGtVrNXXnmFxcbGsri4OPbqq68yjUbDGGOssrKSTZ06lcXHx7P4+HhdPjxjjMu9zJkzh4WFhbEBAwaw1157TdIcXnuNcXFxrH///mzMmDGsqqpKcpv+Ge2eeeHr6+uZr6+vTgWUMcaOHz/e42OuXr2apaam9tYpGs1ofyjrk5F2/+///T9s3rwZlZWVcHd3h5ubG86cOYP8/Hy88soraGhogEKhQL9+/bB9+/YeHXvMmDF48MEH8fzzz9+mszea0e6e9ckX3mi9b9XV1RgzZoygMIeJiQmmTZuGOXPm3OWzM1pvmfGFN5rR/kR2z7D0RjOa0W5tfW4d/l4SYTSa0W6X6Ru498kevqGhQfdvzpw5gt8bGhqwYsUK5ObmCnw5OTlYsWIF2Za3/+zZsyX5ePuuWrUKR48eFfjy8/Px3Xff/W4cnu+dd95BTU2NwLdu3TocOnRI4Dt58iS+/vrrXsV+7733UFFRIfBt3LgRBw4cEPjOnj2Lzz//vFexFyxYgBs3bgh8W7Zswd69ewW+Cxcu4NNPP+1V7A8//BDFxcUC3/bt2/Hzzz8LfJcvX8aSJUt+9zPE2+6TTz7Bb7/9JvDt3r0bO3bsEPi6qxUI9MEeXmy8SqQODg6wsrIS+KysrODg4CBpf0N8Dg4OsLGxEfgsLS250X6G4HRNktGavb09wbaysoKTk1OvYru5uZGRlp2dHfe6eVFvhmC7u7vrqtRqzdbWlqjoWFhYwMXFpVex3dzcSDCWra0tLCwsBD5zc3Nd+HFvYbu6unKxxTX3xG0jtj7Zw3c1pVKpiwDTWkdHBxnSMMZ0hSG11tnZCZVKRY7Z3t4uyadSqYiWmUKhIDeBMSYos6zvvHuKLT73zs5Ogq3RaAi2Wq0mbdFTbHFaqz5scfvwfD3BVigUBFupVBKfPmxxW3SHLX6GOjo6yDXy2oKHwxjj4vB0A3nYUp+BWxXd7PMv/IYNG3ShlVr7+eef8fPPPwt8u3fvJr6jR4/ixx9/FPjKy8vx0UcfCRpSrVbj448/RmlpqWDbH3/8UVc2uiu2WMaJdz7Z2dlYv369wFdVVYVFixYJPgQajQZLlizB9evXBdtu2rQJhw4duuU17tmzh5xPbm4u1qxZI/DV1tbigw8+EHwIGGP49NNPiVjkTz/9hKysrFte4y+//EISmPLz8wWpssDNKdrChQsFLwljDP/5z39w6dIlwbZbt24VJOF0hy1Osz158iRJBW5sbMSCBQsELxRjDF9++SUuXLgg2Hbbtm3Yv38/wRa37969e4nm3unTp3VVfLXW3NyMBQsWoLW1VeD/5ptvSJ7Ejh07sHfvXoGPd79vVQ+hzw/phwwZggEDBgh8AwcORHR0tMA3aNAgnRCD1gYMGIDBgwcLfM7Oznj22WcFX1iNRoOnn36aDNMGDRqky8Xuit2vXz/iE1eFTU5OxtChQwU+BwcHPP/88wT7ySefJEP4gQMHEmxtFqF4O3Nz4W2WyWTIyMgQiEbY2dkJlGyAmx+6xx57jGSqDRw4EIMGDSI+cbnrgQMHkh4oNjYWY8aMEWBbW1vjhRdeEAxHNRoNZsyYAX9/f0nY4mScQYMGkRcpMjIS48ePF2BbWVlh5syZAmzGGKZPn06EM/Tdb3Hm4sCBA3X5BlrTlgjvKpxhaWmJv/3tb4L7o9FoMHXqVISFhZFj8u63uEcXbyO2Pv/C29jYkLmjra0t8dnY2MDa2ppsJ/bZ2NjAwsJCMC+zsLCApaUl95hScaRsp8Xu+gCZm5sbhN2dr+s83NraukfYhlyjFGwzMzNYWVn1Krb2fvOwu3I+pqamkrG19+xW52NrawsrKyvBh8XKykoytr5rFE8nbqUI3OeH9OLeC7jZaDzhB172G29/Q3ympqaEOPmzYP/R2ry3caReN4Bev27e8UxMTHq8TN3ne/iQkBDBMAkAXFxcCDvs5OREhuQajQYhISHkmKGhoZJ9arVacDNcXFwIK+7o6MjF7gmO2Hg6bbzrdnR0JENtxphB2AEBAeQBdHZ2Jqy4vb09mYoYiu3n50eG0E5OTmQFxtbWlrDdjDGD7rePjw/p4Z2dnUkPb2Njwy3YwTum1PPx9vYmPbyzszMh98SrU2Lr8z38ihUrcPLkSYFv165dOvkhre3Zs4cQSCdOnOASSG+//bagIRljeOedd1BfXy/YdtWqVcjPzxf4du/ejV9++UXg4xFIp0+fJnnfTU1NmDNnjmBexhjDu+++S6qxrlmzBrm5uQRbfN08Auns2bO6XHWttbS0YPbs2WROOH/+fFRWVgp869evx7Fjx26JnZmZSZKXLly4gC+//FLga2trw+zZs8nw9IMPPiCSVPqIUjF5tX//foEmHXBTV2/ZsmUCX0dHB958803CNXz00UdcovTw4cMEW3zdWVlZ+OmnnwS+K1euYOnSpQJfZ2cn3nzzTbJi8sknn5D19M2bN+PgwYMC3549e8h1i4lcsd0TPbyPj4/AFxAQQOSIAwMDydKGn58fgoKCBD7GGEaOHAmFQqH7mnd2dupIrlvh6POJPxbe3t7kS67RaDB69GgoFArd11ypVGLo0KFk6KYPR0zaBQQEoKKiQuDz8PBAeHi4gLxSqVQYM2YMOjo6dPNApVKJwYMHkyFmQECAQNdO6xOPJHjn6OrqisjISAF2Z2cnxo4di46ODh25qVKpkJaWRnpzfdctJu0CAwPJdk5OToiNjRVgKxQKjBs3Dh0dHbpjqNVqJCcnkx5VH7aUc7S3t0dCQoJgNNrR0YHx48dDoVDojqHRaJCYmEjm4vqwxR/o7mS4gXvghffx8SEvvK+vL/H5+PgQtVXevi4uLmToZmVlBR8fHzIs5+3v4+NDhnO+vr6orq4W+Ly9vcm+zs7O8PHxETxolpaW8PX1JSsMUrF5Pm9vb/j6+go+Ilrsrg+ahYWFXmzeNUrZzsvLi4vt7e0tWMkwNzeHr68v+YjowxavgkjFdnJygre3t+CDYWZmBj8/PzId0de+4iE97/nz9PSEn5+fYOrp6OgIb29vwXTE1NQUfn5+ZDqi75kWj4p8fX3RnfX5Ib3RjGY06dbne3iZTCYYogH83sbV1ZUMdxlj3Jp2PfHxsMW9Eg8bABITE383dnx8PGGmfXx8SM/g4uJC1rL1YUs9n5iYGNKreXt7E9LO2dmZSy4agh0ZGUmIMy8vLzKkd3Bw4JJfvGNKxQ4PDycjCS8vLzLlsbe3J7EY+o4p1devXz+C7enpSYb04mmI2Pp8D79y5UoSjbV37178+uuvAt+vv/6qK6GstaKiIkExR+BmCOP8+fMJzoIFC0gY5Jo1a0h553379hFi5/DhwyRK6vLly1i+fLnA19HRgffff59gL1q0CM3NzQLf+vXrSTRWZmYmIXaOHDlCsIuLi/HNN98IfJ2dnXj33XcJT/HRRx+RqdCPP/6I06dPC3z79+8n2EePHiVRaNevXyc69kqlEvPmzSPYixcvRkODUAhk8+bNKCgoINji6LucnBxClJaWluKLL74Q+NRqNebOnUuwlyxZQoJntm7diry8PIHvwIED5LpzcnIIWVlRUYH//Oc/Ap9Go8HcuXPJS/vpp5+iqqpK4Nu+fTuOHz8u8GVlZZGIR/H5ia3Pv/C8+uxmZmak9zM1NSVLSSYmJqSnamhoQEBAgCDMU6FQwN/fnzx8ZmZm5JhSfYwxsoTS2NiIwMBAwYels7MTPj4+aGpquuX1SMVWqVSwsbERPOQNDQ0ICgoSRKcplUp4eXkRbH3tK/bxsJVKJWxtbQXYjY2NCA4OFlTOVavV8PDw4GLzrlEKtkKhgIODA8EOCQkR4KjVari7u5NKvobc7/b2djg7Owte7sbGRoSGhgqwNRoNXFxcSOfSk/vdnfX5IX1kZCT69+9PfBEREcQntoiICLKdj48P4uPjCWkXHx9PCBHe/hEREWQoGRkZSRI5wsPDyTl5eXkhPj5eQJxZWloiPj6eTAn0YfPOUdxDh4WFITo6WjAV8fT0RHx8vGBobGFhgfj4eML88rAjIyPJNCoiIoIs6fXr1w8xMTECbHd3d8THxwvIKzMzM8THx5PVgIiICO79Fg93IyIicO3aNYEvNDQUsbGxAmxXV1fEx8cLYifMzMwQFxdHVnB42BEREaTTiIyMJKPOkJAQxMbGkniR+Ph4QeyEqakp4uLiyFSI90xHREQQ0o73nHe1Pt/DG81oRpNufb6H5xEufn5+hDhzc3OTTJzJ5XJJPt6+vr6+ZDnH1dWVS5xJxeH5EhISyDDW29ubYLu4uJCeylDs2NhYLmnHi27kRZIZgh0dHU2mQl5eXmTdWh9pZwi2VsSjq3l7exPSzs7OjiS/6Dum1OcvPDycEJNeXl5k/n/Px9Jv3ryZpK0eO3aMEDsFBQXIzs4W+EpKSrBlyxaBT6VSEWIHuKlqIs5f37p1K4nGys7OJjJOJ0+eJJFpZWVl2Lhxo8CnVqvx+eefE+yvvvqKRGPt2LGDDFlzc3MJ9qlTpwiBWVVVRVJzNRoNF/vrr78mud27du3ClStXbol95swZEvlVW1uLtWvXCnyMMRIBB9xMExXPZX/++WedmpDWjh8/TrALCwsJmVZfX09IWm0arti+++47Moffu3cvioqKBL7c3FxClJ0/f56QiI2NjSQ1V4stJgyXL19OuIvMzExCEB8/fpwQed1pBAL3wAtfU1NDGM3q6mquTxz8wtuurKwMra2thLRrbW0lYZ68Y0o9n6qqKsICl5eXo62tjZB2LS0tBLuqqkrSNfLOp7y8HHV1dYIHrbKyEm1tbYKHXKlUcrF70r5iX1lZGcGuqqpCe3s7Ic6am5vJx9yQ+11aWoqGhgYBdk1NDTo6OgSErFqtRlNTE8E25H6XlpaisbFR0CPX19cTbI1Goxdb6v3uzvr8kD4lJYUMi5KSkhAVFUV8YmJHLpcjJSVF4AsMDERGRgYh7UaMGEGGxklJSUhKSiLHFA8lk5KSuDnpYmx/f39kZGQQ0m7EiBGExOFhJyUlEdJOLpeTOPGEhASkpqYKyCsfHx9kZGQQ0m748OHc6+Fhi0m7pKQkkpMeFxeHgQMHCrC9vLyQkZEhKAPm3cb4AAAgAElEQVRmZmaGYcOGITw8nFwPD1t8b5OSksgHNTY2FoMGDRJge3h4ICMjQzAdMTMzw9ChQwlJlpSURIbbcrmcTG+SkpLIRzI6OhpDhgwRTMNcXV0xcuRIQfyCqakphgwZwn1+edctJu3E24itz/fwRjOa0aRbn+/h4+LiiM/X15dEfbm6unLjjHn7G+Ljxdw7Ozv3OnZMTAwh7by8vEgv6+TkxCUMDcGOjIwkIxZPT0/S5g4ODlzC0BDsiIgIEnvh7u5Oeng7OztulJ8h2OHh4STKz8PDg6x929jYcMlKQ7BDQ0NJFJ27uzsh7cTnJ7Y+38MfPHiQZKKdPXuWkEqXL1/GuXPnBL7a2lpCKjHGSFolcLOembhxDx8+TOZMhYWF+O233wS+K1euoLCwUOBraGggUVI9wT5y5AiZv50/f54QWsXFxThz5ozA19TURGqz6cPevn07GTZmZ2eT+eSFCxcI9rVr10jqcktLC7fuGg97x44dhCjNzs4m2X8XL14k2CUlJQS7ra2NpC7rw961axchSnNycgh2UVERwS4tLSUkYkdHB0llBUBIY+AmMSkmSvPy8sg04eLFi7h48aLAJ95GbH3+hT99+jR5kQsLC0nYKc93/vx5EiKqfUjFpF1BQQFhxc+cOdOr2CUlJSgoKCCk3cmTJ8kHTCr22bNnudhnzpwRkFdlZWU4ceIEIe1OnjxJHugzZ86QD5jU675w4QJOnTolwK6oqEB+fj4h7U6dOkUCWM6ePWsQ9unTpwXY1dXVyMvLI6TdqVOnCCNfWFhIPp49xe764a6rq0NeXp6gw9JoNDh16hQpoCkVR/y72Pr8kH748OGkEGV6ejohPdLT08ka9ZAhQ8hSXXBwMKZNm0ZIu2nTppFhWnp6OilEmZ6eTkiu9PR0Upd+4MCBGDFihMAXGBiIBx54gJB2999/P1nXTU9PR3p6OvGJpw7p6elk3To1NRUZGRkC8srPzw/Tp08npN3UqVMJeaUPWzydSE9PJ0tOycnJGD16tADb29sbDz74ICHtpkyZQoqR6sMWD+nT09NJ/QO5XI6xY8cS0u6hhx4ipN2kSZPI0Foftpi0S09PJ2HYMpkM48ePJ6Tdww8/TEi7CRMmkAQafdji0Zf4eRRbn+/hjWY0o0m3Pt/D89IQ3d3duemS4ug7ffvzoqR4Pn3Y4t7czs6OqxQjFYfnCwkJIVVwXF1dST09e3t7rpKJIdjBwcGEMOTV8rO1tSVFGwzFDgoKIoShs7MziTCztrbmEqWGYAcEBJDenFfTztLSkhvVKfUZ4m3Hq+UnTsYBQM5FbH2+h798+TJZ6y0rKyNEXm1tLSFcWlpaCMEGgMzT9PmuXLlC0lbLy8vJ+m99fT0hU9ra2sj8tDts8dD46tWrJBKsoqKCiy0O4ujo6CDz055iiyPgKisrCXZjYyNKSkoEvs7OTjI/7Qn2lStXyP3mBTE1NTWRKEilUkl4D33YZ8+eJS/T1atXCTYv+KW5uZnwPSqVinAP+rALCwvJUL24uJjc76qqKoIt3kZsff6F37NnDynmyMsT5vlycnIIa1tcXIy1a9cS0m7dunWEOPvll18IB5CVlUVCOnnYubm5hLW9fv061qxZQ0i7DRs2cHP+xYo7Bw8e5F63+HyOHz9O8tRLS0uxevVqwQOtUqmwceNG8oLycv6ltnleXh527txJSLtVq1YJPp5qtRqbN28mJNT+/ft/N3Z+fj7Brq6uxg8//CDIKNRoNPjpp58IqXrgwAGyqsNr34MHD5LQ2pMnT2L79u0C7Lq6Ovzwww+Czkm7WnLq1CmCzcMRX6N4G7GZzZ07d263W/zBbN68eXjjjTd0v1dWVuLRRx8VDG+VSiVSU1MFQ3gnJyc4OTkJ0gdDQkJQWVkpIP2cnJzQ3t4uKBxpZmaG9vZ2TJw4UYBTUVGBxx9/XOBTqVRISkoSDKNdXFxgZ2cnIKCCgoJQVVUlwHZ0dERHRweGDRumO6apqSna2towefJkAU5lZSUeeeQRwRqwRqNBQkKCoO6am5sbLC0tERsbq/MFBgaiurpaEHXm4OBAsE1MTNDa2oopU6YIsKurq/Hggw+S4WNMTIxgCO/u7q5Lc9Wav78/amtrMXjwYIHqjUKhwPDhwwXYzc3NuP/++wXYtbW1uP/++4l4Q0REhGAYrW3/hIQEnc/Pzw91dXUCbFtbWygUCowYMUKA09TUhGnTpgl89fX1mDJlioDQNTMzQ1hYmCCF2NvbGyqVShAB6uPjg/r6egG2tbW1rkBqV5yGhgY88MADAl9jYyMmTJhAag4GBwcLYh18fX3x73//G/pe6z7fw/OK8evzSd1XvD3P11Psnpxjb2J3t++tcG7ndUvB7o227G1sfceU6rsb193V+jxpxyPi7O3tCcGhTy6at78hPjs7OxLtZGlp2evY4iWw7rB5UtWGYosfLB62hYVFr2O7uroSwpAnu2Vubs6VqjYE28XFhSvZLCYRbwe2s7MzN6LvDycXfenSJQwaNAiRkZEYPHgwlySrrq7GpEmTkJCQgJiYGPzjH/+4peyt1jQaDYnG6uzs5H7peNuJSSHedvp82mN0NZ78NGOM7K9SqQzCZowRLB427xzVajW3faVi8ySS9bUPT85YvG9PscXnrlarJbWlRqPhtpE+bPExeT4eNu9+83wAvTfdYYtNo9Fwpcm7s9v+ws+cORMvvfQSLly4gBdffJEolAI3C0RGR0fj1KlTOH36NPLy8rB582ZJx+epoEiViz527Bg2bNgg8JWXl+PDDz8UPJRqtRofffQRYdo3bNggSS6aJ9mcnZ1N8sKrq6vxwQcfELnoxYsXS1JBkSoXffz4cZIXXldXh4ULFxK56KVLlxIVlC1bthByiNfm+tR+xHnhDQ0NWLBggaAMGGMMn332GYnyM0Qu+tSpU1y1n/nz5xO56M8//5ysZBgiF33mzBlSOLSlpQXz588nzP/XX39NGP3t27eTIqx/OLno6upqFBQUYMaMGQCARx55BP/4xz9QW1srGJJqCRrGGNrb26FUKrnrmDwbPHgwSQlMTU0lEVppaWlkmJWcnEzkdZ2cnPDUU08JNOM0Gg3+8pe/kP3T0tKIVHVqaiqJtEtNTSXD3cTERAwZMkTgs7OzwzPPPCP4SqvVajzxxBNkmDdgwACCnZaWRtaexWmwwM3kjOHDhwtKbNvY2ODZZ58VbKdWq/Hoo4+SdfwBAwYgNTWV4IinGWlpaaQHi4qKwqhRo4hk8/PPPy/YTqPR4OGHH+ZeDw9bHHeRlpZGikj0798f48aNE2BbWFjgr3/9K5GqfuCBB0gtP333W0xepqamklyDfv36YdKkSQLlGXNzc7zwwguEeJ0yZQqJ6kxNTeXeb/FoSdw2YrutPXxJSQn8/PwEjLOvry9Zm33rrbdQVFQEHx8f+Pr6YuzYsbfUudaara0tN1NKHIhha2tLfPq2s7KyEnAAWklf3rZibH04Us9RKjbvmDzs7q6764fAxsaGYJubm+vF/r3now/b0tJSwLxr5aINuY+87WxsbCRhW1tbG9S+vPttY2Mj+LBYW1vD0tJS0BmYmprCxsaGu7/U9u3O/hAs/Y8//oiEhARUVFSgtLQUBw8elDyk55EU+thL3ra97esJe36vY2v9vYnTE9lk3rZ36rrvxLP2e+y2vvABAQEoLS3VDVE1Gg3KysrIUOmzzz7DY489BuDmevB9991H5mn6LDw8nBAX7u7uZPjt7OxMhsUajYZUVNEeU4qvf//+XGxxXriTkxNXNllc8rgn2GFhYeRBc3NzI7n4Tk5OXNlkQ647JCSEvEyurq4E28HBgYTWGoodGBhIVmBcXFzIdMLOzo4b1msIdkBAAJmaubq6EmxbW1tuWK+++yhlO19fX9Kbu7m5kWf6rubDe3h4QCaTYc2aNQBuKrXI5XLSQKGhoTryobOzE/v27RMEinRny5cvJ1FJO3fuJBF0PAKpoKAAK1euFPj0yUXPnTuXZED98MMPRC56165dkuSiT506he+++07ga2pqwltvvUWw3333XRI6unr16t8tF11YWEjkoltbW4lUNXBTLlo8H123bh2JMORh79+/H9u2bRP4ioqKSJHQ9vZ2vXLR5eXlAt+GDRtIhCGPtDtw4ADJNb906RIpWNmdXLR46rlx40ZSEJRH2vHkoq9evapXLlrMwEuVi+Zd963kom/7kP6LL77AZ599hsjISCxbtgxfffUVAGDixIm6IgFLlizBoUOHkJCQALlcjsjISELi6LPAwEB4eXkJfH5+foT08/f3J19db29vMtrQaDQYPny4gDHu7OzE0KFDyQPp5+dHjinV5+npSarBqNVqjBgxQhDWq5VsFi+39ARb3BZubm7o16+f4JhKpRIZGRkEOy0tjQwnfX19ue0r7lF55+Ps7Iz+/fsLsBUKBUaNGiXAVqlUSElJIWvcUq+bd78dHBwQFRVFsEePHi3AVqvVSExMJGnFUtuXt52trS3i4uIEH9SOjg6MHj1asEKg0WgQHx9P4gp416PvfLqz2x54ExERQXoDAIIeLzQ0lFuJRIpJfQB8fX0Ja8vbTiv8KM6H9/PzIyMT3oPv6+vLPR9xZRzevi4uLvDz8yNy0f7+/mToJhWb5/Px8RGQqcDNF9HPz4+EbvKw9bUvr314H1l/f3+CLZZ8Njc3h7+/P5kK6WtfMVklFdvJyQm+vr5ELjogIIAr2cy7bjFLz/sIeHl5wd/fn8hF+/n5CYKTTE1NERAQQDoxffeb1wl1Z38I0s5oRjPanbE+H1qrT/1F3NvwlGcYY5Kli/X5pEhVa3tusUlVIuH5eiIXLZ626MOWej6GykUbgh0VFcWVixb38I6OjlzlGalKL7zt+vfvT4gzfXLRUrGl+vr160diDYxy0f9r+/bt48pFi6OQLl68yJWLXrBgAcFZuHAhVy5anDqamZlJou+OHDlCoqR+++03IhetUCj0ykWL85zXr19PorH2799PSJujR48aLBctngpt3LiR5HHzUkePHTtGSKWSkhIiF61SqXokFy0uTqlPsllM0paVlXHlonnYS5YsQV1dncC3detWUpwyKyuLXHdubi4haSsrK3skFy3Oc9+xYwdRmTl48CC5bjGJLLY+/8Kbm5uTBpO6HswYI71kQ0MDfHx8BESKQqGAt7c3efik4vB8KpWK9Az19fXw8/Mj+fCenp4Em2dSsZVKJaysrIhctL+/P5GLdnd3J+qzUo2HrVAoYG1tTbADAgIEHzWVSgVXV1eCbUibt7e3w87OjostLqDp4uJCPnSGYLe2tsLBwYHIRQcFBRG5aCcnp1sWsugJdlfr80P6qKgoUmQxKiqKFLHkyehGRkaS7Xx8fCCTyQRDIysrK8hkMkLY8PaPjIwkw7moqCgSYhoREUHCf729vSGTyUgRS5lMRmrL67tG3jmKH9zw8HAi2ezp6QmZTEaKWMpkMjIliIqKIu0ZFRVFpjKRkZFkSS8sLIxINru7u0MmkwkyCs3NzSGTychKRmRkJBdbPKSPjIwk+Qf9+vVDXFycANvNzQ0ymYzIRSckJJDpCA87MjKSTG+ioqJIDkBoaCiZhrm4uEAmkxG56Pj4eBJaq+9+i0k78TZi6/M9vNGMZjTp1ud7eB7hwltC0ycXbYh8MM/Hk4t2cXG5Y3LRYtLO2dkZgYGBvYodFxcnSS7aUNJOqly0t7c3Iav0kXa9LRft5eVF2sLOzo4bLWcIdlhYGBnFeHl5kR7+niftNm/eTNJWjx07RqLvTp48iZycHIHvxo0bXLlobXBQV/vqq69IRNS2bdvIsDEnJ4dIVZ8+fZrEIpSXl2PTpk0Cn1qtxpdffkmwv/76azIl2LlzJ8HmySafOXOGRKZVV1eTtGCNRsPF/uabb7hy0VevXiXY4us+c+YMIU/r6uqwbt06gY8xxpXo/vbbb0lt+T179pCaCrm5uQS7sLCQkGkNDQ1YvXq1JOzvv/+epK3u27ePKL3k5eURouzChQtcuegffviBYC9btowQhitXriTTsAMHDhCCmIfNK07a1fr8C19VVUWq0VZWVhJfRUUFKisryXZiX1lZGZqamghpx5MuLi8vJ3NUfdg8n5iJLS8vR3NzMyHtePLBvGPyrod3PqWlpaipqSGFJJubm4nyTENDA8GWeo2887lx4wbBrqqqQnNzMyHOGhsbcePGDUnXKA7B5d3vkpIS1NbWErno5uZmojzT0NAgGVtKW5SWlqKuro7IRbe2thK56Lq6Ou79lvL8in8XW58f0g8YMIAMgVJSUgh5kZKSQspMJSUlceWiR44cSUi7jIwMMjxNSUlBcnKywJecnEyGkikpKSThIzExkeQ3+/v7Y+TIkYS0y8jIICROcnIyF1tM2iUnJ5NVDJlMhrS0NBI/MHLkSELaZWRkkNrpPOyUlBQyjUpOTiZLmfHx8USy2cvLC6NGjSLKM8OHDydD4+TkZFL/ICUlhQx3U1JSSKnyuLg4DBkyRIDt4eGBUaNGEeWZYcOGETKYh52cnEyG9CkpKeSFj46ORnp6OlGeGTVqFFGeGTp0KPf55d1v8ZBe/DyLrc/38EYzmtGkW5/v4XlZdTwCycXFhZuyyNvfEJ+3t7dkuWhDcKKjoyXJRTs7O3MJQ0OwIyIiSAyBh4cHNz2WRxgagt2/f3/JctE8qWpDsMPCwgySizYEmycX7ebmRub/YkJTbH2+hz98+DAZup0/f56kF165cgXnz58X+Orq6gipxBgj6aTAzUgnceMePXqUpK2eP3+eCFZcvXqVKJ40NDSQmnT6sHfu3EmG5dnZ2SQh58KFC4TQKi4uJmIOTU1NXKlqHvauXbvIsDE3N5fwDxcvXiTY169fJ2IOLS0tpC4cAC727t27Sdpqbm4umadeunSJYN+4cYNgt7W1cWu+8bD37NlDiNLjx49zparF2GVlZYRE7OjoIBGPwM1adWL75ZdfBNmawM0IOjFPcfnyZRJlKj4/sfX5F/7kyZMkxPTMmTPkZvN8hYWFJEzz2rVryMvLI6Rdfn4+YaZPnjxJXiap2OfOnSPYJSUlOH78OCHtTpw4QR6qU6dOScI+ffo0F1ss2VxWVobc3FxC2uXn55MgktOnT5PQWqnXff78eZw8eZIQhjk5OYS0O3HiBGHFDcUuKCggyjM5OTmEtDtx4gRhvKXi8HwXLlxAQUEBkYvOyckhctEFBQWkc5KKI/5dbH1eeaa8vFxXJFNrHR0dSE5OFgxv7e3tYWdnJ4iUCgoKQllZGQYNGqTzOTs7o6GhAcOGDdP5zM3NUV9fj0mTJglwSktL8eijjwp8CoUCMplMsBbv6OgIa2trARETEBCAsrIyonrT0NCA4cOH63xmZmaoq6vD5MmTBThlZWV46KGHBMN6pVKJ2NhYQWqlk5MTzM3NERMTo/P5+/ujvLycqN40NjYKJKy12FOmTBFgV1RUYNq0aYJhvVqtRmRkpCAnXktGdZVd9vPzI2o/9vb2aGxsREZGhs5namqK2tpaTJ06VYBdVVWFKVOmCIb1jDGEhYUJ4izc3NygUqkEyjO+vr5E7cfOzg6NjY0YOXKkALumpgb333+/ALumpgYTJkwQDOtNTEwQGhoqmDZ5eHhAoVAIkmC8vb1RXV0tKFxqY2ODpqYmAbaJiQmqq6vxwAMPCLDr6uowduxYAaFrZmaGwMBAwbTJ29sbS5cuvXeVZ4xmNKNJtz5P2vHIETc3N5JKaG9vz1X04O3Pi9Di+fRhi5f/7OzsuNhScXi+4OBgkijBk4u2s7PjykUbgh0UFCRZLrqrzl1vYAcGBhokF20Itr+/P1cuWnw+lpaWkrGlPn++vr5cuWgxv3LPy0UXFxeTtd6KigqSXVZfX0/IntbWViLrC4DMn/T5rl27RrKaKisrCYnY0NBAyJT29nZC7nWHLSYMr1+/TiLBKisrSUpnY2MjiURUKBRcBSCp2NeuXSNtXlVVRbCbmppI8EpnZydXJlsqNu9+V1dXS8JWKpXcSDR92GKilHfdNTU1hLhtaWkh9fDUajVXJpuHfeHCBfIiX79+nTxr1dXVXOzurM+/8Lt37yYhswcOHCChjTxfdnY2ydcuLi7GqlWrSE271atXE9Juz549RPXmwIEDhAHnYefk5JDihyUlJVi5cqWAMFQqlVi7di0hzvbs2UPy7rOysrjXzZOqFudrl5WVYeXKlYIHWqVSYd26deQl2bt3L1lh0NfmPLloMSteWVmJFStWCB5WtVqNH3/8kRCymZmZJGSWh52VlUVWA06cOEEkm2tqarB8+XIiF71582ZCgO3fv5/kn/OukYddUFCArVu3CrDr6+uxfPlyQefEGMOWLVtIaDgPm3e/jXLR/2s9kYvu6OhAenq6QECjvb0dEyZMEODcDrlohUIhkKo2NTVFa2vrbZeLtre3h0KhuGNy0V2xu5OLnjp1qgC7t+WibWxs0NnZeUfkohsaGohctFKpJNhGuehurDfkg3nb3UrWt6fYPTnH3pQP7u6874R08d3EFltvYOs7plTf3bjurtbnSTt9ssk8uWgxkadvf0N8+mST7wS2ra2tZKlqQ3BcXFzIg6WVyepq+uSiDcUWE4bW1tbkus3NzQmJaCi2s7MzV6paPNIxMzO7Ldi8iD7xXP+uy0XfbjMxMeFKMfMunCdxzNuOJ6XM85mamnKlmHlfXTG2SqXifo2lYmuPId6Ohy3ejifX3FNsnmSzuC15163RaLiSxlKxefuLC4nqw2aMScbhyUDztmOMke16gs27F7xr1CdDLsXX1fr8C79+/XqSa75nzx6igsLzHT16FOvXrxf4KisrsWjRIsGN0Gg0+PDDD7kqKGLSbs+ePVzpYrEvJyeH5IXX1NRg4cKFgpur0Wjw8ccfE8Z506ZNXKlqKdh5eXkkL7y+vh7z588XfDwZY1iyZAkJU/7pp58IcabvuqWq/bz//vtELvrTTz8lqwnbtm0jJBkPe+/evQSbJxfd3NyM999/X5Dzr5WLFq8mbNu2jZBkPOx9+/YRUrSwsJAUDm1tbcV7771HmP+vv/6asPc7duwgRCBPLvpWEm19fkiflpZGyvomJyeTenG89Fi5XE7kde3t7fHkk08K5KK1ks3i4WlKSgo3XVK8jspLoUxISCAKuba2tnjqqacEPYFarcZjjz1GSkDzsFNSUiSlx8bExCA9PZ1INj/77LME++GHHyYVfPSlx4qTZ1JSUkgBi4iICIwYMUKAbWlpieeee06wnUajwfTp04kgg760YPGUiZceGxYWhtGjRwuwzc3NCTZjDFOnTiVtqS9FVXxvk5OTSecQHByMcePGCeSiTU1N8fzzzwtGJxqNBhMnTiRJR/rut/jeis9PbH3+hbezs+MG2UiR23VwcOBup5Xx1ZqFhQVXPtje3p5g83B42/HOUTsHl4LNu259MsW887GzsxM8aNo5eNd5uLm5OVe6WF/7Sm0LKdhmZmawsbHp0TF/D7ZWJlss2Wxrayu5fcUvfHf3u+u0x8bGBtbW1oIsuO6weccUTwl4XFFX6/ND+p7YrRjMvoLRl6y326Mnx7vX7/et5us86/M9vFYcsGvDe3p6kuGlq6srCTHVaDTcsr5SfdHR0YIhGnAzcYKnPCMemjLGyLSjJ9iRkZHkYfPw8CAhvM7OzlzJZkOuOzw8nISTuru7k+t2dHQkw2JDsUNDQ8kKDC+c2d7enlsHwBDs4OBgbk66uIe3tbXl1gHQdx+lbBcYGEjChz08PMiQ/q7KRd8J+/7773+3XPTJkyexYsUKga+xsZErF/3OO++QcN0VK1aQopG7du0i5CBPLvr06dP49ttvBb7m5mbMmTOHYM+bN4+Ejq5atYookfAkm/ft20dyrs+dO0fUX1pbWzF79mzyAL3//vsk933t2rW/Wy764sWL+PzzzwW+9vZ2vPnmm2R4umDBAjIXXr9+PSFKpcpFX758GZ999pnAp1AoMGvWLMKCf/jhh4Qo1ScXLcY+ePAgNm/eLPAVFxdjyZIlAl9nZydmzZpFVpkWL15MQr43bdpEiFIetjgCUmx9vofnKYz6+PiQXo2nHuvp6Ul6IJVKhSFDhugUUoCbN2bw4MHkgfT19SXJITxsHx8f8tK4u7sTgQelUomhQ4eio6ND15MolUoMHDiQvIg+Pj5cbCnn4+LiguDgYMHIqLOzE8OHD0dHR4euJ1Eqldwaad7e3tz2FY+qeOfj4OCAsLAwAbZCocCIESPQ3t6um4NqIxbFa8/6rlE8d+XdGzs7O51UtRa7vb0dGRkZaG9v140S1Go1EhISSM+tD5u3nbh9rK2tyYiwvb0dI0eORHt7u+4YGo0GsbGxJKZB37MmfibFuGK7J154nlY5T7O7ubmZbCce9rm5uSEgIIDIRQcEBJAhq5+fH9lfnza9OMmBt6+rqysCAgKIXHRAQABXspmHLUW/3NfXFwEBAYIpgbZ2vjh0MzAwkHxQ9bUvr32kYGvLcHV9ac3NzREYGEimYfraV0ym8bbz8fFBYGAgF7vrlECbZy6ehunTghe/8Lz28fb2RmBgoGD65+TkBH9/fyIXHRgYSF5uffdb/MLzpjFdrc8P6Y1mNKNJt9v+wl+6dAmDBg1CZGQkBg8ezE3LBG4GscTHxyMuLg4JCQlkCKzP9MlF80g7qXLRPZEzFjOlPj4+pDd2dXXtdeWZnshF97byDE8u2sfHh/SITk5O3EKShmBHRkZy5aLF2I6Ojtxcc0Ow9clFi7Ht7OwQFhYm6ZhSnz+e8oynpyfBFp+f2G77Cz9z5ky89NJLuHDhAl588UX89a9/Jdvk5eXh3XffRWZmpk6thBeLzLNVq1aR1NH9+/cTYufo0aMkCunSpUtYs2aNwNfR0YGFCxcSnA8++IAEkaxdu5bUXMvKyiJKL0ePHiXFE69cuUIizjo7OzF//nyC/eGHH5Lc9z1blywAACAASURBVA0bNpBorKysLEIqZWdnE6nqa9eu4bvvvhP4lEol3n//ffIB+/jjj8lUaNOmTaSeHk8uOjc3lxRuvHHjBlcu+r333iPYn3zyCSFKt27dStJWDx48SLCPHz9OSMTy8nKirqNWq7nYS5cuJYE727dvJ3UIDx06RLDz8/MJSVtVVYVly5YJfBqNBu+++y7hZz777DNSoHTHjh2EID506BAh6cTbiO22vvDV1dUoKCjQ1Zx75JFHcOLECTKfXbp0KV555RXdXNHBwYEsvegzXiy9RqMhjcgYI/MdXrx0XV0dPDw8BKGWCoUC7u7uhCnnHVOj0UjydXZ2kmW1uro6eHl5kSKWrq6u5OEzBFuhUMDc3JzkZnt7exO5aGdnZ4IttX152O3t7USqur6+Hj4+PoIPi1qthpOTE5GL1neN4vPhbdfa2sqVyfbx8RHgqNVqODg49Cp2S0sLbGxsiFy0n58fkYu2s7MjBDOvffW1eXd2W0m7kpIS+Pn56R5sU1NT+Pr6oqSkREDwnDt3DiEhIRg2bBhaW1tx//33Y/bs2ZIwoqOjybolzxcVFUVesKioKLIW7uvrC7lcTkg7uVxOpgS8/aOiokhobXR0NPkoRUZGCgpLAjeJHblcTpRn5HI5Vy6ahy0m7aKiokgP3b9/fyLZ7OnpCblcTpRn5HI5mRLoa18xaRcVFUWmZuHh4USy2cPDA3K5nCjPJCYmkikBTzY5OjqaDHejoqJI1ZmwsDAkJCQIsN3c3CCXy4nyTGJiIoJFSkM87KioKDK9iY6OJlPX0NBQyGQyIhctxjY1NYVMJuNKjvPut/iF58V2dLU/BEuvVqtx5swZZGZmoqOjA+PGjUNQUBAef/zxu31qRjPaPWW3dUgfEBCA0tJS3RBKo9GgrKyMrD8HBgZi+vTpMDc3h729Pe677z7k5uZKwtAn2Swmztzc3HqdONMnVX0nSDtxbwHcJM54UtV3Si5ajO3k5ER6SUOxeXLRXl5ehKx0cHAgmniGYkdERJBIO55Et729vWTSTqovPDycKxctXr67q3LRHh4ekMlkOmJszZo1kMvlZOj36KOP6iLjlEolMjMzBaWJurMtW7aQaKzc3FxugX7xR6S0tJREgqnVavz3v/8lON988w2Jxtq+fTuJxtKHLa67V1FRQSLBNBoNIbSAm7LJ4inBzp07yZA1Ly+PRB2ePXuWRMVVV1cTqWp92N9//z1RQdm9ezeJBMvPzyeE1rlz5wiBWVdXR6SqGWNc7OXLlxOp6r1795LagjzsCxcuEEKroaGBK1XNwxbX9wNuksHioXp+fj5Rmblw4QKpLdfU1EQIYsYYV6J79erVZBqWlZVFCOL8/HxC0vEKhHa1287Sf/HFF/jss88QGRmJZcuW6bTXJ06cqDvZGTNmwMPDA9HR0ZDL5YiLi8Ozzz4r6fgVFRWkKmt5eTmR2y0rK+NuJ/5YlJaWor6+npB2dXV15OUuKysj+5eXl3NxxD7evmVlZaivryeknT5sKTi8tigtLUVFRQVRf6mvryfKM7W1tQS7J+0r9pWUlKCyspLIRdfV1RHlmZqaGvJRk3qNvPPhYdfU1KCuro4oz9TU1OD69euSsKVed1VVFZGL1v7TmkajQVVVFbnuntzv7uy2z+EjIiJIDwNAsGxhYmKCxYsXY/HixT0+/oABA7h5wlLkopOTk7ly0aNGjSKk3ahRo8jwNCUlhewvVS6al4vv7++P0aNHE9Ju5MiRZE1ZH7ZUueiBAwcKyCtfX1+MHj1aklw0D1uqXHRCQoKgkCNwc2g6ZswYQtplZGRw5aJ5ufhS5aK7FicFbo5Cx4wZQ0i74cOHk8QWfbn4UuSiY2JiMHToUCIXPXbsWCIXPWzYMG49B16bG+WijWY0o+m1PwRLb4jpk2wWV4jpiWSzeLlMn0+qXLSTk1OvY/Pkonlpwdp4bSnYUs9Hn1y0uM3t7e0NkovmYYeHh0uSi7a1teVG+Um9j7zt+vXrR6L83N3dSVvok4s2BDskJISbmisevd3zctFHjhwh0VhFRUWEVLp27RpR/qivrycReYwxknII3ExFFAfpHDt2jATjFBUVkRpw169fJ9iNjY2kJp0+7D179pAbm5OTQwKYLl26xMUWS1U3Nzdz0yjFwhjAzdRenly0OBLs8uXLhEwrLS0lEXmtra2kJp0+7L179xKiNC8vj6zt//bbb0TFp7y8nKjMtre3c2u+8bD37dtHiNITJ04Q9SJ92GLyVKFQcGWyxSnbwE2xDXFx1JMnT5JpAg9bfH5i6/Mv/IkTJ8iNPXXqFGFtT506RW7CmTNnkJ+fL/Bdu3YN2dnZhLTLyckhL1NPsMW+s2fPEuySkhIcO3aMkHY5OTnkxhYUFPxu7MLCQuTn5ws+YKWlpTh69Cgh7XJzc0no8qlTp8hKRE+wT5w4QQjDI0eOENIuNzeXMNO8+yj1fp87d45cd3V1NX799VdC2h0/fpx8pPVhi32nT58m53P+/Hnk5eURuehff/2VkHZ5eXnkI92T6+7O+rzyTHl5OR555BHBNrdDLrqhoQETJ04U4JSVlf1uuejAwEAi2awNJRXLRdfX1xO56PLycoPkoisqKn63XHRlZSVXLjoqKup3y0U3NTURuei6ujrJctHh4eG/Wy5aLNmslaq+E3LRzc3NRC66pqbGKBdtNKMZzXDr86QdL5LLzc2NW12UJ9nM259HuPB8+rDF1VdsbW25aiJScXi+oKAgkhvg7OzMlYsWR8AZii0u5KDFFpfxtrGxIembhmIHBAQQkszJyYncb2tra65UtSHYvGIXTk5OxGdpacmtPCP1GeJtx6us4+TkRLgdcduIrc/38CUlJSRttaqqikQqNTU1EbKnra2NBJUAIPNGfb7S0lKStlpVVUUynZqbmwl2R0cHCezQh1NUVEQIw9LSUrLGXVtbS9aem5qaCJGjUCgIH6EP++LFiwS7pKSEiy0mT5ubm0kgiFKpJOReT7HF97uuro5cd0tLC8FWqVTcegw87EuXLpGX6caNGwS7vr6eELetra0kIEatVhMupCfYpaWlBLu2tpZgi7cRW59/4Xfu3EmY9v379xNGlOc7duwYYUmLi4uxYsUKIhe9cuVK8qDu2rWLKxctZoJ52NnZ2UQ2uaSkhISTKpVKrF69mjyou3fvJiy/PslmMXZubi4pbFleXo7vvvtO8CKr1WqsWbOGyEX/8ssvJO+ed408OePjx49j69atAl9VVRW+/fZbAWGo0Wiwbt06Ql7t27eP5J/zsHnXnZ+fjy1btpBIu2+//ZakqG7YsIGQopmZmSRkdv/+/VypanH9g5MnT2Lz5s0kLfjbb78lctGbNm0iZFxmZqYkGXLeCkhX6/OkXUVFBZGLVigUGDBggGAI7+DgAEdHRwFpFxwczCWvxHLRJiYmXLno8vJyPPbYYwJfZ2cn5HK5IKHCyckJtra2guipwMBAVFZWCkgcBwcHKBQKgt3W1oaJEycKcCoqKjBjxgxBkUeVSoX4+HjBUNbFxYXIRQcEBKC6uloQ8WZnZ4fOzk6BVDUArlR1VVUVpk+fLhhiMsYQExMjiDdwdXWFqampQC7az88PNTU1RLJZqVQKpKoZY2hpacF9990nwK6ursbUqVMF680mJiaIiIggxBljDDKZTOfz9fVFfX09V7K5q1Q1cHNkdP/99wt8tbW1mDx5MhGOEMtFe3l5QalUCpJgvL29iVy0lZUVVCoVwW5sbCRS1Q0NDRg/frxg6mJubo6goCBBvIGPj0+3ctF9fg5vampK5pP6fOI5b3fbdfXzfD3Flurr+n9vYHe3b9f2uB3Y3fnuBDbvfosllnnY2m0MeYb07WsINs8nnvLcSj22z7/w4ugugC8XbWlpSYgdffsb4tMnm3wnsLXSRWJsnvyQIThOTk7kwbexsSFtrk137m1snly0uM3Nzc25Mtm3A5snF82TyTYE29HRkSsXLQ5MupUSTp+fw1tYWJCLZoyRxhH/DtycH/NKafGYTp7P0tKSRGPxsHjYKpXKIGwLCwuu1LAUbLVabRC2uDyWvm3NzMzIA6jRaMgL0hNs3vWYmJgQP69HZIz16BrF1t2oQXw+Yp8+bN718NqXd0ze/vf8C7927VqSa85TQeGpdGRnZ5P86KqqKixYsIDIRS9cuJCENm7YsIHke/MkfPfs2UPCN48fP07yo2tra/H+++8LPmCMMXz44Yck/XPjxo1cuWgxDk+y+cSJE1zJ5vfee4/IRX/88cdkNYEnF/3zzz9LUtzhSTY3Njbi3XffFYSTaqWqxUTpTz/9RIgpHvbevXsJKXr69Gki2dzc3Ix58+aRvPvPPvuM5JZv2bKFkGS8Zy0zM5Or9qNNDddaW1sb5s2bR1Y8vvjiCxLlt23bNkJC8u73PS8XPWDAAEEkF3Cz9K84vVBcKw64maopTne0tbXFY489JpCLVqlUePTRR8nwVC6XkzLDcrmcpMfK5XLyJY6JicGAAQMEPmtrazzxxBNQq9W63kClUuHhhx8m6+uJiYlcbHGSTmJiIhmFREREYNCgQQIFFgsLC/zlL38hctHTp08nCTkymYyLLd5OLpcLmHfgZgLK0KFDCbZYJluj0eD+++8nsRO8Nk9MTOTeG3G8f0hICDIyMgTYZmZmePrppwXbqdVqTJo0iazj67vf4hGLXC4nH+jAwECMHj1aoDxjYmKCZ555hshFjxs3jiQ86cMWj/J4Za+7mqQefvv27SSYX7w8cbdMy753NUdHRzJ/c3BwID7edvb29rC1tRUMeS0tLbkSvjxsHo5UbDs7O8IBWFhY6MWWgtMddtcHzc7OTiedrDVzc3OuTLG+9pXSFjxsW1tbwj+YmZnBzs7ud7elodj29va/u32784nlorX/tGZqamoQNo876GqSXvjp06cjIyNDENzwr3/9S8quRjOa0f5AJumFj46OxlNPPYUhQ4boAkB+jzb17bDY2FhyLt7e3iSU1c3NjYQ7aoX7eMeU6hNHRHl7e3OLWPJkk8VTkZ5gR0dHE4LGy8uLW8SSp7hjyHXz8uE9PT25RSzFBUsNxQ4PDyeMvIeHB8F2cHDg5sMbgt2vXz8yLeRdt52dHTdkVmruO2+7kJAQstLj4eFBQpd7pYiliYkJnnvuOXzyyScYM2YMjh07dks28E7Zd999x5WLFiue8MgrHoHU1NSEt956i0g2v/3220SYYPny5SQiateuXUSqmkcgnTlzhhBILS0tmD17NvmAzZs3j4SO/vDDDyS9lofNI5DOnz/PJZDefPNN8gF77733yFx4zZo1pCCoVLnoS5cuEQWWjo4OzJo1i2AvWLCAhAXrk4sWY2dlZZEioVeuXMGnn34q8HV2duKNN94gc+FFixaR8NgNGzZwiVIxSXvo0CEiF33t2jV88sknAp9SqcQbb7zBlYsWE6UbN24kNQx4BLE4AlJskkg77QM4duxYbN68GdOnTycPwd0yHx8f0pt7eHiQ0sGenp7kpXF3dyfEjFKpRFpaGpGLTk1NJTeG16Pqwxb7XF1dyYijs7MTgwYNEshFd3Z2Ijk5mSw98o7J62145+Po6IiAgAAi2TxkyBC0t7frehKlUonExETyIuq7RvF96K7364qtjWxsa2vT8QVqtVoQodcdtoeHB5nL8rCtra3Rr18/AXZbWxuGDh2KtrY2gVx0TEwMt6IQr33FpB3v3lhaWqJ///4C0q6trQ3Dhg0jctERERHcY4qxvby8uPemO5P0wi9YsED3c0JCArKysvDtt99K2fW2W0BAALfOvZjlDAgIIIkuvH3d3NwQFBREilgGBQWRoTpv/4CAAC62OMnB39+flH9ydXVFUFAQkYsOCgoiN1IfjnjqEBAQQJJItNhiuejAwEDBsNHCwgLBwcHk4dXXvuIXnneOfn5+JNPP2dkZgYGBAnLQzMwMwcHBZMjKO6b4vPVt5+vrqxdbLBcdHBxMOgN9bS5+OXnb+fj4IDg4mMhFBwYGErno4OBg0hnoe9bEIxNeSbGuJmlIP378eMHvfn5+ePvtt6XsajSjGe0PZH1+HV6f+guPtJOq/iIue63PJ5fLBcNDgK964+rqSr7OPcHh+RISEsiQ09fXlzt14H31DcGOjY3lKs+I1+GdnZ255JUh2PqUZ8Q9vKOjI4mHMBQ7IiKCq/4ibgt7e3uu6o2+Z0jKdmFhYWR51NPTkwzp77pc9O22VatWkdRRqXLRly9f5spFL1q0iOAsWrSIRGOtW7eORGNlZWUR7GPHjpF0yatXr3LlonlS1R999BGJxvrxxx9JNFZWVhYhlXhy0devX+fKRXedumlt8eLFpLbA5s2bUVhYKPAdPHiQEEY8ueiysjKi7KNWqzF//nxCVi5ZsoQQpVu2bCGFMQ8dOkSweXLRFRUVhKzUaDRcmex///vfJL+fJxd9+PBhQqbl5+eTCLjq6mp8/vnnkrD/85//kAKlO3fuJCozv/76K7lusQqO2Pr8C6/RaIgUkkqlIiSXWq0mpFtnZyeZA9XV1cHZ2ZkUsXR2diY3QaVSkWPq84nPp6Ojg9zo2tpauLq6kiKWjo6OvYrd3t4OExMTAX5dXR3c3NyIXLS9vT3hH5RKJbd9xcFZvPNpaWmBmZkZwXZ3dxdE5anVatjZ2RGiVep18+53c3MzVybbw8ODFNC0tbWVjC1uC56vqakJlpaWRC7a09NT8FHTaDSwsrIiHzre9eg7n+6szw/pY2NjSRhtTEwMV1JYPASOjo4m66C+vr5ITk4mpF1ycjJZz+btHx0dTYaSMTEx5EZERUWR9VYfHx8kJycT5Znk5GQyJdCHLSbtoqOjSXhrREQE4uPjifpLcnIyIe2Sk5PJenZMTAxp8+joaDKNio6OJqs5/fv3J5LNHh4eSE5OJsRZUlISmRJER0dz77d4qB0dHU2qGYWHh0MmkxG56OTkZEHospmZGeRyOSk1xcOOjo4mQ/qYmBhSZbhfv35ITEwkctHJyclELvr/t3fm0VGVaf5/yB6yJ4SQhOypAEllhUoFUAMoAgIqao8sTs85M9Otx9E59pzpPqeXOaKtY0u7L4DYisoq62ArkJAYEnaSkIQAgiAQKkuRjexrVd3fH5zKL/f9PhdvLLZq7/OXvFbqe++t+9773u99nufDpWcr/d7iDYt7rz88nP4Or4UWWqgPp7/Dc8UCERERcLcZM2YM3KGV/t6RsYiICHiFpoSLdkSHM+04XLT9tdPN1FYy7YbfqYiuv3bist0c0VYy7USzys/PjzXtHNHmcNFhYWFQGOXj48Oado5oJyYmwiqGM+3uKC76dsRXX30F75lLS0vB2Dl58iSVlZXJxurr6yEDzmq1gqFFdB2bLC7Lv/nmG6iKKisrA0hDdXU1ZKZdvXoVstBsNhub3/DZZ5/Bs9qePXtgyVpeXg7aZ86cgfLh5uZm2rlzp2xMkiTI/CMi+vzzz+HZPC8vDzLBTpw4ARmP3333HYBEr127Rtu2bVOlvW7dOjBKCwoKWCCIaKadO3cODMz29nYWVc1pb9iwAYzSoqIiFggi7vf3338PRl5nZyeUYhMRiybftGkTPIaVlJSAQVxRUQH7zTXKHB5OP+Hr6upYHLKI262trYUJUldXB2O1tbXU1NQEpl1jYyP7WU5brQ6HOG5qagLTTklbjQ43ZjKZqL6+XmZeNTQ0UHNzM5BnGhsbYXI7cnxramqooaEBcNFNTU1gnClpqz2+arSbm5upqakJyDNms1m1tppzwK4tkmeamppkpqjNZqOGhgZApY3k975ROP2SPicnB2ras7OzwbTLzs6G0kGDwQDI5piYGHrwwQfBtHvwwQfBQMrOzoaadoPBAEvJ7OxsWIZOnjyZcnJyZGPjx48HuoiHhwfNnj0bDCQlbdG0MxgM8DYgMzOTpk2bBvkDc+bMAVz0Aw88QImJiT+qnZ2dDY9RBoMB2iZnZGTQPffcA4bh3LlzWVx0UlISfKeIRM7OzoblbnZ2NrxWS0tLgyadoaGhNHfuXMBFz5o1C3DRSshm8fEmOzsbagD0ej3NmDEDcNHz5s2T5S+4uLjQzJkzwXxTOuaiaSd+Rgynv8NroYUW6sPp7/Dca4jw8HAwkIKCglgaiNryRLWljRyqOiAggNV2pFRz0qRJULGohIvmzEpHy2NFo0oJF81lGDqinZSUBHdUjjSkhIt2RDsxMRFWakq46FtRHis2KA0JCYHV2x3HRZ8/f56mTZtGEydOpOnTp7PkD3ucO3eOfHx86He/+53q7z969Cgs3c6ePQvPmDU1NUD5aGtrA0NLkiQoMSW6Xl4rHtzjx49Dcsb3338Pz34mkwm029vbWVQ1p71v3z5wY8vKykD7woUL8OxnMpkgI6+zsxMMLSIakbaYjPPDDz9A/7n6+noASfT09EA/PCXtgoICWLKWl5dDEtLFixfByDObzWDc9vX1saAGTruwsBCM0oqKCiAIXbx4Efb76tWrALHo7+9n+81x2t9++y0YpVVVVay2aCI2NjbC9w2PWz7hn3nmGXr++efp7Nmz9Oyzz9Kvf/1r9nM2m42eeeYZIHb+WJSWloIzXVlZCWmIFRUVkHZYVVVFpaWlsrGamho6cOAAmHYHDx6EH5bTrqioYLXFserqatA2mUxUUlICpt2hQ4fgQllWVgbuMKfDHYtTp07R8ePHARddXFwMpt2RI0fgYsW54tzx5baH0zabzbR//34w7Y4cOQIXqxMnToCO2t+b025qaqKioiIw7Y4cOULffffdj2qr3W/72xLRtCsqKgLT7tixY3ChVHteib+LGLd0Sd/U1EQVFRW0ePFiIiJasmQJPffcc9TS0gIGz1/+8hdauHAhdXZ2QhnrjWLWrFl03333ycZyc3PBtMvNzYVSy9zcXJh0sbGx9OSTT4Jp90//9E9gxs2YMUOGlbZ/p/i53NxceMS45557ZHhkouuljYsXLwbT7oknniCdTgffyWmLpt19990HS8GpU6fS7NmzZY8EkZGRtGTJEjDtHnvsMTCvlLTF33Q4ScYe2dnZNHfuXNn4uHHjaOnSpWDaLVq0CJa8Strikj43NxdSrqdMmQL0oNDQUFq2bBmYdo8++ijU4ytpi48Yubm5wBfMzMykBQsWgGn31FNPgWm3cOFCGTFHSXvGjBmwAhI/I8YtvcObTCaKjIwcOsAuLi4UEREBy+2qqirKz8/X+uRpocUtjjtu2lksFnr66afps88++0ltszhjJiQkBDKvfHx8WGQz9/ec4cKNcX8bHBzM4qLVoqrVjokNLIh4ZPPo0aPZLiiOaEdFRbG4aLHrjLe3N5TrOqo9fvx4MAzt7L7h4eXlxRqljmirxUW7u7ur1lZ7/inhosU7/I/hom/phI+KiqK6urqhmnGbzUb19fUy57ahoYEuXrxIDz30EEmSNPQs1dHRQatXr/5Rjfr6eurt7ZWlFDY1NcFJ3tnZCWZPT08PZOkRERghSmMNDQ3U09MjO9mam5uhh3xXVxeLi+aSJEaqPXyStba2Qmpld3c3GDkDAwOwyrqRtljzbz/mw1t5t7a2wkWgu7sb3kcPDg6ymOyRaPf398v289q1a2CwdXd3s7ho0dQcqXZfX5/s8eHatWswEXt7ewFaYrVaWUQ3p33p0iVZKyyi6793X1+f7ILe2toKRvIdxUWHhoZSRkbGUM35xo0bKSsrS3anjYqKosbGxiG384UXXqBf/epXqiY70fUaZdHtLigogBpwbuzw4cOQWnv58mX65JNPZC7pwMAAffrpp/CDffPNN+B2FxYWQu07p3306FFIra2traWPP/5YZhhaLBb67LPPIGVy9+7dUAutpC2OHTt2DJDNDQ0NtGbNGsBFr1u3Dky7vXv3gtPO6XDbU1paCg0eGxsb6aOPPgJc9Pr168G8ysvLA6ddSVs85uXl5bR9+3bZJGlpaaHVq1fLnrklSaJNmzaBIZufnw9Oe2FhIYsmF933yspK2rJli0y7ra2NVq9eDbjoLVu2gCGbn5/P6oj7/WPkmVuOi87JyaHf//739MYbb1B1dTV9+umnFBwcTPPnz6dJkybB0qe4uJgGBwdp9uzZ7PeJuOiGhgZaunSp7Gpox0UPv8vbQQnDzbyYmBgym80ssnl4NtioUaOor6+P5s6dK9Opr6+nZcuWycbsuOjhBqF9yTncgIqKigJctB3ZPBwXTURDqGrxir948WLZEs5isVB6ejrgot3d3WUtscePH0+NjY0ydPHo0aMVcdGi2XT16lV64oknZHd4m80G5bl2XHR6evrQWEREBLW0tACy2WKx0H333TekI0kSdXd308MPPyzTtuOiRSMyKSlJVqA0ZswYwEWHh4dTa2sri2zOzc2VaXd2dtKjjz4q01bCRSckJMgKlMaOHQu46LCwMMBF2/mAw7WJrl8IFi1aJBu7du0a4KJdXV0pJiZG9ggwbtw4eu+99+4cLnrChAlQQEFEwByzx4svvjii73d1dWUBityYuORU+pwSLlqtjiNjjmpzSGGlvx0+sW/nfosARvtnhn/2Zmhzv7ej2iM5vj9F2/4bqP1OMbix4XHHTTtHQ3zdRcSji+24KDV/78iYiKki+v/IppupI/oERASoKCJlVLUj2v7+/mAYcthkJVy0o/stant6esJ+u7q6srhoR/dbnPCenp4sLvpm77efnx9MZi8vLzDt/uHpsfbl4PBwcXFh0cXiARscHISlIRGfnsiNeXt7g1k0atQo1rUVfwir1eqQtpeXF2TAcdpubm5wktrbKP1UbU9PTzCLXFxc2AvdzdbmjqWrqyv83py2JEkOaXPf6ebmxqKqxe1R0uaw3dzx5VYXo0aNAh3xM2I4/YRXS0HhkM3Hjh2DGuWmpiZ69dVXgWSqloLiCC66tbWV/vznP8uu2pIksRQUtbjovLw8Fhe9bt062VhbWxu9/PLLgKr+61//Cq76WX0R7gAAIABJREFUjh07oN5bLS765MmTLO3npZdeAlz0W2+9BUbpjh07AGSqhIsWtaurq6H+vKuri5YvXw5JOu+99x4YpY7gor/77jswont6emj58uXgrK9cuZLOnTsnG+Nw0dx5JX5GDKdf0k+ePBn6jKWnp0OmXXp6Olxh9Xo9dBfx8vKixYsXk8ViGbr62pHNHG5azMZKT0+HTLvhppU9Jk2aBO2IPTw8aOnSpWSxWGSo6ieeeAKWp2lpaay2mGmXnp4OJ7NOpyOj0Sh77eTm5kZPPfUUWSyWobuG1WqlRYsWwRJTSVvMNUhPT4dmjHFxcTR9+nRANv/zP/8zXGQffvhhKAZSOubiEjo9PR0u0DExMZSbmyvTHjVqFP3yl78ETPa8efMgh0BJW1xVpaenw0UyMjKSZs2aBa/b/uVf/kV2N7fZbDR79mz2d+S0xSU9d64ND6ef8AEBAWxrJfEZlxsLDAyEMT8/P/L19QVcNIfwdUSbG/P19SVfX1/ARStp/1Qd+9jwpbGvry/5+PjIHjPc3NxYDLTSd6r9nKjt4+MD2vZncLXfKfoUI9Ue7ry7urqSv7+/am0uIUZJe/hkHz169BAi3B4uLi4j0hYnPPf8PzycfkmvhRZaqA+nv8PbcdFiMYYaXLSj6GI7Lnr4VTssLIwlz3DaNxsXzQEHAwMDWVT1zcZFh4aGwjH39/dnm3c6iosWja4xY8bAkt7Pz49t3ukoLlrMZBw7diwci1uBi46NjYVHytDQUDD3OCN4eDj9HX7t2rVQe7x7927Istq3bx8YHFVVVfTZZ5/Jxjo6OujFF18EXPTy5cvhefSLL76AjKi9e/cCbaWgoACMs9OnT0PDyu7ubkBVExG9/PLLUPO/YcMGKI3ktIuKisC8OnfuHK1Zs0Y21tvby6KqX3nlFUhJ3rx5M1QZ5uXlgfb+/fvBvLpw4QIQWPr6+lhU9WuvvQZpwVu2bIEeBvn5+aBdXFwMmYyXLl1icdF/+MMfYGm8YsUKSM3dunUrmLR5eXmQVXfgwAFoEnrlyhV6++23ZWODg4P0+9//Ht4yvfXWW5D6vGPHDjBp8/LywCA+fPgw3SicfsKPHTsWnlvGjBnDtqkWDaDg4GAwZux45uFG18DAAE2ePBmaEnDfGRISwmpzdz+xXLevr4+ys7Nlru3AwABlZGSAtpKOmu3x8fGhiIgI2eTu7e2lnJwcWWrt4OAgpaWlwQmpVpvbby8vryFU9XDtadOmQVpvSkoKXARGoi2OeXh4UFxcnEy7p6eH1RZLgpW+U+3v7ebmRgkJCbL96enpoenTp8vKwW02GyUmJsKrPqVzmlvJ3iicfkkfExMDS7fo6Gh2TGw7zH1uzJgx0E7I09OT4uLiYLkcHR0N1U5K2mJ3Gu5vQ0JCKC4uDurh4+PjWWQzpyMu36Ojo6GQIyoqimJjY2WPBMHBwRQXFwfkmfj4eLgwKWmLJxv3ufHjx1NcXBygqmNjYwEXHR8fD8hmJW3RtOM+FxkZCdp24KVIvYmPj4fHMCVt0bTjPhcREUHx8fGAi46Li5OZcS4uLhQfH8/+jpy2uDLhqu+Gh9Pf4bXQQgv14fR3eI7SMRJcNPf3HMKXG1PSVouLVqvDjanFRQcFBbHmlSPajuKiHdFOTk4GY2okuGhHtJOSklTjosXW3krfqfb8S0hIUIWL/ocnz2zcuBFqiouKiqBg58iRI1BWeeHCBci06+/vp7/+9a+g88YbbwAF5csvv1SFiz569ChkQF2+fJnWr18vGxsYGKAVK1aA9ptvvgmPI9u2bYNsrOLiYjBtjh8/DiWUJpOJPv/8c9mYxWJhMdlvv/02UFB27twJZaslJSVgKpWWloJ5Wl9fD2al1Wqlv/zlLyyyWWwVtWvXLmhOeeDAAdAuKysDM+3q1atgVtpsNnrttddYZLNolH7zzTdg0nLI5hMnToBB3NzcDJl2kiSx2itXroQmoXv27IHeeYcOHYL9FrdPDKef8BaLBVIT+/v7weQaGBiAjLP+/n7IhW9ubiZ/f39oYunn5wckVKXv5LTFsZ6eHjDDWlpaKCAgAJpY+vr6qtZWsz3d3d1ks9mgLjwwMBCaWPr4+IBLr7SP4gWR257Ozk4WVR0UFCTj0FutVvL29oYTX2kfxTHu+LS3t5OLiwvgooODg2VvYKxWK3l4eKjWVvN7t7W1kaurq+yO3NbWRiEhIbILi81mI3d3d/B8RvJ73yicfkmfmpoK7zJTU1MhtVav18P70pSUFHjnGRkZSQaDAUw7g8EAjwR6vR7+Xq/Xw1JSr9eDuZKcnAypkuHh4WQwGMC0MxgMsCzntl2v14PZo9frYXUwceJEQDaHhYWRwWCAJpYcLlqv18Mx1+v18Bil1+th0kyYMAGQzaGhoWQwGKCJ5ZQpU+CRgNNOTU2FpbZer4f6g6SkJMrKygJctMFggCaWU6ZMYX9Hbr/FJb1er4cOx4mJiTR58mTARRsMBlk/fxcXF5o8eTLAKJXONfG84nI7hofT3+G10EIL9eH0d3ixnS8Rj4sOCQlhCSzc36tF+Cppi6ZdUFAQa9o5gg9OS0tjcdG3QzslJYU17bhcb860+0fDRXOZdmpx0WrPv8TERC3Tjui6kSJWRZWVlYGxc+rUKSovL5eNNTQ0QAac1WqF7Dui68hmcfm0d+9eWDaWl5eD9unTp6GEt7GxEbLQbDYblI4SXUc2i15DXl4ekENPnDgB2mfOnIGsuJaWFvq///s/2ZgkSaz2unXr4Hm0oKAAMsE47bNnz4J52tbWRtu3bwdtDtG9YcMG8AUKCwuhEWVFRQX0n/v+++/BwGxvb6etW7eq0t64cSN4Q/v374elemVlJWifP38ejLzOzk5AVRMRq71582ZgM5SUlACM5OTJk2DScU0xh4fTT/grV65AKaLaMZPJBGO1tbVDHULt0d/fT2azmcVXiWMj2R7xb+vq6oa60dpjYGCA1eb+Xq22fbtFXHRDQwOYdg0NDex3ipNOaUz828uXL1NtbS3gos1mM5Bn6uvrVX2nI9rNzc3U0NAA5Jn6+nqoxXfkXKupqaHa2logzzQ0NMgMOpvNRnV1dQ5p3yicfkk/depUQPjm5OSAaWc0GmHJmZ2dDcjmmJgYmjt3Lph2c+bMgeWp0WgE3LTRaISlZE5ODiwFp0yZQlOnTpWNRUVF0bx588C0e/DBB+E7lbRF085oNEKRTVZWFiCbIyIiaN68eWDazZ49G94pc9o5OTnwGGU0GsE1zsjIgEaZYWFhNG/ePDDtHnjgAZowYQJ8p4hEzsnJAdPOaDRC7UN6ejrNmDEDDMOHHnoITLv777+fPYdEbaPRCI83OTk50JZcr9fTzJkzgTwzf/58MO1mzZoF5mBOTg77e4urTvF8FsPp7/BaaKGF+nD6O7zY7YbouoEkFtQEBgZCXrbS33Mli9wY97dhYWFsUwy1qGq1YxMnToQ7N4ds9vf3Z81KR7STkpJYXLS430q4aEe0dTqdQ7hoR7QTEhIcwkWrPYe4z8XGxrK4aDHT7o7jom91HD9+HJZu33//PRhaJpMJepS1tbVRWVmZbEySJMhMI7puFomOaHl5OWRjXbhwAbRra2shI6+jo4NFVYuZaUraJ06cAO2LFy+yvoCYkdfV1QXZgHYdMb799ls4qSoqKiAx5OLFi/D82NDQAATWnp4eFlXNaRcVFcGStaKiAt7tX7p0CbSvXr1Kp0+flo319fVBL74baYuJUVVVVZAAdenSJfAPGhsbwcAcGBiAXnxK2sXFxWCUVldXw2PC5cuX4Vlf/IwYTj/hjx07Bk7liRMnYCKXl5eDS19VVQUuck1NDe3fvx9Mu+LiYnBojx07BnheJW1x7OTJkzDhTSYTFRUVgWlXUlICF6vjx49DqiW3j9z2VFdX09GjRwEXXVhYCKbdgQMHgDxTWloKtficNrff1dXVdOTIEcBFFxYWgml38OBBwEWr3Ufuc6dOnQLtpqYmKigoANPu0KFDkD5cVlYG+6329z59+jQdPnwYTLuCggIw7ThttcdX3D4xbjl55maHSJ4xm820ZMkS2Wf6+/vJYDDITCR7r7rhdc6xsbHU0NBA06ZNGxoLDAykjo4OGXbXzc2N2tvbacGCBTKd+vp6Wrp0qWxsYGCAMjMzZaW0AQEB5O3tLTOBoqOjqaGhgaZPny77XGdnJ82YMWNozNXVldrb22nhwoUyHbPZTE8++aTMBLJYLJSamiorZw0MDCR3d3eWejNc29/fnzo7O2nmzJky7ba2NnrkkUdk2o2NjfT444/LlrI2mw1IQsHBwTRq1ChF6o09fH19qbOzU4bPdnFxoWvXrtGjjz4q025qaqJHHnkEut7odDrZo8uYMWPIarUC9aapqUmm7ePjQ11dXXT//ffLtFtbW+mxxx6TabS0tND8+fNlS+tRo0ZRQkKCLAtz7NixQ+eBPcLDw6mlpUVGGvL29qbu7m6Z9qhRo6ilpYUef/xxmfa1a9do7ty5MkPXzc0NysPHjRtH77zzjiJ5xunv8FpooYX6cHrTjjOFgoKCICtp9OjRUL6p9PdcOSk3pqTNGUictlodJW0OFy12t1VCVTuiHRkZCVl+AQEBoO3l5cXioh3VFg1D++pteHh6ekLjDke1w8PDwaDz9/dnwSNqtdWef+PGjQMdf39/8Fd+DBft9Hf4xsZGyMZqbW2FgpHu7m4we3p7e6FnGhGfvMCNNTY2gk5raytkSXHa/f39kCE4Eu2rV69CJti1a9dkFWdE100yrtKOw2QraYuGIXfM29raoIy2p6cHTCSLxQLZiSPRvnr1Krzb7+jogP3mflur1QqG6ki1RTOtvb0dSnj7+vpgv202G4vo5rRNJhNMZG6/29vbwbAWfxcxnH7C79q1Cxznffv2QVPDffv2sbhoMb21pqaG1qxZI/thBwcH6eOPPwZH9OuvvwbHmUNDc9tz9OhRSG+tra2l1atXAy76k08+gbTKb775BhxnJW1x7NixY4BsNpvNtGrVKtlFxJ5mLJp2u3fvBseZ28fCwkIYKy0tpW3btsnGmpqaaOXKldDb7YsvvgDzas+ePdDXgNMuKCiAsbKyMtq6dSuU5n744YeyC4YkSbRhwwZojpqXlwd9DbhjXlhYCDSaiooK+vLLLwEX/eGHH8omrR1VLRrReXl5qjDkP0aecXrTrqGhgZYsWXLTcdHTp0+H77xduOh77rlHhi7u6+u76bhou3llfyywc/LuvfdemU5PT89Nx0U3NzcDLnpwcBBw0V1dXbcEFz08y9DDw4PFRXd0dNwWXLTNZgPt9vZ258VF3+q4Vbjo4ePc2Ei1R4KLdkTbUVz0zUY2O6I9EmzySH5vR7RvNS56pPstxj88LlpE8hDx6GJ3d3e23xf3946MeXl5sRTVO6nNYbId0fH19WWRzaK2q6vrTdf28/MDbQ8PD1abw2Q7ut9qcNEuLi4sLvpWaN91uOjz58/TtGnTaOLEiTR9+nR4FiW6DjvQ6/WUkZFBBoMBepHdKHx9fWGn3dzc4ARwd3eHH8ZisbA/DHeScmN+fn5Qtsppe3h4gHtqtVod0vbx8QFjx9XVFVIrOW2bzcZOhpFoi4aWm5sbqy0ec0mSHNL28vKCE9/d3R20ud9bkiTVOtyYp6cn3EE5HVdXVzgHlLS5G4G3tzccXw8PD9B2c3NjtW8Ut3zCP/PMM/T888/T2bNn6dlnn6Vf//rX8Bmj0UhlZWVUWVlJn3zyCT355JM/2pvLHhs2bFCNixZr348dO0abNm2Sjd0IFy26vps3b4ZMPbW46LKyMmhieSNcNEdBEeu91eKiKyoq6IsvvpCN3QgXLbrL27dvh3pvTpvDRVdVVUENuB0XPfziOVJctHjM9+3bR19//bVs7NSpU4CL7u7uppdeeonFRYs3JyVctKj97bffAvXm7NmztGrVKtlYb28vLV++HJz1VatWgVG6a9cu0Ob2+47iopuamqiiooIWL15MRERLliyh5557jlpaWmRZcLNnzx76b3uft5aWFij15CIjIwPKGLmedqmpqXDVTUlJAbyup6cn/eIXv6DBwcGhu4Yd2SwaRampqdBDLDU1FUpZU1NT4W48YcIE6Gzi7u5OTz75JOCiFy1axPZsE3ucpaamwjFLTU2F13cJCQk0ZcoUwEUvWbIEcNEPP/wwLDGVtMXy2NTUVMi5j42NpZycHJm2i4vLECbbfsey2WxQOmr/Tk5bPD6pqaksgOOee+4BFuHSpUtlF1mr1UoPPvgg5C8oaYt32dTUVLhQhYeH04wZM2QsQpvNRk899RTcXGbNmgXv8ZW0xdWt2CdRjFs64U0mE0VGRsp+2IiICDKZTIpInM8//5wSEhJUTXai6y40VxnHjXG4aPFzdlTv8CWih4cHi/BV0lE7Jp7M9jcJIi76VmmLuGg/Pz/ARSthtm+FtohsHom2OOGVfm9R28fHh/z8/GTLbVdXV9Xniz11We1+D38c4bRdXFxGdCxHiou+q0y74uJievHFF9mKMS200MLxuKUTPioqiurq6oaWUDabjerr69l0wiNHjtAvf/lL+uqrr1hqh1KkpqY6hIvm2vqOZIzT5hpJctrc8kutdkpKimpctFgP7+h+T5w4URUuOiAggP2tHdFOSkoCgy40NBTu8H5+fmw9vCPajuKi1eLBuc/FxsbCPnJNLO8oeSY0NJQyMjJo48aNRHS9MWBWVhacGKWlpbR48WLatm0bPFP/WHz66adQe7xnzx42K0k0OE6ePAkNKzs7OxVx0WIKpRIumst+Eg2tM2fOOIyLFstjlZDNonH2/fffs7joP/3pTywuWkwL3rx5M5Rl5ufnw36rxUX39/fTH//4RxYXLaaoKuGiRe2SkhIwzi5fvuwQLnrbtm1g0nKo6oMHD0IW5ZUrV+idd96RjVksFvrDH/7A4qLFFOCdO3dCVmd+fj6Y03ccF71q1Sp6//33aeLEifThhx/SRx99RERE8+fPH6rd/Y//+A/q6+ujp59+mjIzMykrKwuaFyhFaGgoPN8GBQXB8zE3FhAQABefvr4+yszMBFx0RkYGuKlK/oEabV9fX1gJ9Pb20uTJkwEXnZqaCi6y2n3kxry9vWncuHGATZ4yZQrgolNSUiB/XElHPBbc5zw9PSkyMhK0s7OzWWSzOBmUjq8abVdXV4qOjgZto9EoS+u1Wq2k0+ng4ufI7+3i4kKxsbGyi1pXVxdo22w2io+Ph9XbSH7vG8Utf4afMGECXBWJSHbXEV+rjSRiY2Nh6aY0Jk7Y2NhYWHqFhoZSQkICNLFMSEiAyi/u75W0xSKHmJgYiouLk42NGTOGEhISoIllYmIiuLYxMTGsjmh2xsTEQJFOdHQ0YJNDQkIoISEBcNGJiYnQGkxJW7x4xsbGQnFIVFQUnNBBQUEUHx8PuOjExER4FFI6vuJyNzY2FqrOoqKiKCEhAXDR8fHx0EAzMTERjqWStmjacZ8bP348JSQkyEy7wMBASkhIAFx0QkICPIYpaYsrE+5RYng4ffGMFlpooT7uKpf+p4Sz4KI5bUfQxRx55nbhojnyTFhYGIuLFlcxjmpPmjTpjuGiJ0yYANly48aNA9PO19eXJc84gotOTExkcdHiYweXzTc8nP4Ov2nTJug1t3//fjB2jh49ChlaP/zwA3355Zeysf7+fnrjjTdA580334RHgi1btkCvueLiYniEOXbsGJR0Xr58mTZs2CAbGxwcZFHVb731FiTP7NixA7KxiouLoVS4tLQUsq9qa2sh085isbCo6nfeeQfq+3ft2gXNKQ8ePAjaZWVlYKY1NDRApp3VaqXXX38dTt73338fjNK///3vYNIePHgQzKry8nIw0xobGyHTzmazsdoffvghGKVff/01lMwePHgQzLSKigow01paWob8K3tIksRislevXs3iosX+iT9LXPTAwACckH19fTBB+vr6oFlFT08PTOLm5mby8fGBJpajR4+GRhLcd/b29rLa4lh3dzeYYU1NTeTr6wtNLL29vcGtVruP3PZ0dHSQxWIBAoufnx80sfTy8gJtpX3ktMWx9vZ2FlVt76lnDzuyWURVqz2+3PbYs/7Eenh/f3/ARbu5uYG2I793a2vr0Kvp4dsTGBgIuGh7T72fso/iZ8Rw+iV9Wloam3LIpdZyKZDiu/DIyEgyGo1g2hmNRliWc3+vNrWWS+uNiIggo9EIpp3RaIRluV6vZ9N61aTWJicnA7J53LhxZDQagTyTnZ0NRpBSSrGa1NqJEycCsnns2LFkNBrBODMYDPBIoKTNpdaKr9UmTJhAkydPlmmPGTOGjEYjkGcMBgMsy5W01aTW6nQ6mjJlCpBnjEYjkGemTJkCuShK2iNNrXX6O7wWWmihPpz+Dq8WFx0cHKwaF+3IGIeLVjLtHNFJTU1lcdFcph1n2jminZyczJp2HHGHe03kiPakSZMcwkU7op2UlKQaF32ztcXXtUTXXyGLK8d/eFz07t27oWy1vLwcEnfOnDkDTfrNZjNkwFmtVlq3bh3orFu3DpZPeXl5sGw8ceIEaJ8+fRoy05qamiADzt7HTYz169dDAsq+ffuorq5ONlZRUcEim0VcdGtrK2ShSZLEam/cuBG8hm+//RZKZisrK2G/z507B+ZpW1sbi6r+/PPPQXvTpk2QcFRUVATv9isrK8FMO3/+PJiIHR0dLKqa0/7yyy/hUaikpASW6lVVVaB94cIFMBG7uroAVU1ELJp869at4EsdPHgQUNDV1dWgLRrYYjj9hOdwO2rHampqYKy2tpZMJhOYdvbx4cFhhhzZnrq6OqqtrQXTrra2lkUfO6JdU1MDuGiTyQSmnclkYnXEsZqaGjjZ1GpfvXqVamtrgTxTW1uren/UaNuRVKJZaTKZgDxjMplU74+asUuXLkE32tbWVjKZTECe4bS5c1VJ+0bh9Ev6adOmAcJ36tSpYNrl5OTAktNoNAKyOSYmhh566CEw7ebNmwfL05ycHMDz5uTkwHJu6tSpsBwzGAwyAgrR9Uywhx56CEy7uXPnsghqTls07XJycmDpn5WVRffeey/goufPnw+m3Zw5c0in08F3qsFF5+TkwOogIyODcnNzwTCcP38+mHazZ88GXDSnPXXqVDDtcnJy4JVeeno6zZw5E3DRCxYsANPugQceANCj0n6LjzdTp06FNzqpqak0a9YsMO0WLlzI4qJFI1rp9xZXneL5LIbT3+G10EIL9eH0d3jxTk50/TWP2LwgICCAxUVzf88hfLkxJW2uSEctqlrt2IQJE1hctJjt5u/vzzYTcURbp9NB77QxY8awuGjOrHREOzExkcVFc6Qhzqx0RDs+Ph4Mw5CQEDDtvLy82NJctecQ97mYmBgw5IKDg9nedzcKp7/Dl5eXw9Lthx9+ALpJXV0d9Chra2sDI0+SJMiKI7qevSce3IqKChbZzOGixYy8zs5OFlUt9i1T0q6srISCHPtz4vCor68HVHV3dzdbsKS036ITXFVVBft9+fJl2G+z2Qyo6t7eXhZVzWkXFxfDkrWqqgqSUjjtxsZGyAbs6+tjy0c57ZKSEjBKq6urIRmnpqYGjnlzczMYmAMDA9AHUEn7wIED0Bz19OnT8Jhw5coV8FLE7RPD6Sf8kSNHoC68rKwMTujS0lJwq6uqquAEqKmpoYKCAjDtCgsLwUhRq11WVgbalZWVoG0ymaigoABMu6KiIrhgHDt2DPDB3D5y21NVVUWHDh0CXHR+fj6YdsXFxZDCe/z4cbhYcdrc2MmTJ0HbbDZTXl4emHYlJSUwaUtLS0Fb7e9dXV1NBw8eBFz03r17wbQ7cOAATFpuv9Vqnzp1ig4cOACm3d69e8G0O3DgALxtUXt8xe0Tw+nJM2azGZDNI8FFm81mwEV3dnYCLrqjowNw0Q0NDbRs2TLZmJ0882O4aDv15mbioq1WK4uL9vDwUIWL7urq+sm4aEmSKDk5WVbOGhISwuKiRWSzr68vdXV1sbjoRYsWybTt5JnhS9dRo0ZRUlKSLM8iNDQUcNGRkZFD1Bt7+Pj4ALJZCRfd2toKuGh7OevwR5ewsDDVuOienh7ARbe2tgIuuq2tTRUuOjw8XMNFa6GFFtfD6U27W4GLdmSM66Dq7e1907XHjx8Pph2HbPb29mY7BDuiHRERoRoXzaGqHdEODw9ncdHiMVfCRTuizZXC+vv7w5gSLtoRbS6jz8/Pj4WR3Cic/g7PoYuvXbsGWVI9PT1QyNHb2wuVYEQEGWxKY83NzaDT1tbGVjCJ2v39/Q5ri/vd3t4OyObe3l4wuQYHB1lMNqdTW1sLhqEj2haLBfrFK2nbG6CK2mL2XWdnJ1sxKR5fq9XKYrJHoi3mFXR0dMB+9/f3g8Fmb+AqBoevrq+vh4nMaXd2dgImW/yMGE4/4TlcdH5+PuCquGaDhw8fhhTTK1eu0KpVqwAXvXr1ashi+uqrr8B55dDF3PYcPXqUdu7cKRurq6ujDz/8UHZCWywWWrNmDbxh+Pvf/04lJSU/qq2EqhaRzWazmT744APZRLZarfTpp5+Cy//NN99AbwHu+BYUFMB+l5aWQoppU1MTvf/++7ILpc1mo7Vr14Jpt3v3bnC2ueO7b98+GCsvL4f+B62trfTee+8BLvqLL76AtNU9e/ZAbwElVLXYMLWiooI2btwIuOj33nsPcNEbNmyAunauMasSovtG4fSmXX19PeCi+/r6yGAwyIwzO+xguHEWHR1NDQ0NLLKZw0XPmTNHNlZXV8fiojMzM2VLOn9/f/L29pYZZ+PHjyez2Uz33nvv0Njo0aNpcHAQcNG9vb00b948QFU/+eSTsmXe4OAgpaWlyYwzOyhhuHEWGRlJjY2NMmyyl5cXWSwW0O7p6aH58+fLtM1mMz3++OMy48xqtVJycrLMOLNDH4YbZ+Hh4dTc3CzT9vT0ZLW7urpo4cLh/9PzAAAOPklEQVSFgIt+5JFHZMaZJEmUlJQkWwqHhISQzWaTGWdhYWHU2toKyGar1Qqo6s7OTnrkkUdk2s3NzbRgwQLZ4+KoUaMoPj5eZpyFhobSwMAATZ48eWhs7Nix1NbWJttvNzc3stlsoN3W1ga46NbWVpo7d64sE9LeGHN4BmhYWNgNcdFOf4d3c3ODZxulMQ7Gx31OCdmsRsfV1VX19qjVdnFx+cn7eKPtGe4B3AztkYxx2sM/a8cmO3J8ud9bxEWPRHukx/enaju6jzcKpzftRKOISBkXzZUOcn/vyBin7erqelu0OWSzEqraER0fHx8WF83t983W5lDVSrhoJeLvTx3z8fFhkc3iJHNxcbkt2h4eHncfLvpWR0BAAOw0hw/28PCAMYvFAim4ROp/hMDAQMjG4rS5iWi1Wh3S9vf3B2OHu6hx2jabTZG9rlZbDCVt8VhIkuSQttKJL2pz2yNJkkOTbvTo0XBH5c4rNzc31docMtzX1xcMQy8vL7iwcNr/8C79+vXrIdtILS76+PHjQ1QcezQ3N9Mrr7wCRM9XX30VXN9NmzaxuGhROz8/H+ruy8vLoe7+2rVr9PLLLwMu+rXXXgN3ecuWLWBWqsVFV1ZWQg14e3s7vfTSS4CLXrFiBTjJW7duZXHRolHF4aJPnjwJxJ3Ozk5avnw54KLffPNNSB3dvn07mJWcdkFBAVBvTp8+DcSd7u5uWr58Objb7777LtSf79y5EwxDJVy0qH3u3Dkg7vT29tKLL74IbzxWrlwJRumuXbvAMOT2m0vNHh5Ov6RPS0ujpKQk2VhycjIUJSQnJ8PVb+LEiVCG6OHhQY899hjgohctWgR3yuTkZCh0SE5OhlLW5ORkyI3W6XTQ087V1ZWeeOIJGhwclOGiH374YVgiTpo0id1HsatPSkoKvDaKi4ujzMxMQDb/4he/kOGiLRYLlMzadTht8X1/cnIyvJ6Kjo4mg8EATD47Jtv+WGC1Wmnu3LmwClLSFt/DJycnw+u2yMhImjp1qkxbkqQhbfvva7Va6f7774fcCaXfW3yUSU5Ohrcq48aNo/vuuw9w0UuWLJFd4G02G+Xm5kK7cSVtcXU73BjmwuknfHBwMPwwSmNiFRv3OX9/fwoMDARcNIcPHom2OBYUFKSoPXw56O7uTkFBQaq1OfQQp21Pe7WHn5+forZYBefofnPa9vRje7i5uY1IW5zwSsdC1Pb19aWAgADARQcHB7Pa3DkkTnhuGwMDAyk4OBhw0QEBAbJtd3FxUdTm9luc8FyC1/Bw+iW9FlpooT6c/g7PIZvDw8NZ8szNxianpaWpxkWLNel3GhfNaavdHkdx0Y5oK+GixceOkeCi1WrHx8fDo5WjuGi1Y3FxcbCKGTt2LBi3dxQXfTti7dq1UMbIZUQVFhaCoVVdXQ3mld1A4pDNanHRYrZTUVERaH/33XdAYOnp6QFUNRHRn//8Z6g/37hxI5BIOGxycXExmHbnz58H86qvr49FVf/v//4vpMd++eWXUJq7b98+2O/i4mL6+uuvZWMXL15kcdF/+tOf4OR9/fXXWVy0WI66b98+2O8DBw6AcXb58mV6//33ZWODg4MsqvqNN96AFOAdO3awWZ2i9qFDh2jXrl2yMZPJRO+++65szGKx0B//+EdYlr/99tvgP+zcuRPKqbkMQ67XwPBw+gkfHBwMV/eAgAB49cON+fv7wzNZb28vpaWlydJb+/v7Sa/Xg5saEBDAdtZRo80V8/T09FB6ejrgolNSUkDb399flQ435unpSaGhobLJ3d3dTRkZGYCLnjhxIuSuO6Lt5uYGqOru7m7KzMyU5cNbLBbS6XRgdqrV4cZcXFwAVd3d3U2TJ0+WGZtWq5Xi4+NhIjryexNdL4oRcdGits1mo5iYGLjwjmS/bxROv6SPj4+H5VNcXBwQS+Li4uDEjY2Nhc+NHTuWdDodNLHU6XTgnCrpcGPi6iA2Nhbc/DFjxpBOp4MmljqdDlpkKelwiGOxUCYmJgawySEhIaTT6QAXrdPpANmspC0u6ePi4qAbTHR0NCUmJsq0g4ODSafTyd5Tu7m5kU6ng/1R0haXu3FxcXBeREdHk06nA1x0YmIiNNDU6XTwKMR9Z1xcHJh23DZGRUWRTqcDXLROpwNctE6ng9ZgSvstXpQ4eOfwcPo7vBZaaKE+nP4Oz+F2OfLM7cRFi8bZrcBFp6enq8ZFc+bV7cBFK5FnbgUuWjTTbgUuOikpicVFi/kdvr6+wIZT+s6R4KI50+5nh4vevHkzlK2WlJSAsXPs2DHI0Lp48SKUSw4MDNCbb74JOm+99RY8EmzduhUSLEpKSiD77vjx41BOWlNTA1l+g4ODLKr6nXfeYXHRYjYWp11WVgYGZl1dHWT5WSwWVvu9996DWvOvvvqKzp49Kxs7dOgQaJ84cQK0zWYzrV27VjZmtVpZTPYHH3wA9d5ff/01mLRK2qKZ1tTURH/7299kYzabjVasWAETZ+XKldAkdPfu3dBr7tChQ2CUVVZWQrZla2srGKX2TEZR+6OPPoL+CXv37qWTJ0/Kxg4fPgxGnvgZMZx+wvf29sJJ0dPTAycpN9bV1QUTqbGxkby8vKCJpaenJzwL9/T0QBZbd3e3Ku3Ozk4w4pqamob6nNljYGCAPDw8WG1OR832tLe3U39/PxBYvL29oYmlm5sbOOVqj293dzdsz7Vr1wBV3dLSQqNHj4Ymlq6urpCpp/b4cmOtra2Aqm5tbSUfHx/ARbu4uIC2I793c3MzSZIEuGhfX1/ARds/r2Yfue25UYySxMvLXR4/Vg2khRZaEKwa7OF0z/BOdn3SQou7Kpx+Sa+FFlqoD23Ca6HFzyi0CT+COH/+PE2bNo0mTpxI06dPB4eeiOiVV14hvV5PGRkZZDAYIPXxbtlOe5w7d458fHzod7/73W3cQvXbuGXLFkpLS6PU1FRKT09nO/3eyW1samqiBQsWUHp6OqWkpNBzzz0Habp3VUhaqI5Zs2ZJGzdulCRJktavXy/NmjULPpOfny/19vZKkiRJVVVVUmBgoNTX13fXbackSZLVapVmzJghLVu2TPrtb397OzdR1TaWlpZKKSkpUmNjoyRJktTR0SH19/ffVdv4wgsvDB07i8UiGY1GaevWrbdtG0ca2oRXGY2NjVJQUJBks9kkSbo+WQIDA6Xm5uYb/l1gYKBUV1d3OzZRkqSRbeerr74qvfnmm9Ly5ctv64RXu43Lli2T1q5de9u2a3io3cbf/OY30jPPPCPZbDaps7NTysrKkg4fPnwnNllVaEt6lWEymSgyMlLWISYiIgJyxYfH559/TgkJCSyu+VaF2u2sqqqi/Px8+s1vfnPbtm2k23jmzBn64YcfKDc3l6ZMmUKvvvrqXbeN//M//0Pnzp2j8PBwioiIoDlz5tDUqVNv23aONLQJf4uiuLiYXnzxRdq8efOd3hQIi8VCTz/9NK1evfquzmuwWq1UXV1NhYWFtH//ftqzZw+tX7/+Tm+WLLZu3Urp6elkNpuprq6OiouLaceOHXd6s5TjTi8xnCVGslQ+fPiwFB0dLVVWVt7uzVS1nVeuXJFCQ0OluLg4KTY2VgoMDJQCAwOlp59++q7ZRkmSpAULFkjr1q0b+veKFSuk559//q7aRr1eL5WWlg79+/XXX5eee+6527KNPyW0O7zKCA0NpYyMjKH8940bN1JWVhYU6ZSWltLixYtp27Zt0KTybtnOqKgoamxspIsXL9KlS5fohRdeoF/96le0evXqu2YbiYiWLl069JZjcHCQCgsLb9sxVbuN8fHxQ51jBwYGqKCgABqj3lVxp684zhRnz56VjEajNGHCBCknJ0c6f/68JEmS9NBDD0nl5eWSJEmSwWCQxo4dK2VmZkoZGRlSZmamdOrUqbtuO4fH7Tbt1G6jzWaT/uu//kuaNGmSpNfrpf/+7/++67bxhx9+kGbPni2lpaVJKSkp0vPPPy9Zrdbbup0jCafLpddCCy1+emhLei20+BmFNuG10OJnFNqE10KLn1FoE14LLX5GoU14LbS4hfHb3/6W4uPjycXFhc6cOXNTvnNwcJAyMzMpKyuLsrKyaMKECeTh4QHsAi6crgGGFlo4UyxatIheeOEFuvfee2/ad7q7u1NFRcXQv999910qLCwEHh0X2h1eCy1uYUybNg3gF0TXG5vOmjWLDAYDGQwGoAONJNauXUv/+q//quqz2h1eCy1uc7S3t9MzzzxDe/bsobCwMDKbzWQwGOj06dMsseZGUVZWRmazmRYuXKjq89qE12LE8cYbb9Dly5fpgw8+IKLrnX7T0tLo8uXL0DNeC4zDhw/TpUuXaN68eUN3fhcXF7pw4QJlZWVRaGgoFDVJkkSRkZHAE1y7di099dRT0BtfKbQJr8WI49/+7d8oJSWFVqxYQaNHj6Y1a9bQsmXLtMmuMiRJovT0dNq/fz/7/9V29env76dNmzbRwYMHVWtrz/BajDiCgoLo4YcfpnXr1pHVaqWPP/6Ynn322Tu9WU4T06ZNo/Pnz8smfFlZ2Yi/Z/v27ZSUlETJycnq/+hOJvJr4bxRXV0tpaWlSdu3b5fmzp17pzfnro3//M//lMaPHy+5u7tL4eHhkl6vlyRJksrKyqQZM2ZIGRkZ0qRJk6QFCxaM+Ltnz54trVmzZkR/oxXPaPGTY9asWXThwgVauXIlLViw4E5vjhYqQlvSa/GT49///d/J1dVVm+xOFNqE1+InR1FRET333HN3ejO0GEFoS3otRhwNDQ00c+ZMioiIoN27d2vuvBOFNuG10OJnFNqSXgstfkahTXgttPgZhTbhtdDiZxTahNdCi59RaBNeCy1+RqFNeC20+BnF/wNX2o1UuMo5gQAAAABJRU5ErkJggg==' style='max-width:100%; margin: auto; display: block; '/>\"};\n",
       "    var dim_vals = [0.0, 0.0, 0.0];\n",
       "    var keyMap = {};\n",
       "    var notFound = \"<h2 style='vertical-align: middle>No frame at selected dimension value.<h2>\";\n",
       "    function create_widget() {\n",
       "        setTimeout(function() {\n",
       "            anim9f35b732ded941eb9cbc24900a5fc8eb = new MPLSelectionWidget(frame_data, \"9f35b732ded941eb9cbc24900a5fc8eb\", widget_ids,\n",
       "\t\t\t\tkeyMap, dim_vals, notFound, false, 'default',\n",
       "\t\t\t\tfalse, \"./json_figures/\", \"bounded\");\n",
       "        }, 0);\n",
       "    }\n",
       "    \n",
       "\n",
       "\n",
       "    create_widget();\n",
       "    \n",
       "\n",
       "\n",
       "})();\n",
       "</script>"
      ],
      "text/plain": [
       "b':DynamicMap   [field,slice_axis,slice_coord]'"
      ]
     },
     "execution_count": 17,
     "metadata": {},
     "output_type": "execute_result"
    }
   ],
   "source": [
    "%%opts Image style(interpolation='nearest', cmap='RdBu')[colorbar=True]\n",
    "fieldhandler.create_inplane_dynamic_map(file_list, np.linspace(0, 100e-9, 40), 'x')"
   ]
  },
  {
   "cell_type": "code",
   "execution_count": 14,
   "metadata": {
    "collapsed": false
   },
   "outputs": [
    {
     "data": {
      "text/plain": [
       "array([  0.00000000e+00,   1.26582278e-09,   2.53164557e-09,\n",
       "         3.79746835e-09,   5.06329114e-09,   6.32911392e-09,\n",
       "         7.59493671e-09,   8.86075949e-09,   1.01265823e-08,\n",
       "         1.13924051e-08,   1.26582278e-08,   1.39240506e-08,\n",
       "         1.51898734e-08,   1.64556962e-08,   1.77215190e-08,\n",
       "         1.89873418e-08,   2.02531646e-08,   2.15189873e-08,\n",
       "         2.27848101e-08,   2.40506329e-08,   2.53164557e-08,\n",
       "         2.65822785e-08,   2.78481013e-08,   2.91139241e-08,\n",
       "         3.03797468e-08,   3.16455696e-08,   3.29113924e-08,\n",
       "         3.41772152e-08,   3.54430380e-08,   3.67088608e-08,\n",
       "         3.79746835e-08,   3.92405063e-08,   4.05063291e-08,\n",
       "         4.17721519e-08,   4.30379747e-08,   4.43037975e-08,\n",
       "         4.55696203e-08,   4.68354430e-08,   4.81012658e-08,\n",
       "         4.93670886e-08,   5.06329114e-08,   5.18987342e-08,\n",
       "         5.31645570e-08,   5.44303797e-08,   5.56962025e-08,\n",
       "         5.69620253e-08,   5.82278481e-08,   5.94936709e-08,\n",
       "         6.07594937e-08,   6.20253165e-08,   6.32911392e-08,\n",
       "         6.45569620e-08,   6.58227848e-08,   6.70886076e-08,\n",
       "         6.83544304e-08,   6.96202532e-08,   7.08860759e-08,\n",
       "         7.21518987e-08,   7.34177215e-08,   7.46835443e-08,\n",
       "         7.59493671e-08,   7.72151899e-08,   7.84810127e-08,\n",
       "         7.97468354e-08,   8.10126582e-08,   8.22784810e-08,\n",
       "         8.35443038e-08,   8.48101266e-08,   8.60759494e-08,\n",
       "         8.73417722e-08,   8.86075949e-08,   8.98734177e-08,\n",
       "         9.11392405e-08,   9.24050633e-08,   9.36708861e-08,\n",
       "         9.49367089e-08,   9.62025316e-08,   9.74683544e-08,\n",
       "         9.87341772e-08,   1.00000000e-07])"
      ]
     },
     "execution_count": 14,
     "metadata": {},
     "output_type": "execute_result"
    }
   ],
   "source": [
    "np.linspace(0, 100e-9, 80)"
   ]
  },
  {
   "cell_type": "code",
   "execution_count": null,
   "metadata": {
    "collapsed": true
   },
   "outputs": [],
   "source": []
  }
 ],
 "metadata": {
  "anaconda-cloud": {},
  "kernelspec": {
   "display_name": "Python [fidimag]",
   "language": "python",
   "name": "Python [fidimag]"
  },
  "language_info": {
   "codemirror_mode": {
    "name": "ipython",
    "version": 3
   },
   "file_extension": ".py",
   "mimetype": "text/x-python",
   "name": "python",
   "nbconvert_exporter": "python",
   "pygments_lexer": "ipython3",
   "version": "3.5.2"
  }
 },
 "nbformat": 4,
 "nbformat_minor": 0
}
