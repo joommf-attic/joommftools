{
 "cells": [
  {
   "cell_type": "code",
   "execution_count": 1,
   "metadata": {
    "collapsed": false
   },
   "outputs": [
    {
     "data": {
      "text/html": [
       "\n",
       "<script src=\"https://code.jquery.com/ui/1.10.4/jquery-ui.min.js\" type=\"text/javascript\"></script>\n",
       "<script type=\"text/javascript\">function HoloViewsWidget(){\n",
       "}\n",
       "\n",
       "HoloViewsWidget.prototype.init_slider = function(init_val){\n",
       "\tif(this.load_json) {\n",
       "\t\tthis.from_json()\n",
       "\t} else {\n",
       "\t\tthis.update_cache();\n",
       "\t}\n",
       "}\n",
       "\n",
       "HoloViewsWidget.prototype.populate_cache = function(idx){\n",
       "    this.cache[idx].html(this.frames[idx]);\n",
       "    if (this.embed) {\n",
       "        delete this.frames[idx];\n",
       "    }\n",
       "}\n",
       "\n",
       "HoloViewsWidget.prototype.process_error = function(msg){\n",
       "\n",
       "}\n",
       "\n",
       "HoloViewsWidget.prototype.from_json = function() {\n",
       "\tvar data_url = this.json_path + this.id + '.json';\n",
       "\t$.getJSON(data_url, $.proxy(function(json_data) {\n",
       "\t\tthis.frames = json_data;\n",
       "\t\tthis.update_cache();\n",
       "\t\tthis.update(0);\n",
       "\t}, this));\n",
       "}\n",
       "\n",
       "HoloViewsWidget.prototype.dynamic_update = function(current){\n",
       "    function callback(msg){\n",
       "        /* This callback receives data from Python as a string\n",
       "         in order to parse it correctly quotes are sliced off*/\n",
       "        var data = msg.content.data['text/plain'].slice(1, -1);\n",
       "        this.frames[current] = data;\n",
       "        this.update_cache();\n",
       "        this.update(current);\n",
       "    }\n",
       "    if(!(current in this.cache)) {\n",
       "        var kernel = IPython.notebook.kernel;\n",
       "        callbacks = {iopub: {output: $.proxy(callback, this)}};\n",
       "        var cmd = \"holoviews.plotting.widgets.NdWidget.widgets['\" + this.id + \"'].update(\" + current + \")\";\n",
       "        kernel.execute(\"import holoviews;\" + cmd, callbacks, {silent : false});\n",
       "    } else {\n",
       "        this.update(current);\n",
       "    }\n",
       "}\n",
       "\n",
       "HoloViewsWidget.prototype.update_cache = function(){\n",
       "    var frame_len = Object.keys(this.frames).length;\n",
       "    for (var i=0; i<frame_len; i++) {\n",
       "        if(!this.load_json || this.dynamic)  {\n",
       "            frame = Object.keys(this.frames)[i];\n",
       "        } else {\n",
       "            frame = i;\n",
       "        }\n",
       "        if(!(frame in this.cache)) {\n",
       "            this.cache[frame] = $('<div />').appendTo(\"#\" + this.img_id).hide();\n",
       "            var cache_id = this.img_id+\"_\"+frame;\n",
       "            this.cache[frame].attr(\"id\", cache_id);\n",
       "            this.populate_cache(frame);\n",
       "        }\n",
       "    }\n",
       "}\n",
       "\n",
       "HoloViewsWidget.prototype.update = function(current){\n",
       "    if(current in this.cache) {\n",
       "        $.each(this.cache, function(index, value) {\n",
       "            value.hide();\n",
       "        });\n",
       "        this.cache[current].show();\n",
       "\t\tthis.wait = false;\n",
       "    }\n",
       "}\n",
       "\n",
       "\n",
       "function SelectionWidget(frames, id, slider_ids, keyMap, dim_vals, notFound, load_json, mode, cached, json_path, dynamic){\n",
       "    this.frames = frames;\n",
       "    this.fig_id = \"fig_\" + id;\n",
       "    this.img_id = \"_anim_img\" + id;\n",
       "    this.id = id;\n",
       "    this.slider_ids = slider_ids;\n",
       "    this.keyMap = keyMap\n",
       "    this.current_frame = 0;\n",
       "    this.current_vals = dim_vals;\n",
       "    this.load_json = load_json;\n",
       "    this.mode = mode;\n",
       "    this.notFound = notFound;\n",
       "    this.cached = cached;\n",
       "    this.dynamic = dynamic;\n",
       "    this.cache = {};\n",
       "\tthis.json_path = json_path;\n",
       "    this.init_slider(this.current_vals[0]);\n",
       "\tthis.queue = [];\n",
       "\tthis.wait = false;\n",
       "}\n",
       "\n",
       "SelectionWidget.prototype = new HoloViewsWidget;\n",
       "\n",
       "\n",
       "SelectionWidget.prototype.get_key = function(current_vals) {\n",
       "\tvar key = \"(\";\n",
       "    for (var i=0; i<this.slider_ids.length; i++)\n",
       "    {\n",
       "        val = this.current_vals[i];\n",
       "        if (!(typeof val === 'string')) {\n",
       "            if (val % 1 === 0) { var fixed = 1;}\n",
       "            else { var fixed = 10;}\n",
       "            val = val.toFixed(fixed)\n",
       "        }\n",
       "        key += \"'\" + val + \"'\";\n",
       "        if(i != this.slider_ids.length-1) { key += ', ';}\n",
       "        else if(this.slider_ids.length == 1) { key += ',';}\n",
       "    }\n",
       "    key += \")\";\n",
       "\treturn this.keyMap[key];\n",
       "}\n",
       "\n",
       "SelectionWidget.prototype.set_frame = function(dim_val, dim_idx){\n",
       "\tthis.current_vals[dim_idx] = dim_val;\n",
       "    var current = this.get_key(this.current_vals);\n",
       "    if(current === undefined && !this.dynamic) {\n",
       "        return\n",
       "    }\n",
       "\tif (this.dynamic || !this.cached) {\n",
       "\t\tif (this.time === undefined) {\n",
       "\t\t\t// Do nothing the first time\n",
       "\t\t} else if ((this.timed === undefined) || ((this.time + this.timed) > Date.now())) {\n",
       "\t\t\tvar key = this.current_vals;\n",
       "\t\t\tif (!this.dynamic) {\n",
       "\t\t\t\tkey = this.get_key(key);\n",
       "\t\t\t}\n",
       "\t\t\tthis.queue.push(key);\n",
       "\t\t\treturn\n",
       "\t\t}\n",
       "\t}\n",
       "\tthis.queue = [];\n",
       "\tthis.time = Date.now();\n",
       "    if(this.dynamic) {\n",
       "        this.dynamic_update(this.current_vals)\n",
       "        return;\n",
       "    }\n",
       "    this.current_frame = current;\n",
       "    if(this.cached) {\n",
       "        this.update(current)\n",
       "    } else {\n",
       "        this.dynamic_update(current)\n",
       "    }\n",
       "}\n",
       "\n",
       "\n",
       "/* Define the ScrubberWidget class */\n",
       "function ScrubberWidget(frames, num_frames, id, interval, load_json, mode, cached, json_path, dynamic){\n",
       "    this.img_id = \"_anim_img\" + id;\n",
       "    this.slider_id = \"_anim_slider\" + id;\n",
       "    this.loop_select_id = \"_anim_loop_select\" + id;\n",
       "    this.id = id;\n",
       "    this.fig_id = \"fig_\" + id;\n",
       "    this.interval = interval;\n",
       "    this.current_frame = 0;\n",
       "    this.direction = 0;\n",
       "    this.dynamic = dynamic;\n",
       "    this.timer = null;\n",
       "    this.load_json = load_json;\n",
       "    this.mode = mode;\n",
       "    this.cached = cached;\n",
       "    this.frames = frames;\n",
       "    this.cache = {};\n",
       "    this.length = num_frames;\n",
       "\tthis.json_path = json_path;\n",
       "    document.getElementById(this.slider_id).max = this.length - 1;\n",
       "    this.init_slider(0);\n",
       "\tthis.wait = false;\n",
       "\tthis.queue = [];\n",
       "}\n",
       "\n",
       "ScrubberWidget.prototype = new HoloViewsWidget;\n",
       "\n",
       "ScrubberWidget.prototype.set_frame = function(frame){\n",
       "\tthis.current_frame = frame;\n",
       "\twidget = document.getElementById(this.slider_id);\n",
       "    if (widget === null) {\n",
       "        this.pause_animation();\n",
       "        return\n",
       "    }\n",
       "    widget.value = this.current_frame;\n",
       "    if(this.cached) {\n",
       "        this.update(frame)\n",
       "    } else {\n",
       "        this.dynamic_update(frame)\n",
       "    }\n",
       "}\n",
       "\n",
       "\n",
       "ScrubberWidget.prototype.process_error = function(msg){\n",
       "\tif (msg.content.ename === 'StopIteration') {\n",
       "\t\tthis.pause_animation();\n",
       "\t\tthis.stopped = true;\n",
       "\t\tvar keys = Object.keys(this.frames)\n",
       "\t\tthis.length = keys.length;\n",
       "\t\tdocument.getElementById(this.slider_id).max = this.length-1;\n",
       "\t\tdocument.getElementById(this.slider_id).value = this.length-1;\n",
       "\t\tthis.current_frame = this.length-1;\n",
       "\t}\n",
       "}\n",
       "\n",
       "\n",
       "ScrubberWidget.prototype.get_loop_state = function(){\n",
       "    var button_group = document[this.loop_select_id].state;\n",
       "    for (var i = 0; i < button_group.length; i++) {\n",
       "        var button = button_group[i];\n",
       "        if (button.checked) {\n",
       "            return button.value;\n",
       "        }\n",
       "    }\n",
       "    return undefined;\n",
       "}\n",
       "\n",
       "\n",
       "ScrubberWidget.prototype.next_frame = function() {\n",
       "\tif (this.dynamic || !this.cached) {\n",
       "\t\tif (this.wait) {\n",
       "\t\t\treturn\n",
       "\t\t}\n",
       "\t\tthis.wait = true;\n",
       "\t}\n",
       "\tif (this.dynamic && this.current_frame + 1 >= this.length) {\n",
       "\t\tthis.length += 1;\n",
       "        document.getElementById(this.slider_id).max = this.length-1;\n",
       "\t}\n",
       "    this.set_frame(Math.min(this.length - 1, this.current_frame + 1));\n",
       "}\n",
       "\n",
       "ScrubberWidget.prototype.previous_frame = function() {\n",
       "    this.set_frame(Math.max(0, this.current_frame - 1));\n",
       "}\n",
       "\n",
       "ScrubberWidget.prototype.first_frame = function() {\n",
       "    this.set_frame(0);\n",
       "}\n",
       "\n",
       "ScrubberWidget.prototype.last_frame = function() {\n",
       "    this.set_frame(this.length - 1);\n",
       "}\n",
       "\n",
       "ScrubberWidget.prototype.slower = function() {\n",
       "    this.interval /= 0.7;\n",
       "    if(this.direction > 0){this.play_animation();}\n",
       "    else if(this.direction < 0){this.reverse_animation();}\n",
       "}\n",
       "\n",
       "ScrubberWidget.prototype.faster = function() {\n",
       "    this.interval *= 0.7;\n",
       "    if(this.direction > 0){this.play_animation();}\n",
       "    else if(this.direction < 0){this.reverse_animation();}\n",
       "}\n",
       "\n",
       "ScrubberWidget.prototype.anim_step_forward = function() {\n",
       "    if(this.current_frame < this.length || (this.dynamic && !this.stopped)){\n",
       "        this.next_frame();\n",
       "    }else{\n",
       "        var loop_state = this.get_loop_state();\n",
       "        if(loop_state == \"loop\"){\n",
       "            this.first_frame();\n",
       "        }else if(loop_state == \"reflect\"){\n",
       "            this.last_frame();\n",
       "            this.reverse_animation();\n",
       "        }else{\n",
       "            this.pause_animation();\n",
       "            this.last_frame();\n",
       "        }\n",
       "    }\n",
       "}\n",
       "\n",
       "ScrubberWidget.prototype.anim_step_reverse = function() {\n",
       "    this.current_frame -= 1;\n",
       "    if(this.current_frame >= 0){\n",
       "        this.set_frame(this.current_frame);\n",
       "    } else {\n",
       "        var loop_state = this.get_loop_state();\n",
       "        if(loop_state == \"loop\"){\n",
       "            this.last_frame();\n",
       "        }else if(loop_state == \"reflect\"){\n",
       "            this.first_frame();\n",
       "            this.play_animation();\n",
       "        }else{\n",
       "            this.pause_animation();\n",
       "            this.first_frame();\n",
       "        }\n",
       "    }\n",
       "}\n",
       "\n",
       "ScrubberWidget.prototype.pause_animation = function() {\n",
       "    this.direction = 0;\n",
       "    if (this.timer){\n",
       "        clearInterval(this.timer);\n",
       "        this.timer = null;\n",
       "    }\n",
       "}\n",
       "\n",
       "ScrubberWidget.prototype.play_animation = function() {\n",
       "    this.pause_animation();\n",
       "    this.direction = 1;\n",
       "    var t = this;\n",
       "    if (!this.timer) this.timer = setInterval(function(){t.anim_step_forward();}, this.interval);\n",
       "}\n",
       "\n",
       "ScrubberWidget.prototype.reverse_animation = function() {\n",
       "    this.pause_animation();\n",
       "    this.direction = -1;\n",
       "    var t = this;\n",
       "    if (!this.timer) this.timer = setInterval(function(){t.anim_step_reverse();}, this.interval);\n",
       "}\n",
       "\n",
       "function extend(destination, source) {\n",
       "    for (var k in source) {\n",
       "        if (source.hasOwnProperty(k)) {\n",
       "            destination[k] = source[k];\n",
       "        }\n",
       "    }\n",
       "    return destination;\n",
       "}\n",
       "\n",
       "function update_widget(widget, values) {\n",
       "\tif (widget.hasClass(\"ui-slider\")) {\n",
       "\t\twidget.slider('option',\n",
       "\t\t\t\t\t  {'min': 0, 'max': values.length-1,\n",
       "\t\t\t\t\t   'dim_vals': values, 'value': 0,\n",
       "\t\t\t\t\t   'dim_labels': values})\n",
       "\t\twidget.slider('option', 'slide').call(widget, event, {'value': 0})\n",
       "\t} else {\n",
       "\t\twidget.empty();\n",
       "\t\tfor (var i=0; i<values.length; i++){\n",
       "\t\t\twidget.append($(\"<option>\", {\n",
       "\t\t\t\tvalue: i,\n",
       "\t\t\t\ttext: values[i]\n",
       "\t\t\t}))};\n",
       "\t\twidget.data('values', values);\n",
       "\t\twidget.data('value', 0);\n",
       "\t\twidget.trigger(\"change\");\n",
       "\t};\n",
       "}\n",
       "\n",
       "// Define MPL specific subclasses\n",
       "function MPLSelectionWidget() {\n",
       "\tSelectionWidget.apply(this, arguments);\n",
       "}\n",
       "\n",
       "function MPLScrubberWidget() {\n",
       "\tScrubberWidget.apply(this, arguments);\n",
       "}\n",
       "\n",
       "// Let them inherit from the baseclasses\n",
       "MPLSelectionWidget.prototype = Object.create(SelectionWidget.prototype);\n",
       "MPLScrubberWidget.prototype = Object.create(ScrubberWidget.prototype);\n",
       "\n",
       "// Define methods to override on widgets\n",
       "var MPLMethods = {\n",
       "\tinit_slider : function(init_val){\n",
       "\t\tif(this.load_json) {\n",
       "\t\t\tthis.from_json()\n",
       "\t\t} else {\n",
       "\t\t\tthis.update_cache();\n",
       "\t\t}\n",
       "\t\tthis.update(0);\n",
       "\t\tif(this.mode == 'nbagg') {\n",
       "\t\t\tthis.set_frame(init_val, 0);\n",
       "\t\t}\n",
       "\t},\n",
       "\tpopulate_cache : function(idx){\n",
       "\t\tvar cache_id = this.img_id+\"_\"+idx;\n",
       "\t\tif(this.mode == 'mpld3') {\n",
       "\t\t\tmpld3.draw_figure(cache_id, this.frames[idx]);\n",
       "\t\t} else {\n",
       "\t\t\tthis.cache[idx].html(this.frames[idx]);\n",
       "\t\t}\n",
       "\t\tif (this.embed) {\n",
       "\t\t\tdelete this.frames[idx];\n",
       "\t\t}\n",
       "\t},\n",
       "\tdynamic_update : function(current){\n",
       "\t\tif (this.dynamic) {\n",
       "\t\t\tcurrent = JSON.stringify(current);\n",
       "\t\t}\n",
       "\t\tfunction callback(msg){\n",
       "\t\t\t/* This callback receives data from Python as a string\n",
       "\t\t\t in order to parse it correctly quotes are sliced off*/\n",
       "\t\t\tif (msg.content.ename != undefined) {\n",
       "\t\t\t\tthis.process_error(msg);\n",
       "\t\t\t}\n",
       "\t\t\tif (msg.msg_type != \"execute_result\") {\n",
       "\t\t\t\tconsole.log(\"Warning: HoloViews callback returned unexpected data for key: (\", current, \") with the following content:\", msg.content)\n",
       "\t\t\t\tthis.time = undefined;\n",
       "\t\t\t\treturn\n",
       "\t\t\t}\n",
       "\t\t\tif (!(this.mode == 'nbagg')) {\n",
       "\t\t\t\tif(!(current in this.cache)) {\n",
       "\t\t\t\t\tvar data = msg.content.data['text/plain'].slice(1, -1);\n",
       "\t\t\t\t\tif(this.mode == 'mpld3'){\n",
       "\t\t\t\t\t\tdata = JSON.parse(data)[0];\n",
       "\t\t\t\t\t}\n",
       "\t\t\t\t\tthis.frames[current] = data;\n",
       "\t\t\t\t\tthis.update_cache();\n",
       "\t\t\t\t}\n",
       "\t\t\t\tthis.update(current);\n",
       "\t\t\t}\n",
       "\t\t\tthis.timed = (Date.now() - this.time) * 1.5;\n",
       "\t\t\tthis.wait = false;\n",
       "\t\t\tif (this.queue.length > 0) {\n",
       "\t\t\t\tvar current_vals = this.queue[this.queue.length-1];\n",
       "\t\t\t\tthis.time = Date.now();\n",
       "\t\t\t\tthis.dynamic_update(current_vals);\n",
       "\t\t\t\tthis.queue = [];\n",
       "\t\t\t}\n",
       "\t\t}\n",
       "\t\tvar kernel = IPython.notebook.kernel;\n",
       "\t\tcallbacks = {iopub: {output: $.proxy(callback, this)}};\n",
       "\t\tvar cmd = \"holoviews.plotting.widgets.NdWidget.widgets['\" + this.id + \"'].update(\" + current + \")\";\n",
       "\t\tkernel.execute(\"import holoviews;\" + cmd, callbacks, {silent : false});\n",
       "\t}\n",
       "}\n",
       "\n",
       "// Extend MPL widgets with backend specific methods\n",
       "extend(MPLSelectionWidget.prototype, MPLMethods);\n",
       "extend(MPLScrubberWidget.prototype, MPLMethods);\n",
       "</script>\n",
       "\n",
       "\n",
       "<link rel=\"stylesheet\" href=\"https://code.jquery.com/ui/1.10.4/themes/smoothness/jquery-ui.css\">\n",
       "<style>div.hololayout {\n",
       "    display: flex;\n",
       "    align-items: center;\n",
       "    margin: 0;\n",
       "}\n",
       "\n",
       "div.holoframe {\n",
       "\twidth: 75%;\n",
       "}\n",
       "\n",
       "div.holowell {\n",
       "    display: flex;\n",
       "    align-items: center;\n",
       "    margin: 0;\n",
       "}\n",
       "\n",
       "form.holoform {\n",
       "    background-color: #fafafa;\n",
       "    border-radius: 5px;\n",
       "    overflow: hidden;\n",
       "\tpadding-left: 0.8em;\n",
       "    padding-right: 0.8em;\n",
       "    padding-top: 0.4em;\n",
       "    padding-bottom: 0.4em;\n",
       "}\n",
       "\n",
       "div.holowidgets {\n",
       "    padding-right: 0;\n",
       "\twidth: 25%;\n",
       "}\n",
       "\n",
       "div.holoslider {\n",
       "    min-height: 0 !important;\n",
       "    height: 0.8em;\n",
       "    width: 60%;\n",
       "}\n",
       "\n",
       "div.holoformgroup {\n",
       "    padding-top: 0.5em;\n",
       "    margin-bottom: 0.5em;\n",
       "}\n",
       "\n",
       "div.hologroup {\n",
       "    padding-left: 0;\n",
       "    padding-right: 0.8em;\n",
       "    width: 50%;\n",
       "}\n",
       "\n",
       ".holoselect {\n",
       "    width: 92%;\n",
       "    margin-left: 0;\n",
       "    margin-right: 0;\n",
       "}\n",
       "\n",
       ".holotext {\n",
       "    width: 100%;\n",
       "    padding-left:  0.5em;\n",
       "    padding-right: 0;\n",
       "}\n",
       "\n",
       ".holowidgets .ui-resizable-se {\n",
       "\tvisibility: hidden\n",
       "}\n",
       "\n",
       ".holoframe > .ui-resizable-se {\n",
       "\tvisibility: hidden\n",
       "}\n",
       "\n",
       ".holowidgets .ui-resizable-s {\n",
       "\tvisibility: hidden\n",
       "}\n",
       "</style>\n",
       "\n",
       "\n",
       "<div>\n",
       "<img src='data:image/png;base64,iVBORw0KGgoAAAANSUhEUgAAABkAAAAZCAIAAABLixI0AAAACXBIWXMAAAsTAAALEwEAmpwYAAAAB3RJTUUH3wkCDDIOi3cusgAABT1JREFUOMtVlclvG2UYh3/fMovHe53FThySNHZomrRJl6QR0AJdpVblQBEHJC4ciipxAgmO3PgPEP8BQkIsRUJUSF1oqGih0JY2CtnjOLGz2Em8xPbMeL6Pw9RJOprLjPT+5tH7Pu83JE7pqeHh8wMD2evfyXMXf/nxB2FZo6dPNzVHvvr6GxMQeOEigARswNzzUgK6x8NagPzS0nqxODQ62nLn1xMnX99/eLC3sGVROj2/IBxHABKgANlzM4ACTuMRAOecNREiAWtzc0NIEu/M37zVMTWeqlrpUDg1M7NTVgdkowwvxqGRRV1CE8jOznq7uhYAi2CpXtdVVQE4QAAdCAAGwAAJyEa9Amh7PsAihBBAABrg1XUfpe3bxTXb8XR0WJa1VSzWGyAcUAEVoIAARIMOQH2HC4AA6lKW8/n9Pm/Ahl4zV8fGTg0PtzQ3K3tA3GId8AO+BqZLt8sFQKE0GouRSkWtFM63KV0Vy1rJhN44k56cFFI6exJ3MBWANACVHS63aw5QtutVVT/4xWfHv/0ylytmHvx56sIFLxACfIABGIAf8ANRn++9y5evXrkS0XWXd5dLJWRfOHwspA1tr4iFtP3gD8/apjCtSDiyQYhZKNA94wOQTCQPhfzm9FTJH8jn84Tz3SyPlEQ4vf0Dt5/MPE5vpVObzQbxqvaDdL731MnWnh5pmsxxdE3rTCZfO3u2FbL6+2+hzpcKwXA2ldrNUgAVII7TMXhkZnzcAQTgAWI6sgV7YmKivLra1tFxMJk4Ho/r5fLy3btsYS7JHL1YoeHQKldKhcLzLNcdlRDOWDgczuVyOtDt4yN9gRYVmc161TTLmYw9P9e8OHcU5dG2fa3EmhNyKjGwROmzZ8+YqlIAKsDd9jtOenIy1t8vgDJQtuvYrjRT0kMQBRIUQxqSXkSDUIO0YAulvdfxGk/u33eVZs2EeBvu6gCjtKW7Oz81xQBhI73mtATQn/BuZ6wTrezsYX+1Jn+aNR8sl9Zb47l4/O+HD2u27QDgnHUQwhvKuFmRaLS2tkZsmwJSQpqIUzHYyynndx5t/1Vy5gXyhMhorEJIKpViQB0QnFNlZzkbdExRhBAckIAFbFXFetkpg94er004WK6jCniamrRAYHlmxhXFtWTXVfW50SQYDjvVKm+YHVMR10G5VAGrcWAohkEVpbC1RRo7QN2mS0BzuQiJHziwMTurAwrgBTo95NVjnshb3XaF9q1MTM7VeWNv6kJQgAISYAAHuARUQAHA2NCZM35KJ27c6KA4YiBXJlpVro5bkaGN2mStsCy8gAXobpyU7iFhAgxQAB40jMHh4WhnJ6nVpsfGVjOZUQMhi40k9K1FqQZI4ogffd3k33GPobTb5kCIFmriEYjgnABao60KwD68eCnz5PH0vXsr4+OsVIpRvNmpnLvQEozRpm5vxAP107dx+RMlvGTcmw7Xle6DwZlsdbZY05qbAq2ta9msCkhAcM4+yv+3uFZWAA+gA5pEaUOUnpaMohb+/BK7+j76r4IliFoyAv9EjsZ4ZbMmyOKqmdvciiWTL4+OUsY8mkY554d7okGyciuHqgQFVIABlkJ9fV44FLFrz8ecuIZ3u6offzD1fSnFmJSgle35mzcdVQ1Eo23B4Eh7lJdWNgZGohM/r5QAjZEoaDzi0TfKPlFDV/KF35mqs0NN1v3iRrqqAT7Xbdti6UXPImKZaf5SQiUBtAIG0OVXXnmnDUJWb9nET7D8VPba7pAJTKRnxPUpI+v0BXlApZPrlgDaCTke1VqaaLZC/wesjSVVF5Ac7QAAAABJRU5ErkJggg=='\n",
       "     style='width:25px;height:25px; border-radius:12px;'/>\n",
       "\n",
       "HoloViewsJS, MatplotlibJS successfully loaded in this cell.\n",
       "</div>\n"
      ],
      "text/plain": [
       "<IPython.core.display.HTML object>"
      ]
     },
     "metadata": {},
     "output_type": "display_data"
    }
   ],
   "source": [
    "import holoviews as hv\n",
    "import numpy as np\n",
    "import pandas as pd\n",
    "import oommffield\n",
    "import re\n",
    "import glob\n",
    "import os\n",
    "hv.notebook_extension('matplotlib')"
   ]
  },
  {
   "cell_type": "code",
   "execution_count": 67,
   "metadata": {
    "collapsed": true
   },
   "outputs": [],
   "source": [
    "import oommffield\n"
   ]
  },
  {
   "cell_type": "code",
   "execution_count": 68,
   "metadata": {
    "collapsed": false
   },
   "outputs": [
    {
     "name": "stdout",
     "output_type": "stream",
     "text": [
      "/home/ryan/Git/joommf/tools/omfvis\r\n"
     ]
    }
   ],
   "source": []
  },
  {
   "cell_type": "code",
   "execution_count": 70,
   "metadata": {
    "collapsed": false
   },
   "outputs": [],
   "source": [
    "testfield = oommffield.read_oommf_file('examples/doc/data/cube_example-Oxs_MinDriver-Magnetization-00-0001003.omf')"
   ]
  },
  {
   "cell_type": "code",
   "execution_count": null,
   "metadata": {
    "collapsed": false
   },
   "outputs": [],
   "source": []
  },
  {
   "cell_type": "code",
   "execution_count": null,
   "metadata": {
    "collapsed": false
   },
   "outputs": [],
   "source": []
  },
  {
   "cell_type": "code",
   "execution_count": 13,
   "metadata": {
    "collapsed": true
   },
   "outputs": [],
   "source": [
    "mesh = fidimag.common.CuboidMesh(dx=2, dy=2, dz=2, nx=20, ny=20, nz=20, unit_length=1e-9)"
   ]
  },
  {
   "cell_type": "code",
   "execution_count": 14,
   "metadata": {
    "collapsed": false
   },
   "outputs": [
    {
     "data": {
      "text/html": [
       "<h3>Cuboid Mesh:</h3>\n",
       "<b>Dimensions</b> = 2 x 2 x 2 nm<br>\n",
       "<b>Discretisation</b> = (20, 20, 20)<br>\n",
       "<b>x0</b> = (0, 0, 0)<br>\n",
       "<b>Periodicity</b> = (False, False, False)<br>\n",
       "<b>No. of Cells</b> = 8000<br>\n"
      ],
      "text/plain": [
       "Cuboid Mesh\n",
       "Dimensions = 40 x 40 x 40\n",
       "Discretisation = (2, 2, 2)\n",
       "(x0, y0, z0) = (0, 0, 0)\n",
       "Periodicity = (False, False, False)\n",
       "Total number of cells = 8000"
      ]
     },
     "execution_count": 14,
     "metadata": {},
     "output_type": "execute_result"
    }
   ],
   "source": []
  },
  {
   "cell_type": "code",
   "execution_count": 18,
   "metadata": {
    "collapsed": false
   },
   "outputs": [
    {
     "name": "stderr",
     "output_type": "stream",
     "text": [
      "INFO:pyvtk:No point/cell data defined\n"
     ]
    }
   ],
   "source": [
    "sim = fidimag.micro.Sim(mesh)\n",
    "sim.Ms = 8e5\n",
    "sim.set_m((0, 0, 1))"
   ]
  },
  {
   "cell_type": "code",
   "execution_count": null,
   "metadata": {
    "collapsed": false
   },
   "outputs": [],
   "source": []
  },
  {
   "cell_type": "code",
   "execution_count": 63,
   "metadata": {
    "collapsed": false
   },
   "outputs": [],
   "source": [
    "import finitedifferencefield"
   ]
  },
  {
   "cell_type": "code",
   "execution_count": 109,
   "metadata": {
    "collapsed": false
   },
   "outputs": [],
   "source": [
    "def fidimag_to_finitedifferencefield(sim):\n",
    "    \"\"\"\n",
    "    fidimag_to_finitedifferencefield(sim)\n",
    "    \n",
    "    This function takes a Fidimag simulation object, and constructs a\n",
    "    Finite Difference Field object which has the magnetisation configuration\n",
    "    from the simulation at the last time step.\n",
    "    \"\"\"\n",
    "    cmin = np.array([sim.mesh.x0, sim.mesh.y0, sim.mesh.z0])*sim.mesh.unit_length\n",
    "    cmax = tuple(cmin +np.array([mesh.Lx, mesh.Ly, mesh.Lz])*sim.mesh.unit_length)\n",
    "    cmin = tuple(cmin)\n",
    "    d = tuple(np.array([sim.mesh.dx, sim.mesh.dy, sim.mesh.dz])*sim.mesh.unit_length)\n",
    "    field = finitedifferencefield.Field(cmin, cmax, d)\n",
    "    numpyfield = sim.spin.copy().reshape((mesh.nx, mesh.ny, mesh.nz, 3))\n",
    "    field.f = numpyfield\n",
    "    return field\n",
    "    "
   ]
  },
  {
   "cell_type": "code",
   "execution_count": 105,
   "metadata": {
    "collapsed": false
   },
   "outputs": [],
   "source": [
    "test = fidimag_to_finitedifferencefield(sim)"
   ]
  },
  {
   "cell_type": "code",
   "execution_count": 96,
   "metadata": {
    "collapsed": false
   },
   "outputs": [],
   "source": [
    "field = finitedifferencefield.Field(cmin, cmax, d)"
   ]
  },
  {
   "cell_type": "code",
   "execution_count": 97,
   "metadata": {
    "collapsed": true
   },
   "outputs": [],
   "source": [
    "npfield = sim.spin.copy().reshape(mesh.nx, mesh.ny, mesh.nz, 3)"
   ]
  },
  {
   "cell_type": "code",
   "execution_count": 108,
   "metadata": {
    "collapsed": false
   },
   "outputs": [
    {
     "data": {
      "text/html": [
       "<img src='data:image/png;base64,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' style='max-width:100%; margin: auto; display: block; '/>"
      ],
      "text/plain": [
       "b':Image   [x,y]   (Mz)'"
      ]
     },
     "execution_count": 108,
     "metadata": {},
     "output_type": "execute_result"
    }
   ],
   "source": [
    "field2outofplane(test, 'z', 0)"
   ]
  },
  {
   "cell_type": "code",
   "execution_count": 90,
   "metadata": {
    "collapsed": true
   },
   "outputs": [],
   "source": [
    "field.f = npfield"
   ]
  },
  {
   "cell_type": "code",
   "execution_count": 94,
   "metadata": {
    "collapsed": false
   },
   "outputs": [
    {
     "data": {
      "text/html": [
       "<img src='data:image/png;base64,iVBORw0KGgoAAAANSUhEUgAAATYAAAEBCAYAAADyw4m8AAAABHNCSVQICAgIfAhkiAAAAAlwSFlzAAALEgAACxIB0t1+/AAAIABJREFUeJzt3XtYVOW+B/DvLMTcKnoQwRsMF0EQhIEhkjC3RZSgpxCDQi2xjLwAqUdQs1LwtGvvMutsnzQ3oZBgkDvb4DW35i0veBmhUEEQAa+ACt5QwZn3/OFhDpeBtZhhcVnz+zzPeh6GWZffOzg/37XWu96fjDHGQAghEsJ1dgCEENLeKLERQiSHEhshRHIosRFCJIcSGyFEciixEUIkhxJbC2pra7Fw4UI4OjrC1dUV3t7eyMzMFLTtgQMH8O9//1uv4x49ehTu7u7w9vbGgQMHBG+XkpKCsLAwvY6pD47jMHr06Ea/i4+PB8dx2LFjR4fF0VBCQgIeP36sfb18+XJs3ry5y+yPdCBGdHrnnXdYeHg4q62tZYwxlpeXx6ytrdmhQ4d4t42Pj2exsbF6HXfOnDls5cqVbd4uOTmZhYWF6XVMfchkMubj48POnTun/Z2zszPz8PBg27dv77A4msZ0//79Lrs/0nG6ZY8tLi4ODg4O4DgOZ8+ebbf9Zmdnw9fXF25ubkhOTsbo0aNhamoKAHBzc8OHH36IhIQEAE/+N1+0aJF22/rXeXl5+Pbbb7Fx40YolUp8/vnnzY5TUVGByZMnQ6FQQKFQYOPGjQCAlStXIiMjA19//TWUSiUePXrUaLuUlBS8/PLLCA4OhpubGwICAnDt2rVm+y8vL4e/vz98fHzg7u6OJUuWNIpz6tSpmDhxIkaOHIlXXnkFDx8+BADU1dVh0aJF8PX1hZeXFyIiIlBTU9Pi5xUREYENGzYAAPbv349Ro0bBwsJC+/4PP/wAX19feHt7w9vbG7/++qv2vUOHDsHDwwOenp6YP38+7OzstH9Le3t7LF++HH5+fnBwcMA333yj3e78+fOYMGECRo8eDS8vL6SkpAAAoqOjIZPJ4OfnB6VSiTt37uDtt9/GmjVrAACZmZnw8PCAUqmEh4cHDh48CABYtWoVRo8eDW9vb4wZMwa///67oP3dv38f77zzDtzd3eHh4YEvvvhCG+MLL7yARYsWYezYsXB0dMQHH3zQ4mdIRNLZmVUfhw8fZpcvX2b29vbszJkz7bZfT09PtmPHDrZt2zbm7u7O+vbtyyoqKrTvnz59mllaWjLGnvTK4uLitO81fN30vabeeOMNtmzZMsYYY9euXWNDhw7VtmPGjBnsm2++0bldcnIy6927NyssLGSMMZaQkMBCQ0O179X32B4+fKjtadTV1TF/f3/2yy+/aGMbMWIEu3PnDmOMsZdffpl99913jDHGPvnkE/aXv/xFe7zFixezDz/8UGcsHMex8vJy5uzszDQaDYuIiGDbtm1jzz//vLbHduvWLe36BQUFzNramjHG2KNHj5i1tTU7fPgwY4yxn3/+mXEcp/0M7OzstJ9fSUkJ69u3L7t//z57/Pgx8/b2ZgUFBYwxxu7evcucnZ21r2UyGaupqdEes+FnqVAo2LFjxxhjjGk0Gnb37l3GGGM3btzQrr9nzx7m6+urfd3a/hYtWsRmzJjBGGPszp07zM3Nje3atYsxxtjzzz/PwsPDGWOM3b59mw0cOJAVFRXp/ByJOHp0dmLVh5+fHwCANXka7Pjx41iyZAnu3r0L4EnvZMKECYL3y3EcqqurYWZmBrVajf79+6NPnz7tF/j/2bNnD1atWgUAGDx4MCZMmIB9+/bB1dWVd9vnnnsOjo6OAIB3330XHh4ezdZRq9WIjY3FkSNHwBhDeXk5cnJy8PLLLwMAxo8fDzMzMwDA6NGjceHCBQBAVlYW7t69q72OVFtbC4VC0WIsffv2xbPPPostW7bg8OHDWL9+PVauXKl9v6ioCB999BGuXLkCU1NTlJeXo6KiAuXl5ejdu7f27zhp0iT079+/0b7Dw8MBALa2thgwYAAuX74MtVqNc+fOITw8XPu3r62txblz5zBixAgAzf9N1HvxxRexYMECTJ48GUFBQXBzcwMAnDhxAp999hlu3boFjuNQWFjYaLuW9rd37178/e9/BwCYmZlhypQp2LNnD8aPHw8A2uud/fr1w8iRI3HhwgUMHz68xc+StK9umdh0uX37NmbPno2dO3di0KBBuH79Onx8fHDmzBn069dP0D7Wr1+P4OBg1NXV4erVq0hLS0Pv3r217x89elSbSHr06AGNRqN9r/50TgiZTCZ4XX2sWrUK1dXVOHHiBExNTTFr1qxG8fXq1Uv7s4mJifY9xhjWrFmD559/XvCxIiIiEBYWhrfffhsc1/jKxpQpU/DVV1/hlVdeAWMMvXv3Fvw5NYyR4zjtRXxLS0uoVCrB8dX78ssvcebMGfz6668ICwvDwoULMX36dISFheG3336DQqHAtWvXYG1t3eZ988VvYmLS6CYEEV+3vMamy5EjR3Dx4kUEBQXBy8sLQUFB4DgORUVFAJ58IaysrBotlpaW8PT01O7jiy++wJdffokrV67gtddew7vvvqvtzeTl5eHTTz9FfHw8AMDR0RGnTp0CYwx3797Ftm3btPvp168fbt++3WKsAQEBSExMBABcv34dO3fuxIsvviionYcPH9bGtH79evj7+zdbp7q6GkOGDIGpqSmuXLki+G7uq6++ilWrVmmTz71795Cfn69z3fqezPPPP4+lS5ciKiqq2Tq3b9+GnZ0dACApKQm1tbUAAGdnZ9TU1ODo0aMAnlz/au3zqufs7IzevXsjNTVV+7uCggLcu3cPQOuf+/nz5+Hm5oaYmBi8+eabOHHiBB4+fAi1Wq1NZg2v5fHtLyAgAElJSQCAu3fvIj09XdsjJp1PMj02xhgUCgX279+v8/3KyspWt7958yZ+/vln7ZcmLS0NLi4uGDNmDAYMGIBevXph9erVeO655wAAkydPRkZGBlxdXSGXy/H0009r9xUSEoKQkBAolUqEh4c3uskAAP/zP/+DWbNmaU/z/va3v8HFxQUAf29uzJgxiI2Nxfnz5zFkyBDtjYeG3n//fYSFhcHDwwPW1tYICAhodZ/1lixZgvj4ePj4+IDjOHAch+XLl2tja6hhnAsWLND5+6+++grBwcEYMGAAAgMDtTcWevbsiU2bNmHWrFngOA7jxo2DlZWV9nS06WdQ/9rExARbt27FvHnzsHLlSjx+/BiDBw/Gjz/+CABYuHAhXnjhBfTu3Rv79+9vtJ8lS5agqKgIJiYmMDc3R1JSEszMzLBixQo8/fTTGDhwIEJDQxsdt7X9ffzxx4iOjoa7uztkMhkiIiLw0ksvtRo/6UAddTEvPj6eyWQynRf71Wo1mzt3Lhs+fDhzcnLSXszmY2dnp91fVVUVGzp0KNu3b5/2/RMnTgiOT61WswEDBrCDBw8yxv7/ov7Zs2cF70NsHT2kQ0z1F+8ZY2zfvn3Mzs6uE6MhusTGxjJ7e/sWv7eM6f/dFVuH9NhOnz6N7Oxs7WlJU2lpaSguLkZRURFu3LgBLy8vvPTSS5DL5TrXnzdvHrZs2YLy8nIEBATAwsICf/zxB7KyshAbG4sFCxbg0aNHGD58OLZu3SooRo7jkJGRgfnz50Oj0UCtVmPFihUYOXKkvs0mrfjpp5/w1VdfQaPR4E9/+hN++OGHzg6JNBESEoL58+dj7NixLa7T1u9uhxE7cz569Ig9++yzrLS0tFEPq6GJEyeyn376Sfs6Ojpar0GqhJD219L3lrGu+90V/ebBsmXLMH369FYzeFlZGWxtbbWv5XI5Ll26JHZohBADddXvrqinoseOHcPJkyfx17/+td32SRdiCeHH/u+utaynGVB3j3d9uVyO0tJSscPqMKImtgMHDiA/Px8ODg5gjOHy5csYP348NmzY0OhOXf2H6u3tDeDJ/wItXY8DAFPPt8UMm5BurS5nQ4MX9wR9X8oabtMGbf3udhRRT0UXL16My5cvo7i4GBcvXoS1tTV2797dbPhBWFgYEhMTwRhDZWUlMjMzm916J4ToR8aZ8C766qrf3Q4doCuTybRd5IkTJ2pHkL/11luwt7eHk5MT/Pz8sHz58kbn7YQQ/XE9evIuusybNw82Nja4cuUKAgIC4O7uDqB7fHdljHWv8nsymYxORQlpRV3Ohv+/xiaT4U++MbzbPDi2usXnYrsjyTx5QAjRTWai/6lmd0WJjRCJM2nhVFPKKLERInGG3BzoriixESJxMk4yk/gIRomNEImjHhshRHJaGs4hZZTYCJE4uitKCJEcOhUlhEgOJTZCiOTQODZCiOQYY4/N+Aa4EGJkDJndo7CwEH5+ftrCRvUV0hqqrKzEf/7nf0KhUMDNzQ3R0dGNSlN2BkpshEicvrN7AMDs2bMRExOD/Px8zJ07F++9916zdT799FO4uroiNzcXv//+O06ePIktW7aI2SRelNgIkTiZiQnvoktlZSVOnz6N8PBwAE8KYKtUKty8ebPx/mUy3L17F4wxPHjwAHV1dRg2bJjo7WoNJTZCJE7fU9FLly5h2LBh2un4OY7D0KFDm9U0+Pjjj1FQUIAhQ4Zg6NChGD9+PJ599lnR29UaSmyESJyYM+gCwObNm6FQKHD9+nVcuXIFBw4ckP6paEhICLy8vKBUKjFu3Djk5uY2WychIQGDBg2CUqmEUqlETAz/xHiEEGFMevTgXXSpnz23fgJKjUaDq1evwsbGptF6q1evxrRp0wAAZmZmCA4Oxr59+8RtFA/RE9v333+P06dPQ6VSYeHChXjnnXd0rhcREQGVSgWVSoXVq1eLHRYhRkPGyXgXXSwtLeHp6YlNmzYBADZt2gSlUgkLC4tG6zk4OGDXrl0AgNraWuzZswejRo0St1E8RE9sZmZm2p+rq6th0sKFSilNS0xIVyKTyXiXlqxduxarV6+Gi4sLvvnmG6xbtw5A47oHX331FQ4ePAiFQgGlUgkXFxdERkZ2SNta0iEDdCMjI7F7924A0Gb2ptLT07F7924MGTIE8fHx8PX17YjQCJE8roUemRDOzs44duxYs99v375d+7ODg4P2+91VdGgxl7S0NGzatKnRhwIAFRUVsLCwgImJCfbs2YNp06YhPz8f5ubmzQOmYi6EtKppMReX+Zm82+R/HSyps6YOvSs6bdo07Nu3D1VVVY1+b2VlpT1FDQgIgI2NDfLy8joyNEIki5PJeBepETWx3b9/H5cvX9a+3rp1KywsLJr1xK5evar9OScnB6WlpXB2dhYzNEKMhr43D7ozUa+x3b9/H2FhYaipqQHHcbCwsMC2bdsAPLn4+N///d9QKpVYunQpVCoVOI7DU089hdTUVFhZWYkZGiFGQ4qJi4+oic3KygpHjx7V+V7D62zJyclihkGIUTPpQYmNECIxrQ3nkCpKbIRInCHDPborSmyESBzXw/geCafERojESXE4Bx9KbIRIHN0VJYRIDiU2QojkmJgY3zU242sxIUZGxvEvLRFSzAUAfvzxR3h4eMDd3R0KhQKVlZUitUYYSmyESBzHyXiXlggp5nLy5EmsWLECe/fuxR9//IHffvsN/fv3F7NJvCixESJx+j4rKrSYy9dff43Y2FhYWloCeDIHY8+enVukmRIbIRJnYsLxLroILeZy9uxZXLhwAePGjcPTTz+Nv/zlL6K3iQ/dPCBE4sS+K6pWq/HHH39g7969ePjwIQIDA2Fra4s333xT1OO2hnpshEicCSfjXXQRWsxFLpcjNDQUPXr0QN++fREcHIzjx4+L3q7WUGIjROJ69uB4F12EFnOZOnWqdmrwuro67N27FwqFQtxG8aDERojE6dtjA4QVcwkPD4elpSVcXV2hVCrh7u6OmTNndkjbWtKhNQ/aA9U8IKR1TWseTE5qXoylqS0zfSVV84BuHhAicT2M8JGqLlEJXqPRICoqCo6OjhgxYgSSkpLEDosQo6HvNbbuTPQe2/fff68tmpyVlYV33nkHp06darROWloaiouLUVRUhBs3bsDLywsvvfQS5HK52OERInkmnPQSF58uUQk+IyNDWzl64MCBmDRpEjZv3ix2aIQYBUNuHnRXXaISfFlZGWxtbbWv5XJ5s9HNhBD9SDFx8emQxJaYmAjgySlnbGxss0rwhBDx9KRpi8TVUiV4uVyO0tJS7euysrJmo5sJIfoxxlPRLlEJPiwsDImJiWCMobKyEpmZmQgNDRUzNEKMhjEmti5RCf6tt95CdnY2nJycIJPJsHz58kbX3Agh+ntKgsM5+HSJSvAcx2HNmjVihkKI0ZJij4wPPXlAiMQZY2Izvj4qIUbGkGtsQmseAEBBQQH69OmDRYsWidGMNqHERojEGfJIlZCaB8CTxyJnz56NkJAQsZrRJpTYCJE4fXtsQmseAMBf//pXvPLKK3BychK1LUJRYiNE4vRNbEJrHuTm5mL37t1YsGCB6G0Rim4eECJxYt48ePz4MWbNmoXk5GRtAuwKKLERInH6PlLVsOaBTCbTWfPg2rVrKC4uxoQJE8AYQ3V1NQDgzp07+Pbbb9slfn1QYiNE4jg9e1INax5MmzZNZ80DGxsbVFRUaF8nJCTg/v37+Pzzzw2O2xB0jY0QiTOR8S8tEVLzoCuimgeESEzTmgdJJ0p5tgBm+thSzQNCSPdhaoQz6FJiI0TiWjvVlCpKbIRIHGeEz4pSYiNE4kwpsRFCpEbf4R7dGSU2QiSOpi1qZ7du3cLEiRMxcuRIKBQKhIaG6nyANiEhAYMGDYJSqYRSqURMTIyYYRFiVDiZjHeRGlETm0wmw+LFi3Hu3Dnk5ubCwcEBixcv1rluREQEVCoVVCoVVq9eLWZYhBgVU07Gu0iNqInN3Nwcf/7zn7WvfX19UVZWpnNdKQ0OJKQrMcZiLh02co8xhrVr1yI4OFjn++np6VAoFAgMDMSxY8c6KixCJI+T8S9S02GJLTo6GmZmZoiKimr23pw5c1BSUoLc3FzExsYiODi4We1RQoh+TGQy3kVqOiSxxcXF4cKFC/jxxx91vm9lZQUTExMAQEBAAGxsbJCXl9cRoREieaYmMt6lJUJqHnzyyScYNWoUPD094ePjg927d4vZHEFET2xLly6FSqXCv/71L/TooXt0ydWrV7U/5+TkoLS0FM7OzmKHRohRMOSuqJCaB6NHj8bJkyeRk5ODpKQkvPHGG3j06JGYTeIl6uweZ8+ehbu7O0aMGIFevXoBABwcHPDTTz81Kpg8Y8YMqFQqcByHp556CitWrMD48eN1B0yzexDSqqazexwvvcW7zTO2A5rdwKusrISzszNu3rypnWjSwsICRUVFjeZka8rc3BxnzpzB0KFDDWuIAUQdoOvq6gq1Wq3zvYYFk5OTk8UMgxCj1tqpZmtaq3nQUmJLSUnB8OHDOzWpAfTkASGS11EDcA8cOIDly5djz549HXK81lBiI0Ti9M1rQmoe1Dt69CimT5+OrKwsODo6Ghix4YxvBjpCjAwHGe+iS8OaBwB01jwAgBMnTiA8PBz//Oc/oVAoRG+PEDQ1OCES0/Tmwbnrt3m3GTm4v86nfwoKChAREYHq6mqYm5tj48aNcHR0bHTz75lnnkFpaSmGDRum7d1t3LgRbm5u7d42oSixESIxTRNbfjl/YnMZpDuxdVd0jY0QiWvpVFPKKLERInESfGKKFyU2QiSOirkQQiRHihNJ8qHERojEGWFeo8RGiNQZ42BVSmyESJwUZ8jlQ4mNEImjU1FCiOTQqSghRHLoVJQQIjnGl9a6SMFkjUaDqKgoODo6YsSIEUhKShIzLEKMiiFVqoTUPOiK398uUTA5LS0NxcXFKCoqwpEjRxAfH99i/VFCSNvIZDLepSVCah6I+f319vZGVlZWo99NmTKFdztBie3hw4d6BSW0YHJGRgYiIyMBAAMHDsSkSZOwefNmvY5JCGnMRMa/6FJZWYnTp08jPDwcwJOEolKpmp11ifn9vXHjBpYtW4a///3v2t8VFBTwbicosdnZ2WHhwoU6u6FCtVYwuaysDLa2ttrXcrkcly5d0vtYhJD/p2+VqtZqHjQk5vfXwsICBw8eRFZWFhYsWAAAgqZXEpTYfv/9d5ibm8Pf3x9BQUHYtm1bmwNsrWAyIUQ8Mhn/0lUxxtCvXz/s3LkTVVVVCAkJEXQGKSixWVlZ4aOPPkJxcTEiIyMxd+5c2Nvb48svvxR0EL6CyXK5HKWlpdrXZWVlOudVJ4S0nYwx3kWXhjUPALRY80DM769cLgcAmJqaIjk5GQqFAufPn+fdTvAMujU1Ndi4cSPWrFkDCwsLvPvuu9i3bx8uXLiAX3/9tcXtli5diuzsbGzfvl1bW7SplJQUpKenY8eOHbhx4wa8vb1x6NChRt1bbcA0gy4hrWo6g+7De3d4t+nVt5/OUzx/f3/MnDkT06ZNQ2pqKjZs2IC9e/c2Wqct31+h1qxZAwDaqcabmjt3bqvbC0ps0dHR2LJlC1599VVER0dj1KhR2vdcXFyQn5+vczuhBZM1Gg2io6Oxe/duyGQyLFmyBDNnztQdMCU2QlrVLLHdrebdppfZf+hd86At31+hOI6Dt7c33N3dm8Ulk8mwfv36VrcXlNhWrlyJmTNnwtzcvNl7165dw5AhQ9oYtv4osRHSumaJ7U4V7za9+pl3qZoHycnJSElJwf379xEREYGpU6fqzD8toWIuhEhM08T2qLqSd5un/sOySyW2ehcvXkRKSgoyMjLg7u6Ojz76CB4eHrzbGePzsYQYF6bhX7ooe3t7LFiwAPPmzcP+/ftx/PhxQdvRs6KESF0XTlwtYYzhl19+wYYNG5CXl4fXX38d2dnZsLe3F7Q9JTZCpK4bJjZra2sMHToUM2bMwLJlyyCTyfDgwQOcPXsWAODq6trq9nSNjRCJaXqNrbailGcLoKeVbZe6xmZnZ6cd5iGTyRrFJpPJUFxc3Or21GMjROq6YY+tpKTEoO0psREidV2oJ9ZRKLERInXdsMdmKEpshEicTPO4s0PocJTYCJE66rERQiTHCBMbPXlAiMTJ1I95F308ePAA4eHhcHJygqurK7Zv365zvaysLDz99NPw8PCAu7s7Vq1aZUhzBKEeGyFSJ9Jd0ZUrV6J///4oLCxEUVERxo4diwsXLqB3796N1hsyZAi2bduGwYMH486dO/D29sbo0aMxZswYUeICqMdGiPSJ9KxoRkYGZs2aBQBwdHSEj48Pdu7c2Ww9Hx8fDB48GADQr18/jBw5stHElGKgxEaIxMmYhnfRR9NaBzY2Nry1DvLz85GdnQ1/f3+9jikUnYoSInV6Dvfw9vZulqjqZ7S9fv16m/d37do1TJo0CWvXrtX24MQiao8tLi4ODg4O4DhO+/BqUwkJCRg0aBCUSiWUSiViYmLEDIkQ46NR8y86nDp1ChUVFY2WyspKVFRUgOM42NraCq51UFFRgZdeeglLlizB5MmTRWlmQ6ImtpCQEBw6dAh2dnatrhcREQGVSgWVSoXVq1eLGRIhRodpNLyLPkJDQ7Fu3ToATyrGnzx5EoGBgc3Wu3nzJl5++WXExMRgxowZhjRFMFETm5+fH4YNG8Y7a0BXmlWAEMnRs8fGJy4uDlVVVXBycsKrr76KxMRE9OnTBwCwfPly/OMf/wAA/O1vf0NhYSHWrVsHLy8vKJVKpKSktFvzdOmQaYvs7e2xfft2nXMoJSQk4LvvvsOAAQMwZMgQxMfHw9fXt8V90bRFhLSu6bRFdTm/8G5j6jleUh2MTr8rOmfOHJSUlCA3NxexsbEIDg5GVRV/8QlCiEAaDf8iMZ2e2KysrGBiYgIACAgIgI2NDfLy8jo5KkIkRKRT0a6s0xPb1atXtT/n5OSgtLQUzs7OnRgRIdLCNGreRWpETWzz5s2DjY0Nrly5goCAALi7uwMAJk6cCJVKBeBJpXgPDw94enpi1qxZSE1NhZWVlZhhEWJU2OM63kVqqOYBIRLTrK7obxm82zz13BuSunlATx4QInUSvDnAhxIbIRLH6mo7O4QOR4mNEKmT4M0BPpTYCJE4fR+Z6s4osREiddRjI4RIjRSHc/Dp9AG6hBCRifTkgdCaB/UePXoENzc3PPPMM3odry2ox0aI1Il0Kiq05kG9Dz/8EH5+fsjNzRUlnoaox0aIxDG1mnfRh9CaBwBw6NAhFBUV4a233tK7HW1BPTZCpE6ka2xCax7U1NTgv/7rv7B161YUFBSIEktTlNgIkTh9H3Jvr5oHcXFxiIqKwuDBg5Gfn69XLG1FiY0QidN3HNupU6dafb++5oGFhQWAJz04XdWnfvvtN+zcuRMrVqzAgwcPUFVVBU9PT+Tk5OgVlxB0jY0QidPUPuZd9CG05kFubi6Ki4tRXFyM9PR0eHh4iJrUAEpshEieWMVchNY86Aw0bREhEtN02qKqdR/wbmM+6zOatogQ0n0wtfE9K9rpBZM1Gg2ioqLg6OiIESNGICkpScyQCDE66ro63kVqOr1gclpaGoqLi1FUVIQjR44gPj4eZWVlYoZFiFFhag3vIjWdXjA5IyMDkZGRAICBAwdi0qRJ2Lx5s5hhEWJUjDGxdfo1tqajl+Vyuc7Ry4QQ/dB8bIQQyVHrOU6tO+v0cWxyuRylpaXa12VlZbCxsenEiAiRFmM8Fe30xBYWFobExEQwxlBZWYnMzEyEhoZ2dliESIZYA3S7sk4vmPzWW2/B3t4eTk5O8PPzw/LlyxtdcyOEGMYYe2z05AEhEtP0yYOLi6bzbmP/+ff05AEhpPuQYo+MT6dfYyOEiEusGXTbUvMgJycH48aNg5ubG0aNGoVffvlF3+YIQj02QiROUyfOcA+hNQ9qamrw2muvIT09HT4+PtBoNLh9+7YoMdWjHhshEifWzQOhNQ82bdqEsWPHwsfHBwDAcRzMzc31b5AAlNgIkTiNWsO76ENozYOzZ8+iR48emDhxIpRKJSIjI1FdXa13e4SgxEaIxOk7js3b2xtWVlaNFktLS1hZWUHThrFvarUav/76KzZs2ACVSoW+ffti4cKF7dU8negaGyESp6nV7+aPxxVXAAAL80lEQVRAe9U8kMvl8Pf3h5WVFQBg6tSpmDlzpl4xCUU9NkIkTqxTUaE1D15//XVkZ2fj3r17AIBdu3ZBoVDo3yABqMdGiMQxjTgDb+Pi4jBjxgw4OTmhR48ezWoeDBs2DO+99x5sbGywePFiPPvsszAxMYG9vb3o9RDoyQNCJKbpkwc5Yc17UU15bt5FTx4QQroPfa+xdWeU2AiROI1aOj0xoSixESJxxvisKCU2QiROXUeJjRAiMfoO5+jOKLERInGMrrERQqTGGBOb6E8eFBYWws/PDy4uLhgzZgwuXLjQbJ2EhAQMGjQISqUSSqUSMTExYodFiNFQ16l5F6kRvcc2e/ZsxMTEYMqUKUhLS8N7772HvXv3NlsvIiICn3/+udjhEGJ0jHG4h6g9tsrKSpw+fRrh4eEAgClTpkClUuHmzZvN1pXSqGdCuhJjLOYiamK7dOkShg0bBplM9uRgHIehQ4fqnLMpPT0dCoUCgYGBOHbsmJhhEWJUmJrxLlLTJWb3mDNnDkpKSpCbm4vY2FgEBwejqqqqs8MiRBKM8RqbqImtvqZo/WmmRqPB1atXm1V6t7KygomJCQAgICAANjY2yMvLEzM0QoyGRs14F30ILebCGMP8+fPh5uYGhUKBCRMm4Pr164Y0iZeoic3S0hKenp7YtGkTgCdznyuVSu3EdPWuXr2q/TknJwelpaVwdnYWMzRCjIZYp6INi7lkZWXh3XffRU1NTbP1srKycPz4ceTl5SE3NxcjR47EJ598YmizWiX6qejatWuxevVquLi44JtvvtFOTNewGvzSpUvh4eEBT09PzJo1C6mpqdrZNgkhhlHXqnkXfQgt5iKTyfDo0SPU1NRAo9Hg7t27sLa2NqhNfEQf7uHs7KzzZkDDbmtycrLYYRBitMS6OSC0mMsrr7yC/fv3Y/DgwejTpw9cXFywZs0aUWKq1yVuHhBCxKNhjHfRpb2KuahUKuTn5+PatWu4fv06PDw8sGDBgvZqnk70SBUhEqfWc4xoexVzSU5Ohr+/P/r27QsAePPNN6mYCyHEMLUaxrvoQ2gxF3t7e+zduxePHz+pSL9jxw6MGjVK/wYJQD02QiROrPG3Qou5REVF4cyZM/Dw8ICpqSnkcjkVc2mKirkQ0rqmxVy+t3Dh3Wb6zXxJPdZIPTZCJE6CT0zxosRGiMTpew2tO6PERojEUY+NECI5+g736M4osREicdRjI4RIDl1jI4RIDp2KEkIkh05FCSGSU0c9NkKI1NCpKCFEcozxVLRLFEzWaDSIioqCo6MjRowYgaSkJLHDIsRoqBnjXfSRlpYGhUIBU1NT3okjExMT4eTkBCcnJ7z//vt6Ha8tRE9s9QWT8/PzMXfuXLz33nvN1klLS0NxcTGKiopw5MgRxMfHo6ysTOzQCDEKYk1b5OXlhYyMDEybNq3V9UpKSrBixQpkZ2ejsLAQ58+fR2pqql7HFKpLFEzOyMhAZGQkAGDgwIGYNGkSNm/eLGZohBgNNeNf9OHq6goXFxdt3eCW/POf/0RISAgGDBgAAIiMjERGRoZ+BxWoSxRMbjp3ulwu1zl3OiGk7cQ6FRWqM77f3fLmQV3Ohs4OgZBuwdbWFmtKS3nXk8vlzX7n7e3dLAExxiCTyVBeXs7bU+tMoia2hgWTZTJZiwWT5XI5SktL4e3tDeBJhrezs9O5TylNhkeI2EpKSvTelq/mgVByubxRHGVlZc1yQHvrEgWTw8LCkJiYCMYYKisrkZmZidDQUDFDI4S0o9Y6HK+99hoyMzNx8+ZNaDQaJCYm4vXXXxc9IFHl5+ez0aNHM2dnZ+br68sKCwsZY4xNmDCBnTp1ijHGmFqtZnPmzGHDhw9njo6O7LvvvhM7LEKIgX744QdmbW3N+vbtywYMGMBsbGzYuXPnGGOMLVu2jK1bt0677j/+8Q/t9zsqKoppNBpRY+t2NQ8IIYRPlyy/1xGDeoUcIyEhAYMGDYJSqYRSqURMTIzg/cfFxcHBwQEcx+Hs2bM612mPgclCjmNIO27duoWJEydi5MiRUCgUCA0NbTZcpz3aIvQ4hrQFAEJCQuDl5QWlUolx48YhNze33dsi5BiGtqPhflr62xv1wHdR+4N68vf3Z5s2bWKMMZaamsr8/f2brfP999+zwMBAxhhjlZWVzNrampWWlrbrMeLj41lcXJw+TWCHDx9mly9fZvb29uzMmTM61zG0DUKPY0g7bt26xQ4cOKB9HRcXx2bOnNlsPUPbIvQ4hrSFMcbu3Lmj/TkzM5Mplcpm6xjaFiHHMLQdjDGmUqlYUFBQi3/79vj31V11uR5bRwzqFXoMQP+7sH5+fhg2bFir27fHwGQhxwH0b4e5uTn+/Oc/a1/7+vrqfCrE0LYIPQ5g2J1xMzMz7c/V1dUwMTFpto6hbRFyDMCwdtTW1iIqKgrffvtti/sx5oHvXS6xdcSgXqHHAID09HQoFAoEBgbi2LFj+jZLp44cuNge7WCMYe3atQgODm72Xnu2pbXjAIa3JTIyEra2tvj444+RkpLS7P32aAvfMQDD2rFs2TJMnz5d5/izesY88L3LJbauZM6cOSgpKUFubi5iY2MRHByMqqqqzg6rzdqrHdHR0TAzM0NUVJQIUQo7Tnu0JTExEaWlpfj0008RGxvbXmG36RiGtOPYsWM4efIkZs+e3d5hS0aXS2wNB/UC4B3UW68tg/6EHsPKykp7GhEQEAAbGxvk5eXp3bamDGlDW7RHO+Li4nDhwgX8+OOPOt9vr7bwHac9/ybTpk3Dvn37miWU9vy7tHQMQ9px4MAB5Ofnw8HBAfb29rh8+TLGjx+PPXv2iNaObqeTru216oUXXmCpqamMMcY2btyo88J+cnIyCwwMZBqNhlVUVDAbGxtWUlLSrse4cuWK9ufTp0+zgQMHsvLy8ja1xc7OrsWL+oa2QehxDG3HBx98wPz9/dmDBw9aXKc92iLkOIa05d69e+zSpUva11lZWcza2rrZeoa0Regx2uPfVj07Ozt29uzZZr9vz39f3U2XTGwdMahXyDEiIiKYu7s7UygU7JlnnmG7du0SvP/333+fWVtbM1NTUzZkyBA2atSodm+D0OMY0o4zZ84wjuOYi4sL8/T0ZJ6enmzy5Mnt3hahxzGkLeXl5czX15d5eHgwT09P9uKLL7KcnJx2bYvQYxjSjqYa3hWlge9P0ABdQojkdLlrbIQQYihKbIQQyaHERgiRHEpshBDJocRGiIiETFKgj+zsbPj6+sLLywvu7u5Yt25du+1bCuiuKCEiOnLkCGxtbTF27Fhs27YNrq6u7bJfLy8vfPrppwgKCkJ5eTkcHR1RXFwMS0vLdtl/d0c9NkJE1NIkBcePH4e/vz98fHzg4+ODHTt2tGm/HMehuroaAHDnzh30798fffr0abe4u7tuWcyFkO7s9u3bmD17Nnbu3IlBgwbh+vXr8PHxwZkzZ9CvXz9B+1i/fj2Cg4OxZMkSVFVVITU1Fb179xY58u6DemykzQoKChrNFJGQkICpU6d2clTdx5EjR3Dx4kUEBQXBy8sLQUFB4DgORUVFAJ7UCrGysmq01NcPqffFF1/gyy+/RGlpKU6ePImoqChcvny5s5rU5VCPjbSZs7MzPvvsM7z++utYsWIF0tPTcfLkyc4Oq9tgjEGhUGD//v0636+srGx1+5s3b+Lnn3/WVlMfMWIE3N3dkZ2dDWtr6/YOt1uiHhvRy7Rp0+Di4oJJkybhhx9+oOs7beDn54fCwsJGia0t/zGYm5ujV69eOHToEADg+vXryM3NbbcbE1JAd0WJXurq6jBmzBhcvXoViYmJCAoK6uyQuqR58+Zhy5YtKC8vx8CBA2FhYYE//vgDp06dQmxsLKqrq/Ho0SMMHz4cW7duFbzfPXv2YPHixdBoNFCr1Zg3bx5mzpwpYku6F0psRC/z5s1DXV0dYmJiEBgYiKNHj2Lo0KGdHRYhAOgaG9FDZmYmDh48iOzsbPTs2RPx8fGYMmUK9u3bB46jqxuk81GPjRAiOfTfKyFEciixEUIkhxIbIURyKLERQiSHEhshRHIosRFCJIcSGyFEcv4X5JUPT2279qcAAAAASUVORK5CYII=' style='max-width:100%; margin: auto; display: block; '/>"
      ],
      "text/plain": [
       "b':Image   [x,y]   (Mz)'"
      ]
     },
     "execution_count": 94,
     "metadata": {},
     "output_type": "execute_result"
    }
   ],
   "source": [
    "%%opts Image style(interpolation='nearest', cmap='RdBu')[colorbar=True]\n",
    "field2outofplane(field, 'z', 0)"
   ]
  },
  {
   "cell_type": "code",
   "execution_count": 58,
   "metadata": {
    "collapsed": false
   },
   "outputs": [],
   "source": [
    "field.f = npfield"
   ]
  },
  {
   "cell_type": "code",
   "execution_count": 62,
   "metadata": {
    "collapsed": false
   },
   "outputs": [
    {
     "data": {
      "text/plain": [
       "<finitedifferencefield.finitedifferencefield.Field at 0x7f9d0e6a1240>"
      ]
     },
     "execution_count": 62,
     "metadata": {},
     "output_type": "execute_result"
    }
   ],
   "source": [
    "field"
   ]
  },
  {
   "cell_type": "code",
   "execution_count": 61,
   "metadata": {
    "collapsed": false
   },
   "outputs": [
    {
     "ename": "IndexError",
     "evalue": "too many indices for array",
     "output_type": "error",
     "traceback": [
      "\u001b[0;31m---------------------------------------------------------------------------\u001b[0m",
      "\u001b[0;31mIndexError\u001b[0m                                Traceback (most recent call last)",
      "\u001b[0;32m<ipython-input-61-7e28b5f1891c>\u001b[0m in \u001b[0;36m<module>\u001b[0;34m()\u001b[0m\n\u001b[0;32m----> 1\u001b[0;31m \u001b[0mfield2inplane\u001b[0m\u001b[0;34m(\u001b[0m\u001b[0mfield\u001b[0m\u001b[0;34m,\u001b[0m \u001b[0;34m'x'\u001b[0m\u001b[0;34m,\u001b[0m \u001b[0;36m0\u001b[0m\u001b[0;34m)\u001b[0m\u001b[0;34m\u001b[0m\u001b[0m\n\u001b[0m",
      "\u001b[0;32m<ipython-input-60-80daaecdee38>\u001b[0m in \u001b[0;36mfield2inplane\u001b[0;34m(field, slice_axis, slice_coord)\u001b[0m\n\u001b[1;32m     19\u001b[0m     \u001b[0;32mif\u001b[0m \u001b[0misinstance\u001b[0m\u001b[0;34m(\u001b[0m\u001b[0mfield\u001b[0m\u001b[0;34m,\u001b[0m \u001b[0mstr\u001b[0m\u001b[0;34m)\u001b[0m\u001b[0;34m:\u001b[0m\u001b[0;34m\u001b[0m\u001b[0m\n\u001b[1;32m     20\u001b[0m         \u001b[0mfield\u001b[0m \u001b[0;34m=\u001b[0m \u001b[0moommffield\u001b[0m\u001b[0;34m.\u001b[0m\u001b[0mread_oommf_file\u001b[0m\u001b[0;34m(\u001b[0m\u001b[0mfield\u001b[0m\u001b[0;34m)\u001b[0m\u001b[0;34m\u001b[0m\u001b[0m\n\u001b[0;32m---> 21\u001b[0;31m     \u001b[0mfield\u001b[0m\u001b[0;34m.\u001b[0m\u001b[0mnormalise\u001b[0m\u001b[0;34m(\u001b[0m\u001b[0;34m)\u001b[0m\u001b[0;34m\u001b[0m\u001b[0m\n\u001b[0m\u001b[1;32m     22\u001b[0m     \u001b[0;32mif\u001b[0m \u001b[0mslice_axis\u001b[0m \u001b[0;34m==\u001b[0m \u001b[0;34m'z'\u001b[0m\u001b[0;34m:\u001b[0m\u001b[0;34m\u001b[0m\u001b[0m\n\u001b[1;32m     23\u001b[0m         \u001b[0maxis\u001b[0m \u001b[0;34m=\u001b[0m \u001b[0;34m(\u001b[0m\u001b[0;36m0\u001b[0m\u001b[0;34m,\u001b[0m \u001b[0;36m1\u001b[0m\u001b[0;34m,\u001b[0m \u001b[0;36m2\u001b[0m\u001b[0;34m)\u001b[0m\u001b[0;34m\u001b[0m\u001b[0m\n",
      "\u001b[0;32m/home/ryan/anaconda3/envs/fidimag/lib/python3.5/site-packages/finitedifferencefield/finitedifferencefield.py\u001b[0m in \u001b[0;36mnormalise\u001b[0;34m(self, norm)\u001b[0m\n\u001b[1;32m    643\u001b[0m             \u001b[0mf_norm\u001b[0m \u001b[0;34m=\u001b[0m \u001b[0;36m0\u001b[0m\u001b[0;34m\u001b[0m\u001b[0m\n\u001b[1;32m    644\u001b[0m             \u001b[0;32mfor\u001b[0m \u001b[0mj\u001b[0m \u001b[0;32min\u001b[0m \u001b[0mrange\u001b[0m\u001b[0;34m(\u001b[0m\u001b[0mself\u001b[0m\u001b[0;34m.\u001b[0m\u001b[0mdim\u001b[0m\u001b[0;34m)\u001b[0m\u001b[0;34m:\u001b[0m\u001b[0;34m\u001b[0m\u001b[0m\n\u001b[0;32m--> 645\u001b[0;31m                 \u001b[0mf_norm\u001b[0m \u001b[0;34m+=\u001b[0m \u001b[0mself\u001b[0m\u001b[0;34m.\u001b[0m\u001b[0mf\u001b[0m\u001b[0;34m[\u001b[0m\u001b[0;34m:\u001b[0m\u001b[0;34m,\u001b[0m \u001b[0;34m:\u001b[0m\u001b[0;34m,\u001b[0m \u001b[0;34m:\u001b[0m\u001b[0;34m,\u001b[0m \u001b[0mj\u001b[0m\u001b[0;34m]\u001b[0m\u001b[0;34m**\u001b[0m\u001b[0;36m2\u001b[0m\u001b[0;34m\u001b[0m\u001b[0m\n\u001b[0m\u001b[1;32m    646\u001b[0m             \u001b[0mf_norm\u001b[0m \u001b[0;34m=\u001b[0m \u001b[0mnp\u001b[0m\u001b[0;34m.\u001b[0m\u001b[0msqrt\u001b[0m\u001b[0;34m(\u001b[0m\u001b[0mf_norm\u001b[0m\u001b[0;34m)\u001b[0m\u001b[0;34m\u001b[0m\u001b[0m\n\u001b[1;32m    647\u001b[0m \u001b[0;34m\u001b[0m\u001b[0m\n",
      "\u001b[0;31mIndexError\u001b[0m: too many indices for array"
     ]
    }
   ],
   "source": [
    "field2inplane(field, 'x', 0)"
   ]
  },
  {
   "cell_type": "code",
   "execution_count": null,
   "metadata": {
    "collapsed": true
   },
   "outputs": [],
   "source": [
    "def fidimag_sim_to_field(field, slice_axis, slice_coord):\n",
    "    "
   ]
  },
  {
   "cell_type": "code",
   "execution_count": 60,
   "metadata": {
    "collapsed": true
   },
   "outputs": [],
   "source": [
    "def field2inplane(field, slice_axis, slice_coord):\n",
    "    \"\"\"\n",
    "    field2hv(field, slice_axis, slice_coord)\n",
    "    \n",
    "    This function constructs a Holoviews object\n",
    "    which shows the in plane Magnetisation and out of plane Magnetisation\n",
    "    \n",
    "    Inputs\n",
    "    ======\n",
    "    field:\n",
    "        Path to an OMF file or object of type oommffield.Field\n",
    "    slice_axis:\n",
    "        The axis along which the vector field will be sliced given as a string.\n",
    "        Must be one of ['x', 'y', 'z']\n",
    "    slice_coord:\n",
    "        The coordinate along the slice_axis where the field is sliced\n",
    "    \"\"\"\n",
    "    # Construct a field object if not a field object\n",
    "    if isinstance(field, str):\n",
    "        field = oommffield.read_oommf_file(field)\n",
    "    field.normalise()\n",
    "    if slice_axis == 'z':\n",
    "        axis = (0, 1, 2)\n",
    "    elif slice_axis == 'y':\n",
    "        axis = (0, 2, 1)\n",
    "    elif slice_axis == 'x':\n",
    "        axis = (1, 2, 0)\n",
    "    else:\n",
    "        raise ValueError(\"Slice Axis must be one of 'x', 'y' ,'z'\")\n",
    "    dims = ['x', 'y', 'z']\n",
    "    bounds = [field.cmin[axis[0]], field.cmin[axis[1]], field.cmax[axis[0]], field.cmax[axis[1]]]\n",
    "    x, y, vec, coords = field.slice_field(slice_axis, slice_coord)\n",
    "    X, Y = np.meshgrid(x, y)\n",
    "    flat = vec.flatten()\n",
    "    modm = (flat[axis[0]::3]**2 + flat[axis[1]::3]**2).reshape((len(x), len(y)))\n",
    "    angm = np.arctan2(flat[axis[1]::3], flat[axis[0]::3]).reshape((len(x), len(y)))\n",
    "    outofplane = flat[axis[2]::3]\n",
    "    mz = flat[axis[2]::3].reshape((len(x), len(y)))\n",
    "    kdims = kdims=[dims[axis[0]], dims[axis[1]]]\n",
    "    return hv.VectorField([X, Y, angm, modm],\n",
    "                          kdims = kdims, vdims=['xyfield'],\n",
    "                          label='In-plane Magnetisation')\n",
    "\n",
    "\n",
    "\n",
    "def field2outofplane(field, slice_axis, slice_coord):\n",
    "    \"\"\"\n",
    "    field2hv(field, slice_axis, slice_coord)\n",
    "    \n",
    "    This function constructs a Holoviews object\n",
    "    which shows the out of plane Magnetisation\n",
    "    \n",
    "    Inputs\n",
    "    ======\n",
    "    field:\n",
    "        Path to an OMF file or object of type oommffield.Field\n",
    "    slice_axis:\n",
    "        The axis along which the vector field will be sliced given as a string.\n",
    "        Must be one of ['x', 'y', 'z']\n",
    "    slice_coord:\n",
    "        The coordinate along the slice_axis where the field is sliced\n",
    "    \"\"\"\n",
    "    # Construct a field object if not a field object\n",
    "    if isinstance(field, str):\n",
    "        field = oommffield.read_oommf_file(field)\n",
    "    field.normalise()\n",
    "    if slice_axis == 'z':\n",
    "        axis = (0, 1, 2)\n",
    "    elif slice_axis == 'y':\n",
    "        axis = (0, 2, 1)\n",
    "    elif slice_axis == 'x':\n",
    "        axis = (1, 2, 0)\n",
    "    else:\n",
    "        raise ValueError(\"Slice Axis must be one of 'x', 'y' ,'z'\")\n",
    "    dims = ['x', 'y', 'z']\n",
    "    bounds = [field.cmin[axis[0]], field.cmin[axis[1]], field.cmax[axis[0]], field.cmax[axis[1]]]\n",
    "    x, y, vec, coords = field.slice_field(slice_axis, slice_coord)\n",
    "    X, Y = np.meshgrid(x, y)\n",
    "    flat = vec.flatten()\n",
    "    modm = (flat[axis[0]::3]**2 + flat[axis[1]::3]**2).reshape((len(x), len(y)))\n",
    "    angm = np.arctan2(flat[axis[1]::3], flat[axis[0]::3]).reshape((len(x), len(y)))\n",
    "    outofplane = flat[axis[2]::3]\n",
    "    mz = flat[axis[2]::3].reshape((len(x), len(y)))\n",
    "    kdims = kdims=[dims[axis[0]], dims[axis[1]]]\n",
    "    return hv.Image(mz, bounds=bounds,\n",
    "                    label='Out of plane Magnetisation',\n",
    "                    kdims = kdims, \n",
    "                    vdims=[hv.Dimension('M{}'.format(slice_axis),\n",
    "                                        range=(-1, 1))])"
   ]
  },
  {
   "cell_type": "code",
   "execution_count": 3,
   "metadata": {
    "collapsed": true
   },
   "outputs": [],
   "source": [
    "def create_inplane_holomap(files, slice_coordinates, axis='z'):\n",
    "    physical_dimension = hv.Dimension('SliceDimension')\n",
    "    file_dimension = hv.Dimension('File')\n",
    "    slice_dimension = hv.Dimension('{} coordinate'.format('z'))\n",
    "    filename_fun = lambda filename: int(filename.split('-')[3])\n",
    "    axis # None is there due to a bug in Holoviews 1.6.1 - \n",
    "                                 # https://github.com/ioam/holoviews/pull/830\n",
    "\n",
    "    slicecoords = list(slice_coordinates)\n",
    "    inplane = [((filename_fun(file), slicecoord), \n",
    "           field2inplane(file, axis, slicecoord)) \n",
    "           for file in files \n",
    "           for slicecoord in slicecoords]\n",
    "    outofplane = [((filename_fun(file), slicecoord), \n",
    "           field2outofplane(file, axis, slicecoord)) \n",
    "           for file in files \n",
    "           for slicecoord in slicecoords]\n",
    "    \n",
    "    return hv.HoloMap(inplane, kdims=[file_dimension, slice_dimension])\n",
    "\n",
    "def create_outofplane_holomap(files, slice_coordinates, axis='z'):\n",
    "    physical_dimension = hv.Dimension('SliceDimension')\n",
    "    file_dimension = hv.Dimension('File')\n",
    "    slice_dimension = hv.Dimension('{} coordinate'.format('z'))\n",
    "    filename_fun = lambda filename: int(filename.split('-')[3])\n",
    "    axis # None is there due to a bug in Holoviews 1.6.1 - \n",
    "                                 # https://github.com/ioam/holoviews/pull/830\n",
    "\n",
    "    slicecoords = list(slice_coordinates)\n",
    "    inplane = [((filename_fun(file), slicecoord), \n",
    "           field2inplane(file, axis, slicecoord)) \n",
    "           for file in files \n",
    "           for slicecoord in slicecoords]\n",
    "    outofplane = [((filename_fun(file), slicecoord), \n",
    "           field2outofplane(file, axis, slicecoord)) \n",
    "           for file in files \n",
    "           for slicecoord in slicecoords]\n",
    "    \n",
    "    return hv.HoloMap(outofplane, kdims=[file_dimension, slice_dimension])\n"
   ]
  },
  {
   "cell_type": "code",
   "execution_count": null,
   "metadata": {
    "collapsed": true
   },
   "outputs": [],
   "source": []
  },
  {
   "cell_type": "code",
   "execution_count": 4,
   "metadata": {
    "collapsed": true
   },
   "outputs": [],
   "source": [
    "datafiles = os.path.join(os.getcwd(), 'examples/doc/data')"
   ]
  },
  {
   "cell_type": "code",
   "execution_count": 5,
   "metadata": {
    "collapsed": false
   },
   "outputs": [],
   "source": [
    "file_list = glob.glob(datafiles + '/*.omf')"
   ]
  },
  {
   "cell_type": "code",
   "execution_count": null,
   "metadata": {
    "collapsed": false
   },
   "outputs": [],
   "source": []
  },
  {
   "cell_type": "code",
   "execution_count": null,
   "metadata": {
    "collapsed": false
   },
   "outputs": [],
   "source": [
    "create_inplane_holomap(file_list, np.linspace(0, 5e-8, 11))"
   ]
  },
  {
   "cell_type": "code",
   "execution_count": null,
   "metadata": {
    "collapsed": false
   },
   "outputs": [],
   "source": []
  },
  {
   "cell_type": "code",
   "execution_count": 7,
   "metadata": {
    "collapsed": false
   },
   "outputs": [],
   "source": [
    "file_list.sort()"
   ]
  },
  {
   "cell_type": "code",
   "execution_count": null,
   "metadata": {
    "collapsed": false
   },
   "outputs": [],
   "source": []
  },
  {
   "cell_type": "code",
   "execution_count": null,
   "metadata": {
    "collapsed": false
   },
   "outputs": [],
   "source": []
  },
  {
   "cell_type": "code",
   "execution_count": null,
   "metadata": {
    "collapsed": false
   },
   "outputs": [],
   "source": []
  },
  {
   "cell_type": "code",
   "execution_count": 10,
   "metadata": {
    "collapsed": true
   },
   "outputs": [],
   "source": [
    "def create_inplane_dynamic_map(files, slice_coordinates, axis='z'):\n",
    "    filename_fun = lambda filename: int(filename.split('-')[3])\n",
    "    file_dimension = hv.Dimension('field', values=list(files), value_format=filename_fun)\n",
    "    physical_dimension = hv.Dimension('slice_axis', values=[axis])\n",
    "    slice_dimension = hv.Dimension('slice_coord', values=list(slice_coordinates))\n",
    "    return hv.DynamicMap(field2inplane, kdims=[file_dimension, physical_dimension, slice_dimension])\n"
   ]
  },
  {
   "cell_type": "code",
   "execution_count": 11,
   "metadata": {
    "collapsed": false
   },
   "outputs": [
    {
     "data": {
      "text/html": [
       "<div class=\"hololayout row row-fluid\">\n",
       "  <div class=\"holoframe\" id=\"display_area4d309614eb9d492a914382d6357baf8a\">\n",
       "    <div id=\"_anim_img4d309614eb9d492a914382d6357baf8a\">\n",
       "      \n",
       "      \n",
       "      \n",
       "    </div>\n",
       "  </div>\n",
       "  <div class=\"holowidgets\" id=\"widget_area4d309614eb9d492a914382d6357baf8a\">\n",
       "    <form class=\"holoform well\" id=\"form4d309614eb9d492a914382d6357baf8a\">\n",
       "      \n",
       "      \n",
       "        <div class=\"form-group control-group holoformgroup\" style=''>\n",
       "          <label for=\"textInput4d309614eb9d492a914382d6357baf8a_field\"><strong>field:</strong></label>\n",
       "          <select class=\"holoselect form-control\" id=\"_anim_widget4d309614eb9d492a914382d6357baf8a_field\" >\n",
       "          </select>\n",
       "        </div>\n",
       "        <script>\n",
       "        var vals = [0, 1, 2, 3, 4, 5, 6, 7, 8, 9, 10, 11, 12, 13, 14, 15, 16, 17, 18, 19, 20, 21, 22, 23, 24, 25, 26, 27, 28, 29, 30, 31, 32, 33, 34, 35, 36, 37, 38, 39, 40];\n",
       "        var labels = ['0.0', '1.0', '2.0', '3.0', '4.0', '5.0', '6.0', '7.0', '8.0', '9.0', '10.0', '11.0', '12.0', '13.0', '14.0', '15.0', '16.0', '17.0', '18.0', '19.0', '20.0', '21.0', '22.0', '23.0', '24.0', '25.0', '26.0', '27.0', '28.0', '29.0', '30.0', '31.0', '32.0', '33.0', '34.0', '35.0', '36.0', '37.0', '38.0', '39.0', '40.0'];\n",
       "        var widget = $(\"#_anim_widget4d309614eb9d492a914382d6357baf8a_field\");\n",
       "        widget.data('values', vals)\n",
       "        for (var i=0; i<vals.length; i++){\n",
       "\t\t\tif (\"bounded\") {\n",
       "\t\t       var val = vals[i];\n",
       "\t\t\t} else {\n",
       "\t\t\t   var val = i;\n",
       "\t\t\t}\n",
       "            widget.append($(\"<option>\", {\n",
       "                value: val,\n",
       "                text: labels[i]\n",
       "            }));\n",
       "        };\n",
       "        widget.data(\"next_vals\", {});\n",
       "        widget.on('change', function(event, ui) {\n",
       "\t\t    if (\"bounded\") {\n",
       "                var dim_val = parseInt(this.value);\n",
       "\t\t\t} else {\n",
       "\t\t\t    var dim_val = $.data(this, 'values')[this.value];\n",
       "\t\t\t}\n",
       "            var next_vals = $.data(this, \"next_vals\");\n",
       "            if (Object.keys(next_vals).length > 0) {\n",
       "                var new_vals = next_vals[dim_val];\n",
       "                var next_widget = $('#_anim_widget4d309614eb9d492a914382d6357baf8a_');\n",
       "                update_widget(next_widget, new_vals);\n",
       "            }\n",
       "\t\t\tif (anim4d309614eb9d492a914382d6357baf8a) {\n",
       "                anim4d309614eb9d492a914382d6357baf8a.set_frame(dim_val, 0);\n",
       "            }\n",
       "\n",
       "        });\n",
       "        </script>\n",
       "        \n",
       "        \n",
       "      \n",
       "        <div class=\"form-group control-group holoformgroup\" style=''>\n",
       "          <label for=\"textInput4d309614eb9d492a914382d6357baf8a_slice_axis\"><strong>slice_axis:</strong></label>\n",
       "          <select class=\"holoselect form-control\" id=\"_anim_widget4d309614eb9d492a914382d6357baf8a_slice_axis\" >\n",
       "          </select>\n",
       "        </div>\n",
       "        <script>\n",
       "        var vals = [0];\n",
       "        var labels = ['z'];\n",
       "        var widget = $(\"#_anim_widget4d309614eb9d492a914382d6357baf8a_slice_axis\");\n",
       "        widget.data('values', vals)\n",
       "        for (var i=0; i<vals.length; i++){\n",
       "\t\t\tif (\"bounded\") {\n",
       "\t\t       var val = vals[i];\n",
       "\t\t\t} else {\n",
       "\t\t\t   var val = i;\n",
       "\t\t\t}\n",
       "            widget.append($(\"<option>\", {\n",
       "                value: val,\n",
       "                text: labels[i]\n",
       "            }));\n",
       "        };\n",
       "        widget.data(\"next_vals\", {});\n",
       "        widget.on('change', function(event, ui) {\n",
       "\t\t    if (\"bounded\") {\n",
       "                var dim_val = parseInt(this.value);\n",
       "\t\t\t} else {\n",
       "\t\t\t    var dim_val = $.data(this, 'values')[this.value];\n",
       "\t\t\t}\n",
       "            var next_vals = $.data(this, \"next_vals\");\n",
       "            if (Object.keys(next_vals).length > 0) {\n",
       "                var new_vals = next_vals[dim_val];\n",
       "                var next_widget = $('#_anim_widget4d309614eb9d492a914382d6357baf8a_');\n",
       "                update_widget(next_widget, new_vals);\n",
       "            }\n",
       "\t\t\tif (anim4d309614eb9d492a914382d6357baf8a) {\n",
       "                anim4d309614eb9d492a914382d6357baf8a.set_frame(dim_val, 1);\n",
       "            }\n",
       "\n",
       "        });\n",
       "        </script>\n",
       "        \n",
       "        \n",
       "      \n",
       "      <div class=\"form-group control-group holoformgroup\" style=''>\n",
       "        <label for=\"textInput4d309614eb9d492a914382d6357baf8a_slice_coord\">\n",
       "          <strong>slice_coord:</strong>\n",
       "        </label>\n",
       "        <div class=\"holowell row row-fluid\">\n",
       "          <div class=\"hologroup\">\n",
       "            <input type=\"text\" class=\"holotext form-control input-small\"\n",
       "                   id=\"textInput4d309614eb9d492a914382d6357baf8a_slice_coord\" value=\"\" readonly>\n",
       "          </div>\n",
       "          <div class=\"holoslider\"\n",
       "               id=\"_anim_widget4d309614eb9d492a914382d6357baf8a_slice_coord\"></div>\n",
       "        </div>\n",
       "      </div>\n",
       "\t  <script>\n",
       "        // Slider JS Block START\n",
       "        function loadcssfile(filename){\n",
       "            var fileref=document.createElement(\"link\")\n",
       "            fileref.setAttribute(\"rel\", \"stylesheet\")\n",
       "            fileref.setAttribute(\"type\", \"text/css\")\n",
       "            fileref.setAttribute(\"href\", filename)\n",
       "            document.getElementsByTagName(\"head\")[0].appendChild(fileref)\n",
       "        }\n",
       "        loadcssfile(\"https://code.jquery.com/ui/1.10.4/themes/smoothness/jquery-ui.css\");\n",
       "        /* Check if jQuery and jQueryUI have been loaded\n",
       "           otherwise load with require.js */\n",
       "        var jQuery = window.jQuery,\n",
       "            // check for old versions of jQuery\n",
       "            oldjQuery = jQuery && !!jQuery.fn.jquery.match(/^1\\.[0-4](\\.|$)/),\n",
       "            jquery_path = '',\n",
       "            paths = {},\n",
       "            noConflict;\n",
       "        var jQueryUI = jQuery.ui;\n",
       "        // check for jQuery\n",
       "        if (!jQuery || oldjQuery) {\n",
       "            // load if it's not available or doesn't meet min standards\n",
       "            paths.jQuery = jQuery;\n",
       "            noConflict = !!oldjQuery;\n",
       "        } else {\n",
       "            // register the current jQuery\n",
       "            define('jquery', [], function() { return jQuery; });\n",
       "        }\n",
       "        if (!jQueryUI) {\n",
       "            paths.jQueryUI = \"https://code.jquery.com/ui/1.10.4/jquery-ui.min\"\n",
       "        } else {\n",
       "            define('jQueryUI', [], function() { return jQuery.ui; });\n",
       "        }\n",
       "        paths.underscore = \"https://cdnjs.cloudflare.com/ajax/libs/underscore.js/1.8.3/underscore-min\";\n",
       "        var jquery_require = {\n",
       "            paths: paths,\n",
       "            shim: {\n",
       "                \"jQueryUI\": {\n",
       "                    exports:\"$\",\n",
       "                    deps: ['jquery']\n",
       "                },\n",
       "                \"underscore\": {\n",
       "                    exports: '_'\n",
       "                }\n",
       "            }\n",
       "        }\n",
       "        require.config(jquery_require);\n",
       "        require([\"jQueryUI\", \"underscore\"], function(jUI, _){\n",
       "            if (noConflict) $.noConflict(true);\n",
       "            var vals = {0: 0, 1: 1, 2: 2, 3: 3, 4: 4, 5: 5, 6: 6, 7: 7, 8: 8, 9: 9, 10: 10};\n",
       "            var next_vals = {};\n",
       "            if (\"bounded\" && vals.constructor === Array) {\n",
       "                var min = parseFloat(vals[0]);\n",
       "                var max = parseFloat(vals[vals.length-1]);\n",
       "                var step = 1;\n",
       "                var labels = [min];\n",
       "            } else {\n",
       "                var min = 0;\n",
       "                if (\"bounded\") {\n",
       "                    var max = Object.keys(vals).length - 1;\n",
       "                } else {\n",
       "                    var max = vals.length - 1;\n",
       "                }\n",
       "                var step = 1;\n",
       "\t\t\t\tvar labels = ['0', '5e-09', '1e-08', '1.5e-08', '2e-08', '2.5e-08', '3e-08', '3.5e-08', '4e-08', '4.5e-08', '5e-08'];\n",
       "            }\n",
       "\t\t\tfunction adjustFontSize(text) {\n",
       "\t\t\t\tvar width_ratio = (text.parent().width()/8)/text.val().length;\n",
       "\t\t\t\tvar size = Math.min(0.9, Math.max(0.6, width_ratio))+'em';\n",
       "\t\t\t\ttext.css('font-size', size);\n",
       "\t\t\t}\n",
       "            var slider = $('#_anim_widget4d309614eb9d492a914382d6357baf8a_slice_coord');\n",
       "            slider.slider({\n",
       "                animate: \"fast\",\n",
       "                min: min,\n",
       "                max: max,\n",
       "                step: step,\n",
       "                value: min,\n",
       "                dim_vals: vals,\n",
       "                dim_labels: labels,\n",
       "                next_vals: next_vals,\n",
       "                slide: function(event, ui) {\n",
       "                    var vals = slider.slider(\"option\", \"dim_vals\");\n",
       "                    var next_vals = slider.slider(\"option\", \"next_vals\");\n",
       "                    var labels = slider.slider(\"option\", \"dim_labels\");\n",
       "                    if (\"bounded\") {\n",
       "\t\t\t\t\t    var dim_val = ui.value;\n",
       "\t\t\t\t\t    if (vals.constructor === Array) {\n",
       "\t\t\t\t\t\t   var label = ui.value;\n",
       "\t\t\t\t\t\t} else {\n",
       "\t\t\t\t\t\t   var label = labels[ui.value];\n",
       "\t\t\t\t\t\t}\n",
       "                    } else {\n",
       "                        var dim_val = vals[ui.value];\n",
       "\t\t\t\t\t\tvar label = labels[ui.value];\n",
       "                    }\n",
       "\t\t\t\t\tvar text = $('#textInput4d309614eb9d492a914382d6357baf8a_slice_coord');\n",
       "\t\t\t\t\ttext.val(label);\n",
       "\t\t\t\t\tadjustFontSize(text);\n",
       "                    anim4d309614eb9d492a914382d6357baf8a.set_frame(dim_val, 2);\n",
       "                    if (Object.keys(next_vals).length > 0) {\n",
       "                        var new_vals = next_vals[dim_val];\n",
       "                        var next_widget = $('#_anim_widget4d309614eb9d492a914382d6357baf8a_');\n",
       "                        update_widget(next_widget, new_vals);\n",
       "                    }\n",
       "                }\n",
       "            });\n",
       "            slider.keypress(function(event) {\n",
       "                if (event.which == 80 || event.which == 112) {\n",
       "                    var start = slider.slider(\"option\", \"value\");\n",
       "                    var stop =  slider.slider(\"option\", \"max\");\n",
       "                    for (var i=start; i<=stop; i++) {\n",
       "                        var delay = i*50;\n",
       "                        $.proxy(function doSetTimeout(i) { setTimeout($.proxy(function() {\n",
       "                            var val = {value:i};\n",
       "                            slider.slider('value',i);\n",
       "                            slider.slider(\"option\", \"slide\")(null, val);\n",
       "                        }, slider), delay);}, slider)(i);\n",
       "                    }\n",
       "                }\n",
       "                if (event.which == 82 || event.which == 114) {\n",
       "                    var start = slider.slider(\"option\", \"value\");\n",
       "                    var stop =  slider.slider(\"option\", \"min\");\n",
       "                    var count = 0;\n",
       "                    for (var i=start; i>=stop; i--) {\n",
       "                        var delay = count*50;\n",
       "                        count = count + 1;\n",
       "                        $.proxy(function doSetTimeout(i) { setTimeout($.proxy(function() {\n",
       "                            var val = {value:i};\n",
       "                            slider.slider('value',i);\n",
       "                            slider.slider(\"option\", \"slide\")(null, val);\n",
       "                        }, slider), delay);}, slider)(i);\n",
       "                    }\n",
       "                }\n",
       "            });\n",
       "\t\t\tvar textInput = $('#textInput4d309614eb9d492a914382d6357baf8a_slice_coord')\n",
       "\t\t\ttextInput.val(labels[0]);\n",
       "\t\t\tadjustFontSize(textInput);\n",
       "        });\n",
       "        // Slider JS Block END\n",
       "        </script>\n",
       "        \n",
       "        \n",
       "        </form>\n",
       "    </div>\n",
       "</div>\n",
       "\n",
       "\n",
       "<script language=\"javascript\">\n",
       "/* Instantiate the MPLSelectionWidget class. */\n",
       "/* The IDs given should match those used in the template above. */\n",
       "(function() {\n",
       "\tif (jQuery.ui !== undefined) {\n",
       "\t\t$(\"#display_area4d309614eb9d492a914382d6357baf8a\").resizable({\n",
       "\t\t\tresize: function(event, ui) {\n",
       "\t\t\t\t$(\"#widget_area4d309614eb9d492a914382d6357baf8a\").width($(this).parent().width()-ui.size.width);\n",
       "\t\t\t}\n",
       "\t\t});\n",
       "\t\t$(\"#widget_area4d309614eb9d492a914382d6357baf8a\").resizable();\n",
       "\t}\n",
       "    var widget_ids = new Array(3);\n",
       "    \n",
       "    widget_ids[0] = \"_anim_widget4d309614eb9d492a914382d6357baf8a_field\";\n",
       "    \n",
       "    widget_ids[1] = \"_anim_widget4d309614eb9d492a914382d6357baf8a_slice_axis\";\n",
       "    \n",
       "    widget_ids[2] = \"_anim_widget4d309614eb9d492a914382d6357baf8a_slice_coord\";\n",
       "    \n",
       "    var frame_data = {\"0\": \"<img src='data:image/png;base64,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' style='max-width:100%; margin: auto; display: block; '/>\"};\n",
       "    var dim_vals = [0.0, 0.0, 0.0];\n",
       "    var keyMap = {};\n",
       "    var notFound = \"<h2 style='vertical-align: middle>No frame at selected dimension value.<h2>\";\n",
       "    function create_widget() {\n",
       "        setTimeout(function() {\n",
       "            anim4d309614eb9d492a914382d6357baf8a = new MPLSelectionWidget(frame_data, \"4d309614eb9d492a914382d6357baf8a\", widget_ids,\n",
       "\t\t\t\tkeyMap, dim_vals, notFound, false, 'default',\n",
       "\t\t\t\tfalse, \"./json_figures/\", \"bounded\");\n",
       "        }, 0);\n",
       "    }\n",
       "    \n",
       "\n",
       "\n",
       "    create_widget();\n",
       "    \n",
       "\n",
       "\n",
       "})();\n",
       "</script>"
      ],
      "text/plain": [
       "b':DynamicMap   [field,slice_axis,slice_coord]'"
      ]
     },
     "execution_count": 11,
     "metadata": {},
     "output_type": "execute_result"
    }
   ],
   "source": [
    "def create_outofplane_dynamic_map(files, slice_coordinates, axis='z'):\n",
    "    filename_fun = lambda filename: int(filename.split('-')[3])\n",
    "    file_dimension = hv.Dimension('field', values=list(files), value_format=filename_fun)\n",
    "    physical_dimension = hv.Dimension('slice_axis', values=[axis])\n",
    "    slice_dimension = hv.Dimension('slice_coord', values=list(slice_coordinates))\n",
    "    \n",
    "    return hv.DynamicMap(field2outofplane, kdims=[file_dimension, physical_dimension, slice_dimension])\n",
    "\n",
    "create_inplane_dynamic_map(file_list, np.linspace(0, 5e-8, 11))"
   ]
  },
  {
   "cell_type": "code",
   "execution_count": null,
   "metadata": {
    "collapsed": true
   },
   "outputs": [],
   "source": [
    "file_dimension = hv.Dimension('field', values=list(files))\n",
    "physical_dimension = hv.Dimension('slice_axis', values=[axis])\n",
    "slice_dimension = hv.Dimension('slice_coord', values=list(slice_coordinates))\n",
    "filename_fun = lambda filename: int(filename.split('-')[3])"
   ]
  },
  {
   "cell_type": "code",
   "execution_count": null,
   "metadata": {
    "collapsed": false
   },
   "outputs": [],
   "source": [
    "a = hv.DynamicMap(field2outofplane, kdims=[file_dimension, physical_dimension, slice_dimension])"
   ]
  },
  {
   "cell_type": "code",
   "execution_count": null,
   "metadata": {
    "collapsed": false
   },
   "outputs": [],
   "source": [
    "test = a.dimensions()[0]"
   ]
  },
  {
   "cell_type": "code",
   "execution_count": null,
   "metadata": {
    "collapsed": false
   },
   "outputs": [],
   "source": [
    "mapdata = [((i), hv.Image(np.random.rand(4, 4))) for i in ['a_1', 'a_2', 'a_3']]"
   ]
  },
  {
   "cell_type": "code",
   "execution_count": null,
   "metadata": {
    "collapsed": false
   },
   "outputs": [],
   "source": [
    "hv.HoloMap(mapdata, kdims=[hv.Dimension('i', value_format=lambda i: i[-1])])"
   ]
  },
  {
   "cell_type": "code",
   "execution_count": null,
   "metadata": {
    "collapsed": true
   },
   "outputs": [],
   "source": []
  }
 ],
 "metadata": {
  "anaconda-cloud": {},
  "kernelspec": {
   "display_name": "Python [fidimag]",
   "language": "python",
   "name": "Python [fidimag]"
  },
  "language_info": {
   "codemirror_mode": {
    "name": "ipython",
    "version": 3
   },
   "file_extension": ".py",
   "mimetype": "text/x-python",
   "name": "python",
   "nbconvert_exporter": "python",
   "pygments_lexer": "ipython3",
   "version": "3.5.2"
  }
 },
 "nbformat": 4,
 "nbformat_minor": 0
}
