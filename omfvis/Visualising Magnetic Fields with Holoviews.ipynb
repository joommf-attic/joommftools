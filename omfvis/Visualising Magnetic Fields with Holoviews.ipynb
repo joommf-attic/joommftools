{
 "cells": [
  {
   "cell_type": "markdown",
   "metadata": {},
   "source": [
    "# Visualising micromagnetic simulation data with Holoviews"
   ]
  },
  {
   "cell_type": "markdown",
   "metadata": {},
   "source": [
    "In micromagnetic simulations, it is common to want to investigate systems through a multidimensional parameter space. We may wish to see how a system evolves through time, or how adjusting the strength of interactions might change the final state. In this notebook, we show how output files from OOMMF can be displayed using Holoviews, and how this can allow interactive exploration of data."
   ]
  },
  {
   "cell_type": "code",
   "execution_count": 1,
   "metadata": {
    "collapsed": false
   },
   "outputs": [
    {
     "data": {
      "text/plain": [
       "'3.5.2 |Continuum Analytics, Inc.| (default, Jul  2 2016, 17:53:06) \\n[GCC 4.4.7 20120313 (Red Hat 4.4.7-1)]'"
      ]
     },
     "execution_count": 1,
     "metadata": {},
     "output_type": "execute_result"
    }
   ],
   "source": [
    "import sys\n",
    "sys.version"
   ]
  },
  {
   "cell_type": "code",
   "execution_count": 2,
   "metadata": {
    "collapsed": false
   },
   "outputs": [],
   "source": [
    "%load_ext autoreload\n",
    "%autoreload 2"
   ]
  },
  {
   "cell_type": "code",
   "execution_count": 5,
   "metadata": {
    "collapsed": false
   },
   "outputs": [
    {
     "data": {
      "text/html": [
       "\n",
       "<script src=\"https://code.jquery.com/ui/1.10.4/jquery-ui.min.js\" type=\"text/javascript\"></script>\n",
       "<script type=\"text/javascript\">function HoloViewsWidget(){\n",
       "}\n",
       "\n",
       "HoloViewsWidget.prototype.init_slider = function(init_val){\n",
       "\tif(this.load_json) {\n",
       "\t\tthis.from_json()\n",
       "\t} else {\n",
       "\t\tthis.update_cache();\n",
       "\t}\n",
       "}\n",
       "\n",
       "HoloViewsWidget.prototype.populate_cache = function(idx){\n",
       "    this.cache[idx].html(this.frames[idx]);\n",
       "    if (this.embed) {\n",
       "        delete this.frames[idx];\n",
       "    }\n",
       "}\n",
       "\n",
       "HoloViewsWidget.prototype.process_error = function(msg){\n",
       "\n",
       "}\n",
       "\n",
       "HoloViewsWidget.prototype.from_json = function() {\n",
       "\tvar data_url = this.json_path + this.id + '.json';\n",
       "\t$.getJSON(data_url, $.proxy(function(json_data) {\n",
       "\t\tthis.frames = json_data;\n",
       "\t\tthis.update_cache();\n",
       "\t\tthis.update(0);\n",
       "\t}, this));\n",
       "}\n",
       "\n",
       "HoloViewsWidget.prototype.dynamic_update = function(current){\n",
       "    function callback(msg){\n",
       "        /* This callback receives data from Python as a string\n",
       "         in order to parse it correctly quotes are sliced off*/\n",
       "        var data = msg.content.data['text/plain'].slice(1, -1);\n",
       "        this.frames[current] = data;\n",
       "        this.update_cache();\n",
       "        this.update(current);\n",
       "    }\n",
       "    if(!(current in this.cache)) {\n",
       "        var kernel = IPython.notebook.kernel;\n",
       "        callbacks = {iopub: {output: $.proxy(callback, this)}};\n",
       "        var cmd = \"holoviews.plotting.widgets.NdWidget.widgets['\" + this.id + \"'].update(\" + current + \")\";\n",
       "        kernel.execute(\"import holoviews;\" + cmd, callbacks, {silent : false});\n",
       "    } else {\n",
       "        this.update(current);\n",
       "    }\n",
       "}\n",
       "\n",
       "HoloViewsWidget.prototype.update_cache = function(){\n",
       "    var frame_len = Object.keys(this.frames).length;\n",
       "    for (var i=0; i<frame_len; i++) {\n",
       "        if(!this.load_json || this.dynamic)  {\n",
       "            frame = Object.keys(this.frames)[i];\n",
       "        } else {\n",
       "            frame = i;\n",
       "        }\n",
       "        if(!(frame in this.cache)) {\n",
       "            this.cache[frame] = $('<div />').appendTo(\"#\" + this.img_id).hide();\n",
       "            var cache_id = this.img_id+\"_\"+frame;\n",
       "            this.cache[frame].attr(\"id\", cache_id);\n",
       "            this.populate_cache(frame);\n",
       "        }\n",
       "    }\n",
       "}\n",
       "\n",
       "HoloViewsWidget.prototype.update = function(current){\n",
       "    if(current in this.cache) {\n",
       "        $.each(this.cache, function(index, value) {\n",
       "            value.hide();\n",
       "        });\n",
       "        this.cache[current].show();\n",
       "\t\tthis.wait = false;\n",
       "    }\n",
       "}\n",
       "\n",
       "\n",
       "function SelectionWidget(frames, id, slider_ids, keyMap, dim_vals, notFound, load_json, mode, cached, json_path, dynamic){\n",
       "    this.frames = frames;\n",
       "    this.fig_id = \"fig_\" + id;\n",
       "    this.img_id = \"_anim_img\" + id;\n",
       "    this.id = id;\n",
       "    this.slider_ids = slider_ids;\n",
       "    this.keyMap = keyMap\n",
       "    this.current_frame = 0;\n",
       "    this.current_vals = dim_vals;\n",
       "    this.load_json = load_json;\n",
       "    this.mode = mode;\n",
       "    this.notFound = notFound;\n",
       "    this.cached = cached;\n",
       "    this.dynamic = dynamic;\n",
       "    this.cache = {};\n",
       "\tthis.json_path = json_path;\n",
       "    this.init_slider(this.current_vals[0]);\n",
       "\tthis.queue = [];\n",
       "\tthis.wait = false;\n",
       "}\n",
       "\n",
       "SelectionWidget.prototype = new HoloViewsWidget;\n",
       "\n",
       "\n",
       "SelectionWidget.prototype.get_key = function(current_vals) {\n",
       "\tvar key = \"(\";\n",
       "    for (var i=0; i<this.slider_ids.length; i++)\n",
       "    {\n",
       "        val = this.current_vals[i];\n",
       "        if (!(typeof val === 'string')) {\n",
       "            if (val % 1 === 0) { var fixed = 1;}\n",
       "            else { var fixed = 10;}\n",
       "            val = val.toFixed(fixed)\n",
       "        }\n",
       "        key += \"'\" + val + \"'\";\n",
       "        if(i != this.slider_ids.length-1) { key += ', ';}\n",
       "        else if(this.slider_ids.length == 1) { key += ',';}\n",
       "    }\n",
       "    key += \")\";\n",
       "\treturn this.keyMap[key];\n",
       "}\n",
       "\n",
       "SelectionWidget.prototype.set_frame = function(dim_val, dim_idx){\n",
       "\tthis.current_vals[dim_idx] = dim_val;\n",
       "    var current = this.get_key(this.current_vals);\n",
       "    if(current === undefined && !this.dynamic) {\n",
       "        return\n",
       "    }\n",
       "\tif (this.dynamic || !this.cached) {\n",
       "\t\tif (this.time === undefined) {\n",
       "\t\t\t// Do nothing the first time\n",
       "\t\t} else if ((this.timed === undefined) || ((this.time + this.timed) > Date.now())) {\n",
       "\t\t\tvar key = this.current_vals;\n",
       "\t\t\tif (!this.dynamic) {\n",
       "\t\t\t\tkey = this.get_key(key);\n",
       "\t\t\t}\n",
       "\t\t\tthis.queue.push(key);\n",
       "\t\t\treturn\n",
       "\t\t}\n",
       "\t}\n",
       "\tthis.queue = [];\n",
       "\tthis.time = Date.now();\n",
       "    if(this.dynamic) {\n",
       "        this.dynamic_update(this.current_vals)\n",
       "        return;\n",
       "    }\n",
       "    this.current_frame = current;\n",
       "    if(this.cached) {\n",
       "        this.update(current)\n",
       "    } else {\n",
       "        this.dynamic_update(current)\n",
       "    }\n",
       "}\n",
       "\n",
       "\n",
       "/* Define the ScrubberWidget class */\n",
       "function ScrubberWidget(frames, num_frames, id, interval, load_json, mode, cached, json_path, dynamic){\n",
       "    this.img_id = \"_anim_img\" + id;\n",
       "    this.slider_id = \"_anim_slider\" + id;\n",
       "    this.loop_select_id = \"_anim_loop_select\" + id;\n",
       "    this.id = id;\n",
       "    this.fig_id = \"fig_\" + id;\n",
       "    this.interval = interval;\n",
       "    this.current_frame = 0;\n",
       "    this.direction = 0;\n",
       "    this.dynamic = dynamic;\n",
       "    this.timer = null;\n",
       "    this.load_json = load_json;\n",
       "    this.mode = mode;\n",
       "    this.cached = cached;\n",
       "    this.frames = frames;\n",
       "    this.cache = {};\n",
       "    this.length = num_frames;\n",
       "\tthis.json_path = json_path;\n",
       "    document.getElementById(this.slider_id).max = this.length - 1;\n",
       "    this.init_slider(0);\n",
       "\tthis.wait = false;\n",
       "\tthis.queue = [];\n",
       "}\n",
       "\n",
       "ScrubberWidget.prototype = new HoloViewsWidget;\n",
       "\n",
       "ScrubberWidget.prototype.set_frame = function(frame){\n",
       "\tthis.current_frame = frame;\n",
       "\twidget = document.getElementById(this.slider_id);\n",
       "    if (widget === null) {\n",
       "        this.pause_animation();\n",
       "        return\n",
       "    }\n",
       "    widget.value = this.current_frame;\n",
       "    if(this.cached) {\n",
       "        this.update(frame)\n",
       "    } else {\n",
       "        this.dynamic_update(frame)\n",
       "    }\n",
       "}\n",
       "\n",
       "\n",
       "ScrubberWidget.prototype.process_error = function(msg){\n",
       "\tif (msg.content.ename === 'StopIteration') {\n",
       "\t\tthis.pause_animation();\n",
       "\t\tthis.stopped = true;\n",
       "\t\tvar keys = Object.keys(this.frames)\n",
       "\t\tthis.length = keys.length;\n",
       "\t\tdocument.getElementById(this.slider_id).max = this.length-1;\n",
       "\t\tdocument.getElementById(this.slider_id).value = this.length-1;\n",
       "\t\tthis.current_frame = this.length-1;\n",
       "\t}\n",
       "}\n",
       "\n",
       "\n",
       "ScrubberWidget.prototype.get_loop_state = function(){\n",
       "    var button_group = document[this.loop_select_id].state;\n",
       "    for (var i = 0; i < button_group.length; i++) {\n",
       "        var button = button_group[i];\n",
       "        if (button.checked) {\n",
       "            return button.value;\n",
       "        }\n",
       "    }\n",
       "    return undefined;\n",
       "}\n",
       "\n",
       "\n",
       "ScrubberWidget.prototype.next_frame = function() {\n",
       "\tif (this.dynamic || !this.cached) {\n",
       "\t\tif (this.wait) {\n",
       "\t\t\treturn\n",
       "\t\t}\n",
       "\t\tthis.wait = true;\n",
       "\t}\n",
       "\tif (this.dynamic && this.current_frame + 1 >= this.length) {\n",
       "\t\tthis.length += 1;\n",
       "        document.getElementById(this.slider_id).max = this.length-1;\n",
       "\t}\n",
       "    this.set_frame(Math.min(this.length - 1, this.current_frame + 1));\n",
       "}\n",
       "\n",
       "ScrubberWidget.prototype.previous_frame = function() {\n",
       "    this.set_frame(Math.max(0, this.current_frame - 1));\n",
       "}\n",
       "\n",
       "ScrubberWidget.prototype.first_frame = function() {\n",
       "    this.set_frame(0);\n",
       "}\n",
       "\n",
       "ScrubberWidget.prototype.last_frame = function() {\n",
       "    this.set_frame(this.length - 1);\n",
       "}\n",
       "\n",
       "ScrubberWidget.prototype.slower = function() {\n",
       "    this.interval /= 0.7;\n",
       "    if(this.direction > 0){this.play_animation();}\n",
       "    else if(this.direction < 0){this.reverse_animation();}\n",
       "}\n",
       "\n",
       "ScrubberWidget.prototype.faster = function() {\n",
       "    this.interval *= 0.7;\n",
       "    if(this.direction > 0){this.play_animation();}\n",
       "    else if(this.direction < 0){this.reverse_animation();}\n",
       "}\n",
       "\n",
       "ScrubberWidget.prototype.anim_step_forward = function() {\n",
       "    if(this.current_frame < this.length || (this.dynamic && !this.stopped)){\n",
       "        this.next_frame();\n",
       "    }else{\n",
       "        var loop_state = this.get_loop_state();\n",
       "        if(loop_state == \"loop\"){\n",
       "            this.first_frame();\n",
       "        }else if(loop_state == \"reflect\"){\n",
       "            this.last_frame();\n",
       "            this.reverse_animation();\n",
       "        }else{\n",
       "            this.pause_animation();\n",
       "            this.last_frame();\n",
       "        }\n",
       "    }\n",
       "}\n",
       "\n",
       "ScrubberWidget.prototype.anim_step_reverse = function() {\n",
       "    this.current_frame -= 1;\n",
       "    if(this.current_frame >= 0){\n",
       "        this.set_frame(this.current_frame);\n",
       "    } else {\n",
       "        var loop_state = this.get_loop_state();\n",
       "        if(loop_state == \"loop\"){\n",
       "            this.last_frame();\n",
       "        }else if(loop_state == \"reflect\"){\n",
       "            this.first_frame();\n",
       "            this.play_animation();\n",
       "        }else{\n",
       "            this.pause_animation();\n",
       "            this.first_frame();\n",
       "        }\n",
       "    }\n",
       "}\n",
       "\n",
       "ScrubberWidget.prototype.pause_animation = function() {\n",
       "    this.direction = 0;\n",
       "    if (this.timer){\n",
       "        clearInterval(this.timer);\n",
       "        this.timer = null;\n",
       "    }\n",
       "}\n",
       "\n",
       "ScrubberWidget.prototype.play_animation = function() {\n",
       "    this.pause_animation();\n",
       "    this.direction = 1;\n",
       "    var t = this;\n",
       "    if (!this.timer) this.timer = setInterval(function(){t.anim_step_forward();}, this.interval);\n",
       "}\n",
       "\n",
       "ScrubberWidget.prototype.reverse_animation = function() {\n",
       "    this.pause_animation();\n",
       "    this.direction = -1;\n",
       "    var t = this;\n",
       "    if (!this.timer) this.timer = setInterval(function(){t.anim_step_reverse();}, this.interval);\n",
       "}\n",
       "\n",
       "function extend(destination, source) {\n",
       "    for (var k in source) {\n",
       "        if (source.hasOwnProperty(k)) {\n",
       "            destination[k] = source[k];\n",
       "        }\n",
       "    }\n",
       "    return destination;\n",
       "}\n",
       "\n",
       "function update_widget(widget, values) {\n",
       "\tif (widget.hasClass(\"ui-slider\")) {\n",
       "\t\twidget.slider('option',\n",
       "\t\t\t\t\t  {'min': 0, 'max': values.length-1,\n",
       "\t\t\t\t\t   'dim_vals': values, 'value': 0,\n",
       "\t\t\t\t\t   'dim_labels': values})\n",
       "\t\twidget.slider('option', 'slide').call(widget, event, {'value': 0})\n",
       "\t} else {\n",
       "\t\twidget.empty();\n",
       "\t\tfor (var i=0; i<values.length; i++){\n",
       "\t\t\twidget.append($(\"<option>\", {\n",
       "\t\t\t\tvalue: i,\n",
       "\t\t\t\ttext: values[i]\n",
       "\t\t\t}))};\n",
       "\t\twidget.data('values', values);\n",
       "\t\twidget.data('value', 0);\n",
       "\t\twidget.trigger(\"change\");\n",
       "\t};\n",
       "}\n",
       "\n",
       "// Define MPL specific subclasses\n",
       "function MPLSelectionWidget() {\n",
       "\tSelectionWidget.apply(this, arguments);\n",
       "}\n",
       "\n",
       "function MPLScrubberWidget() {\n",
       "\tScrubberWidget.apply(this, arguments);\n",
       "}\n",
       "\n",
       "// Let them inherit from the baseclasses\n",
       "MPLSelectionWidget.prototype = Object.create(SelectionWidget.prototype);\n",
       "MPLScrubberWidget.prototype = Object.create(ScrubberWidget.prototype);\n",
       "\n",
       "// Define methods to override on widgets\n",
       "var MPLMethods = {\n",
       "\tinit_slider : function(init_val){\n",
       "\t\tif(this.load_json) {\n",
       "\t\t\tthis.from_json()\n",
       "\t\t} else {\n",
       "\t\t\tthis.update_cache();\n",
       "\t\t}\n",
       "\t\tthis.update(0);\n",
       "\t\tif(this.mode == 'nbagg') {\n",
       "\t\t\tthis.set_frame(init_val, 0);\n",
       "\t\t}\n",
       "\t},\n",
       "\tpopulate_cache : function(idx){\n",
       "\t\tvar cache_id = this.img_id+\"_\"+idx;\n",
       "\t\tif(this.mode == 'mpld3') {\n",
       "\t\t\tmpld3.draw_figure(cache_id, this.frames[idx]);\n",
       "\t\t} else {\n",
       "\t\t\tthis.cache[idx].html(this.frames[idx]);\n",
       "\t\t}\n",
       "\t\tif (this.embed) {\n",
       "\t\t\tdelete this.frames[idx];\n",
       "\t\t}\n",
       "\t},\n",
       "\tdynamic_update : function(current){\n",
       "\t\tif (this.dynamic) {\n",
       "\t\t\tcurrent = JSON.stringify(current);\n",
       "\t\t}\n",
       "\t\tfunction callback(msg){\n",
       "\t\t\t/* This callback receives data from Python as a string\n",
       "\t\t\t in order to parse it correctly quotes are sliced off*/\n",
       "\t\t\tif (msg.content.ename != undefined) {\n",
       "\t\t\t\tthis.process_error(msg);\n",
       "\t\t\t}\n",
       "\t\t\tif (msg.msg_type != \"execute_result\") {\n",
       "\t\t\t\tconsole.log(\"Warning: HoloViews callback returned unexpected data for key: (\", current, \") with the following content:\", msg.content)\n",
       "\t\t\t\tthis.time = undefined;\n",
       "\t\t\t\treturn\n",
       "\t\t\t}\n",
       "\t\t\tif (!(this.mode == 'nbagg')) {\n",
       "\t\t\t\tif(!(current in this.cache)) {\n",
       "\t\t\t\t\tvar data = msg.content.data['text/plain'].slice(1, -1);\n",
       "\t\t\t\t\tif(this.mode == 'mpld3'){\n",
       "\t\t\t\t\t\tdata = JSON.parse(data)[0];\n",
       "\t\t\t\t\t}\n",
       "\t\t\t\t\tthis.frames[current] = data;\n",
       "\t\t\t\t\tthis.update_cache();\n",
       "\t\t\t\t}\n",
       "\t\t\t\tthis.update(current);\n",
       "\t\t\t}\n",
       "\t\t\tthis.timed = (Date.now() - this.time) * 1.5;\n",
       "\t\t\tthis.wait = false;\n",
       "\t\t\tif (this.queue.length > 0) {\n",
       "\t\t\t\tvar current_vals = this.queue[this.queue.length-1];\n",
       "\t\t\t\tthis.time = Date.now();\n",
       "\t\t\t\tthis.dynamic_update(current_vals);\n",
       "\t\t\t\tthis.queue = [];\n",
       "\t\t\t}\n",
       "\t\t}\n",
       "\t\tvar kernel = IPython.notebook.kernel;\n",
       "\t\tcallbacks = {iopub: {output: $.proxy(callback, this)}};\n",
       "\t\tvar cmd = \"holoviews.plotting.widgets.NdWidget.widgets['\" + this.id + \"'].update(\" + current + \")\";\n",
       "\t\tkernel.execute(\"import holoviews;\" + cmd, callbacks, {silent : false});\n",
       "\t}\n",
       "}\n",
       "\n",
       "// Extend MPL widgets with backend specific methods\n",
       "extend(MPLSelectionWidget.prototype, MPLMethods);\n",
       "extend(MPLScrubberWidget.prototype, MPLMethods);\n",
       "</script>\n",
       "\n",
       "\n",
       "<link rel=\"stylesheet\" href=\"https://code.jquery.com/ui/1.10.4/themes/smoothness/jquery-ui.css\">\n",
       "<style>div.hololayout {\n",
       "    display: flex;\n",
       "    align-items: center;\n",
       "    margin: 0;\n",
       "}\n",
       "\n",
       "div.holoframe {\n",
       "\twidth: 75%;\n",
       "}\n",
       "\n",
       "div.holowell {\n",
       "    display: flex;\n",
       "    align-items: center;\n",
       "    margin: 0;\n",
       "}\n",
       "\n",
       "form.holoform {\n",
       "    background-color: #fafafa;\n",
       "    border-radius: 5px;\n",
       "    overflow: hidden;\n",
       "\tpadding-left: 0.8em;\n",
       "    padding-right: 0.8em;\n",
       "    padding-top: 0.4em;\n",
       "    padding-bottom: 0.4em;\n",
       "}\n",
       "\n",
       "div.holowidgets {\n",
       "    padding-right: 0;\n",
       "\twidth: 25%;\n",
       "}\n",
       "\n",
       "div.holoslider {\n",
       "    min-height: 0 !important;\n",
       "    height: 0.8em;\n",
       "    width: 60%;\n",
       "}\n",
       "\n",
       "div.holoformgroup {\n",
       "    padding-top: 0.5em;\n",
       "    margin-bottom: 0.5em;\n",
       "}\n",
       "\n",
       "div.hologroup {\n",
       "    padding-left: 0;\n",
       "    padding-right: 0.8em;\n",
       "    width: 50%;\n",
       "}\n",
       "\n",
       ".holoselect {\n",
       "    width: 92%;\n",
       "    margin-left: 0;\n",
       "    margin-right: 0;\n",
       "}\n",
       "\n",
       ".holotext {\n",
       "    width: 100%;\n",
       "    padding-left:  0.5em;\n",
       "    padding-right: 0;\n",
       "}\n",
       "\n",
       ".holowidgets .ui-resizable-se {\n",
       "\tvisibility: hidden\n",
       "}\n",
       "\n",
       ".holoframe > .ui-resizable-se {\n",
       "\tvisibility: hidden\n",
       "}\n",
       "\n",
       ".holowidgets .ui-resizable-s {\n",
       "\tvisibility: hidden\n",
       "}\n",
       "</style>\n",
       "\n",
       "\n",
       "<div>\n",
       "<img src='data:image/png;base64,iVBORw0KGgoAAAANSUhEUgAAABkAAAAZCAIAAABLixI0AAAACXBIWXMAAAsTAAALEwEAmpwYAAAAB3RJTUUH3wkCDDIOi3cusgAABT1JREFUOMtVlclvG2UYh3/fMovHe53FThySNHZomrRJl6QR0AJdpVblQBEHJC4ciipxAgmO3PgPEP8BQkIsRUJUSF1oqGih0JY2CtnjOLGz2Em8xPbMeL6Pw9RJOprLjPT+5tH7Pu83JE7pqeHh8wMD2evfyXMXf/nxB2FZo6dPNzVHvvr6GxMQeOEigARswNzzUgK6x8NagPzS0nqxODQ62nLn1xMnX99/eLC3sGVROj2/IBxHABKgANlzM4ACTuMRAOecNREiAWtzc0NIEu/M37zVMTWeqlrpUDg1M7NTVgdkowwvxqGRRV1CE8jOznq7uhYAi2CpXtdVVQE4QAAdCAAGwAAJyEa9Amh7PsAihBBAABrg1XUfpe3bxTXb8XR0WJa1VSzWGyAcUAEVoIAARIMOQH2HC4AA6lKW8/n9Pm/Ahl4zV8fGTg0PtzQ3K3tA3GId8AO+BqZLt8sFQKE0GouRSkWtFM63KV0Vy1rJhN44k56cFFI6exJ3MBWANACVHS63aw5QtutVVT/4xWfHv/0ylytmHvx56sIFLxACfIABGIAf8ANRn++9y5evXrkS0XWXd5dLJWRfOHwspA1tr4iFtP3gD8/apjCtSDiyQYhZKNA94wOQTCQPhfzm9FTJH8jn84Tz3SyPlEQ4vf0Dt5/MPE5vpVObzQbxqvaDdL731MnWnh5pmsxxdE3rTCZfO3u2FbL6+2+hzpcKwXA2ldrNUgAVII7TMXhkZnzcAQTgAWI6sgV7YmKivLra1tFxMJk4Ho/r5fLy3btsYS7JHL1YoeHQKldKhcLzLNcdlRDOWDgczuVyOtDt4yN9gRYVmc161TTLmYw9P9e8OHcU5dG2fa3EmhNyKjGwROmzZ8+YqlIAKsDd9jtOenIy1t8vgDJQtuvYrjRT0kMQBRIUQxqSXkSDUIO0YAulvdfxGk/u33eVZs2EeBvu6gCjtKW7Oz81xQBhI73mtATQn/BuZ6wTrezsYX+1Jn+aNR8sl9Zb47l4/O+HD2u27QDgnHUQwhvKuFmRaLS2tkZsmwJSQpqIUzHYyynndx5t/1Vy5gXyhMhorEJIKpViQB0QnFNlZzkbdExRhBAckIAFbFXFetkpg94er004WK6jCniamrRAYHlmxhXFtWTXVfW50SQYDjvVKm+YHVMR10G5VAGrcWAohkEVpbC1RRo7QN2mS0BzuQiJHziwMTurAwrgBTo95NVjnshb3XaF9q1MTM7VeWNv6kJQgAISYAAHuARUQAHA2NCZM35KJ27c6KA4YiBXJlpVro5bkaGN2mStsCy8gAXobpyU7iFhAgxQAB40jMHh4WhnJ6nVpsfGVjOZUQMhi40k9K1FqQZI4ogffd3k33GPobTb5kCIFmriEYjgnABao60KwD68eCnz5PH0vXsr4+OsVIpRvNmpnLvQEozRpm5vxAP107dx+RMlvGTcmw7Xle6DwZlsdbZY05qbAq2ta9msCkhAcM4+yv+3uFZWAA+gA5pEaUOUnpaMohb+/BK7+j76r4IliFoyAv9EjsZ4ZbMmyOKqmdvciiWTL4+OUsY8mkY554d7okGyciuHqgQFVIABlkJ9fV44FLFrz8ecuIZ3u6offzD1fSnFmJSgle35mzcdVQ1Eo23B4Eh7lJdWNgZGohM/r5QAjZEoaDzi0TfKPlFDV/KF35mqs0NN1v3iRrqqAT7Xbdti6UXPImKZaf5SQiUBtAIG0OVXXnmnDUJWb9nET7D8VPba7pAJTKRnxPUpI+v0BXlApZPrlgDaCTke1VqaaLZC/wesjSVVF5Ac7QAAAABJRU5ErkJggg=='\n",
       "     style='width:25px;height:25px; border-radius:12px;'/>\n",
       "\n",
       "HoloViewsJS, MatplotlibJS successfully loaded in this cell.\n",
       "</div>\n"
      ],
      "text/plain": [
       "<IPython.core.display.HTML object>"
      ]
     },
     "metadata": {},
     "output_type": "display_data"
    }
   ],
   "source": [
    "import holoviews as hv\n",
    "import pandas as pd\n",
    "import numpy as np\n",
    "import oommffield\n",
    "import os\n",
    "import glob\n",
    "import re\n",
    "datafiles = os.path.join(os.getcwd(), 'data')\n",
    "hv.notebook_extension('matplotlib')\n"
   ]
  },
  {
   "cell_type": "markdown",
   "metadata": {},
   "source": [
    "Here, we define a function which takes either a string, which is the path to an OOMMF magnetisation vector (OMF) file, or a Field object from the module oommffield. This constructs a Holoviews object which is the sum of two parts:\n",
    "* A hv.VectorField object - this shows a plot of the in-plane magnetisation\n",
    "* a hv.Image object - this shows a plot of the out-of-plane magnetisation"
   ]
  },
  {
   "cell_type": "code",
   "execution_count": 6,
   "metadata": {
    "collapsed": false
   },
   "outputs": [],
   "source": [
    "def field2inplane(field, slice_axis, slice_coord):\n",
    "    \"\"\"\n",
    "    field2hv(field, slice_axis, slice_coord)\n",
    "    \n",
    "    This function constructs a Holoviews object\n",
    "    which shows the in plane Magnetisation and out of plane Magnetisation\n",
    "    \n",
    "    Inputs\n",
    "    ======\n",
    "    field:\n",
    "        Path to an OMF file or object of type oommffield.Field\n",
    "    slice_axis:\n",
    "        The axis along which the vector field will be sliced given as a string.\n",
    "        Must be one of ['x', 'y', 'z']\n",
    "    slice_coord:\n",
    "        The coordinate along the slice_axis where the field is sliced\n",
    "    \"\"\"\n",
    "    # Construct a field object if not a field object\n",
    "    if isinstance(field, str):\n",
    "        field = oommffield.read_oommf_file(field)\n",
    "    field.normalise()\n",
    "    if slice_axis == 'z':\n",
    "        axis = (0, 1, 2)\n",
    "    elif slice_axis == 'y':\n",
    "        axis = (0, 2, 1)\n",
    "    elif slice_axis == 'x':\n",
    "        axis = (1, 2, 0)\n",
    "    else:\n",
    "        raise ValueError(\"Slice Axis must be one of 'x', 'y' ,'z'\")\n",
    "    dims = ['x', 'y', 'z']\n",
    "    bounds = [field.cmin[axis[0]], field.cmin[axis[1]], field.cmax[axis[0]], field.cmax[axis[1]]]\n",
    "    x, y, vec, coords = field.slice_field(slice_axis, slice_coord)\n",
    "    X, Y = np.meshgrid(x, y)\n",
    "    flat = vec.flatten()\n",
    "    modm = (flat[axis[0]::3]**2 + flat[axis[1]::3]**2).reshape((len(x), len(y)))\n",
    "    angm = np.arctan2(flat[axis[1]::3], flat[axis[0]::3]).reshape((len(x), len(y)))\n",
    "    outofplane = flat[axis[2]::3]\n",
    "    mz = flat[axis[2]::3].reshape((len(x), len(y)))\n",
    "    kdims = kdims=[dims[axis[0]], dims[axis[1]]]\n",
    "    return hv.VectorField([X, Y, angm, modm],\n",
    "                          kdims = kdims, vdims=['xyfield'],\n",
    "                          label='In-plane Magnetisation')"
   ]
  },
  {
   "cell_type": "code",
   "execution_count": 7,
   "metadata": {
    "collapsed": false
   },
   "outputs": [],
   "source": [
    "def field2outofplane(field, slice_axis, slice_coord):\n",
    "    \"\"\"\n",
    "    field2hv(field, slice_axis, slice_coord)\n",
    "    \n",
    "    This function constructs a Holoviews object\n",
    "    which shows the in plane Magnetisation and out of plane Magnetisation\n",
    "    \n",
    "    Inputs\n",
    "    ======\n",
    "    field:\n",
    "        Path to an OMF file or object of type oommffield.Field\n",
    "    slice_axis:\n",
    "        The axis along which the vector field will be sliced given as a string.\n",
    "        Must be one of ['x', 'y', 'z']\n",
    "    slice_coord:\n",
    "        The coordinate along the slice_axis where the field is sliced\n",
    "    \"\"\"\n",
    "    # Construct a field object if not a field object\n",
    "    if isinstance(field, str):\n",
    "        field = oommffield.read_oommf_file(field)\n",
    "    field.normalise()\n",
    "    if slice_axis == 'z':\n",
    "        axis = (0, 1, 2)\n",
    "    elif slice_axis == 'y':\n",
    "        axis = (0, 2, 1)\n",
    "    elif slice_axis == 'x':\n",
    "        axis = (1, 2, 0)\n",
    "    else:\n",
    "        raise ValueError(\"Slice Axis must be one of 'x', 'y' ,'z'\")\n",
    "    dims = ['x', 'y', 'z']\n",
    "    bounds = [field.cmin[axis[0]], field.cmin[axis[1]], field.cmax[axis[0]], field.cmax[axis[1]]]\n",
    "    x, y, vec, coords = field.slice_field(slice_axis, slice_coord)\n",
    "    X, Y = np.meshgrid(x, y)\n",
    "    flat = vec.flatten()\n",
    "    modm = (flat[axis[0]::3]**2 + flat[axis[1]::3]**2).reshape((len(x), len(y)))\n",
    "    angm = np.arctan2(flat[axis[1]::3], flat[axis[0]::3]).reshape((len(x), len(y)))\n",
    "    outofplane = flat[axis[2]::3]\n",
    "    mz = flat[axis[2]::3].reshape((len(x), len(y)))\n",
    "    kdims = kdims=[dims[axis[0]], dims[axis[1]]]\n",
    "    return hv.Image(mz, bounds=bounds,\n",
    "                    label='Out of plane Magnetisation',\n",
    "                    kdims = kdims, \n",
    "                    vdims=[hv.Dimension('M{}'.format(slice_axis),\n",
    "                                        range=(-1, 1))])"
   ]
  },
  {
   "cell_type": "markdown",
   "metadata": {},
   "source": [
    "We can load up an OMF file from an OOMMF simulation of a cube of dimensions [5e-8, 5e-8, 5e-8] nm to test this works. Here, the simulation files correspond to the output from a hysteresis simulation of a cube, with Exchange and Demagnetisation interactions included."
   ]
  },
  {
   "cell_type": "code",
   "execution_count": 8,
   "metadata": {
    "collapsed": false
   },
   "outputs": [],
   "source": [
    "# Glob through data file directory for *.omf files.\n",
    "files = sorted(glob.glob(datafiles + '/*.omf'))\n",
    "# Get holoviews object from the first file\n",
    "test = field2outofplane(files[0], 'y', 0e-8)"
   ]
  },
  {
   "cell_type": "code",
   "execution_count": 9,
   "metadata": {
    "collapsed": false
   },
   "outputs": [
    {
     "data": {
      "text/html": [
       "<img src='data:image/png;base64,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' style='max-width:100%; margin: auto; display: block; '/>"
      ],
      "text/plain": [
       "b':Image   [x,z]   (My)'"
      ]
     },
     "execution_count": 9,
     "metadata": {},
     "output_type": "execute_result"
    }
   ],
   "source": [
    "test"
   ]
  },
  {
   "cell_type": "markdown",
   "metadata": {},
   "source": [
    "We can sample across a holoviews Image element through the centre of the image:"
   ]
  },
  {
   "cell_type": "code",
   "execution_count": 10,
   "metadata": {
    "collapsed": false
   },
   "outputs": [
    {
     "data": {
      "text/html": [
       "<img src='data:image/png;base64,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' style='max-width:100%; margin: auto; display: block; '/>"
      ],
      "text/plain": [
       ":Layout\n",
       "   .Image.Out_of_plane_Magnetisation :Image   [x,z]   (My)\n",
       "   .Curve.I                          :Curve   [x]   (My)\n",
       "   .Curve.II                         :Curve   [x]   (My)"
      ]
     },
     "execution_count": 10,
     "metadata": {},
     "output_type": "execute_result"
    }
   ],
   "source": [
    "test + test.sample(z = 2.5e-8) + test.sample(z = 2.5e-8)"
   ]
  },
  {
   "cell_type": "markdown",
   "metadata": {},
   "source": [
    "We might want to change the colourmap of the B image to a divergent colourmap, and add a colorbar. We can do this by setting properties of the renderer with cell magics:\n"
   ]
  },
  {
   "cell_type": "code",
   "execution_count": 11,
   "metadata": {
    "collapsed": false
   },
   "outputs": [
    {
     "data": {
      "text/html": [
       "<img src='data:image/png;base64,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' style='max-width:100%; margin: auto; display: block; '/>"
      ],
      "text/plain": [
       "b':Image   [x,z]   (My)'"
      ]
     },
     "execution_count": 11,
     "metadata": {},
     "output_type": "execute_result"
    }
   ],
   "source": [
    "%%opts Image style(interpolation='nearest', cmap='RdBu')[colorbar=True]\n",
    "test"
   ]
  },
  {
   "cell_type": "markdown",
   "metadata": {},
   "source": [
    "We have several dimensions through which to explore the data - the files correspond to different simulation parameters (in this case, the applied field), and we may want to look at how the magnetisation varies along each of the axes. To explore the data, we create a Holomap, which will provide sliders and selectors which allow the varying of how we visualise the simulation data.\n",
    "\n",
    "The first step to this is to construct dimensions for which we want to explore the data."
   ]
  },
  {
   "cell_type": "code",
   "execution_count": 12,
   "metadata": {
    "collapsed": false
   },
   "outputs": [],
   "source": [
    "physical_dimension = hv.Dimension(\"SliceDimension\")\n",
    "file = hv.Dimension('File')\n",
    "slice_dimension = hv.Dimension('Coordinates')\n",
    "\n",
    "dims = ['x', 'y', 'z', None] # None is there due to a bug in Holoviews 1.6.1 - \n",
    "                             # https://github.com/ioam/holoviews/pull/830\n",
    "slicecoords = np.linspace(0, 5e-8, 11)\n",
    "slicecoords = list(slicecoords)\n",
    "slicecoords.append(None)"
   ]
  },
  {
   "cell_type": "markdown",
   "metadata": {},
   "source": [
    "We now construct the holoviews objects for each combination across parameter space, by creating a list of tuples of the form. We process the filenames with a function to something more reasonable.\n",
    "> ((parameter arguments), output)"
   ]
  },
  {
   "cell_type": "code",
   "execution_count": 13,
   "metadata": {
    "collapsed": false
   },
   "outputs": [],
   "source": [
    "filename_fun = lambda filename: int(filename.split('-')[3])"
   ]
  },
  {
   "cell_type": "code",
   "execution_count": 14,
   "metadata": {
    "collapsed": false
   },
   "outputs": [
    {
     "ename": "TypeError",
     "evalue": "unorderable types: float() <= NoneType()",
     "output_type": "error",
     "traceback": [
      "\u001b[0;31m---------------------------------------------------------------------------\u001b[0m",
      "\u001b[0;31mTypeError\u001b[0m                                 Traceback (most recent call last)",
      "\u001b[0;32m<ipython-input-14-1788cb4ccd9a>\u001b[0m in \u001b[0;36m<module>\u001b[0;34m()\u001b[0m\n\u001b[1;32m      1\u001b[0m mapdata = [((filename_fun(file), slicedim, slicecoord), \n\u001b[1;32m      2\u001b[0m            field2inplane(file, slicedim, slicecoord) + field2outofplane(file, slicedim, slicecoord)) \n\u001b[0;32m----> 3\u001b[0;31m            \u001b[0;32mfor\u001b[0m \u001b[0mfile\u001b[0m \u001b[0;32min\u001b[0m \u001b[0mfiles\u001b[0m\u001b[0;34m\u001b[0m\u001b[0m\n\u001b[0m\u001b[1;32m      4\u001b[0m            \u001b[0;32mfor\u001b[0m \u001b[0mslicedim\u001b[0m \u001b[0;32min\u001b[0m \u001b[0;34m[\u001b[0m\u001b[0;34m'x'\u001b[0m\u001b[0;34m,\u001b[0m \u001b[0;34m'y'\u001b[0m\u001b[0;34m,\u001b[0m \u001b[0;34m'z'\u001b[0m\u001b[0;34m]\u001b[0m\u001b[0;34m\u001b[0m\u001b[0m\n\u001b[1;32m      5\u001b[0m            for slicecoord in slicecoords]\n",
      "\u001b[0;32m<ipython-input-14-1788cb4ccd9a>\u001b[0m in \u001b[0;36m<listcomp>\u001b[0;34m(.0)\u001b[0m\n\u001b[1;32m      3\u001b[0m            \u001b[0;32mfor\u001b[0m \u001b[0mfile\u001b[0m \u001b[0;32min\u001b[0m \u001b[0mfiles\u001b[0m\u001b[0;34m\u001b[0m\u001b[0m\n\u001b[1;32m      4\u001b[0m            \u001b[0;32mfor\u001b[0m \u001b[0mslicedim\u001b[0m \u001b[0;32min\u001b[0m \u001b[0;34m[\u001b[0m\u001b[0;34m'x'\u001b[0m\u001b[0;34m,\u001b[0m \u001b[0;34m'y'\u001b[0m\u001b[0;34m,\u001b[0m \u001b[0;34m'z'\u001b[0m\u001b[0;34m]\u001b[0m\u001b[0;34m\u001b[0m\u001b[0m\n\u001b[0;32m----> 5\u001b[0;31m            for slicecoord in slicecoords]\n\u001b[0m",
      "\u001b[0;32m<ipython-input-6-7d0bdf4dd9a1>\u001b[0m in \u001b[0;36mfield2inplane\u001b[0;34m(field, slice_axis, slice_coord)\u001b[0m\n\u001b[1;32m     30\u001b[0m     \u001b[0mdims\u001b[0m \u001b[0;34m=\u001b[0m \u001b[0;34m[\u001b[0m\u001b[0;34m'x'\u001b[0m\u001b[0;34m,\u001b[0m \u001b[0;34m'y'\u001b[0m\u001b[0;34m,\u001b[0m \u001b[0;34m'z'\u001b[0m\u001b[0;34m]\u001b[0m\u001b[0;34m\u001b[0m\u001b[0m\n\u001b[1;32m     31\u001b[0m     \u001b[0mbounds\u001b[0m \u001b[0;34m=\u001b[0m \u001b[0;34m[\u001b[0m\u001b[0mfield\u001b[0m\u001b[0;34m.\u001b[0m\u001b[0mcmin\u001b[0m\u001b[0;34m[\u001b[0m\u001b[0maxis\u001b[0m\u001b[0;34m[\u001b[0m\u001b[0;36m0\u001b[0m\u001b[0;34m]\u001b[0m\u001b[0;34m]\u001b[0m\u001b[0;34m,\u001b[0m \u001b[0mfield\u001b[0m\u001b[0;34m.\u001b[0m\u001b[0mcmin\u001b[0m\u001b[0;34m[\u001b[0m\u001b[0maxis\u001b[0m\u001b[0;34m[\u001b[0m\u001b[0;36m1\u001b[0m\u001b[0;34m]\u001b[0m\u001b[0;34m]\u001b[0m\u001b[0;34m,\u001b[0m \u001b[0mfield\u001b[0m\u001b[0;34m.\u001b[0m\u001b[0mcmax\u001b[0m\u001b[0;34m[\u001b[0m\u001b[0maxis\u001b[0m\u001b[0;34m[\u001b[0m\u001b[0;36m0\u001b[0m\u001b[0;34m]\u001b[0m\u001b[0;34m]\u001b[0m\u001b[0;34m,\u001b[0m \u001b[0mfield\u001b[0m\u001b[0;34m.\u001b[0m\u001b[0mcmax\u001b[0m\u001b[0;34m[\u001b[0m\u001b[0maxis\u001b[0m\u001b[0;34m[\u001b[0m\u001b[0;36m1\u001b[0m\u001b[0;34m]\u001b[0m\u001b[0;34m]\u001b[0m\u001b[0;34m]\u001b[0m\u001b[0;34m\u001b[0m\u001b[0m\n\u001b[0;32m---> 32\u001b[0;31m     \u001b[0mx\u001b[0m\u001b[0;34m,\u001b[0m \u001b[0my\u001b[0m\u001b[0;34m,\u001b[0m \u001b[0mvec\u001b[0m\u001b[0;34m,\u001b[0m \u001b[0mcoords\u001b[0m \u001b[0;34m=\u001b[0m \u001b[0mfield\u001b[0m\u001b[0;34m.\u001b[0m\u001b[0mslice_field\u001b[0m\u001b[0;34m(\u001b[0m\u001b[0mslice_axis\u001b[0m\u001b[0;34m,\u001b[0m \u001b[0mslice_coord\u001b[0m\u001b[0;34m)\u001b[0m\u001b[0;34m\u001b[0m\u001b[0m\n\u001b[0m\u001b[1;32m     33\u001b[0m     \u001b[0mX\u001b[0m\u001b[0;34m,\u001b[0m \u001b[0mY\u001b[0m \u001b[0;34m=\u001b[0m \u001b[0mnp\u001b[0m\u001b[0;34m.\u001b[0m\u001b[0mmeshgrid\u001b[0m\u001b[0;34m(\u001b[0m\u001b[0mx\u001b[0m\u001b[0;34m,\u001b[0m \u001b[0my\u001b[0m\u001b[0;34m)\u001b[0m\u001b[0;34m\u001b[0m\u001b[0m\n\u001b[1;32m     34\u001b[0m     \u001b[0mflat\u001b[0m \u001b[0;34m=\u001b[0m \u001b[0mvec\u001b[0m\u001b[0;34m.\u001b[0m\u001b[0mflatten\u001b[0m\u001b[0;34m(\u001b[0m\u001b[0;34m)\u001b[0m\u001b[0;34m\u001b[0m\u001b[0m\n",
      "\u001b[0;32m/home/ryan/.local/lib/python3.5/site-packages/finitedifferencefield/finitedifferencefield.py\u001b[0m in \u001b[0;36mslice_field\u001b[0;34m(self, axis, point)\u001b[0m\n\u001b[1;32m    505\u001b[0m             \u001b[0;32mraise\u001b[0m \u001b[0mValueError\u001b[0m\u001b[0;34m(\u001b[0m\u001b[0;34m'Axis not properly defined.'\u001b[0m\u001b[0;34m)\u001b[0m\u001b[0;34m\u001b[0m\u001b[0m\n\u001b[1;32m    506\u001b[0m \u001b[0;34m\u001b[0m\u001b[0m\n\u001b[0;32m--> 507\u001b[0;31m         \u001b[0;32mif\u001b[0m \u001b[0mself\u001b[0m\u001b[0;34m.\u001b[0m\u001b[0mcmin\u001b[0m\u001b[0;34m[\u001b[0m\u001b[0mslice_num\u001b[0m\u001b[0;34m]\u001b[0m \u001b[0;34m<=\u001b[0m \u001b[0mpoint\u001b[0m \u001b[0;34m<=\u001b[0m \u001b[0mself\u001b[0m\u001b[0;34m.\u001b[0m\u001b[0mcmax\u001b[0m\u001b[0;34m[\u001b[0m\u001b[0mslice_num\u001b[0m\u001b[0;34m]\u001b[0m\u001b[0;34m:\u001b[0m\u001b[0;34m\u001b[0m\u001b[0m\n\u001b[0m\u001b[1;32m    508\u001b[0m             \u001b[0maxis1_indices\u001b[0m \u001b[0;34m=\u001b[0m \u001b[0mnp\u001b[0m\u001b[0;34m.\u001b[0m\u001b[0marange\u001b[0m\u001b[0;34m(\u001b[0m\u001b[0;36m0\u001b[0m\u001b[0;34m,\u001b[0m \u001b[0mself\u001b[0m\u001b[0;34m.\u001b[0m\u001b[0mn\u001b[0m\u001b[0;34m[\u001b[0m\u001b[0maxes\u001b[0m\u001b[0;34m[\u001b[0m\u001b[0;36m0\u001b[0m\u001b[0;34m]\u001b[0m\u001b[0;34m]\u001b[0m\u001b[0;34m)\u001b[0m\u001b[0;34m\u001b[0m\u001b[0m\n\u001b[1;32m    509\u001b[0m             \u001b[0maxis2_indices\u001b[0m \u001b[0;34m=\u001b[0m \u001b[0mnp\u001b[0m\u001b[0;34m.\u001b[0m\u001b[0marange\u001b[0m\u001b[0;34m(\u001b[0m\u001b[0;36m0\u001b[0m\u001b[0;34m,\u001b[0m \u001b[0mself\u001b[0m\u001b[0;34m.\u001b[0m\u001b[0mn\u001b[0m\u001b[0;34m[\u001b[0m\u001b[0maxes\u001b[0m\u001b[0;34m[\u001b[0m\u001b[0;36m1\u001b[0m\u001b[0;34m]\u001b[0m\u001b[0;34m]\u001b[0m\u001b[0;34m)\u001b[0m\u001b[0;34m\u001b[0m\u001b[0m\n",
      "\u001b[0;31mTypeError\u001b[0m: unorderable types: float() <= NoneType()"
     ]
    }
   ],
   "source": [
    "mapdata = [((filename_fun(file), slicedim, slicecoord), \n",
    "           field2inplane(file, slicedim, slicecoord) + field2outofplane(file, slicedim, slicecoord)) \n",
    "           for file in files \n",
    "           for slicedim in ['x', 'y', 'z'] \n",
    "           for slicecoord in slicecoords]"
   ]
  },
  {
   "cell_type": "markdown",
   "metadata": {},
   "source": [
    "We can now create a holomap of this data, which allows us to explore the datafiles:"
   ]
  },
  {
   "cell_type": "code",
   "execution_count": 15,
   "metadata": {
    "collapsed": false
   },
   "outputs": [
    {
     "ename": "NameError",
     "evalue": "name 'mapdata' is not defined",
     "output_type": "error",
     "traceback": [
      "\u001b[0;31m---------------------------------------------------------------------------\u001b[0m",
      "\u001b[0;31mNameError\u001b[0m                                 Traceback (most recent call last)",
      "\u001b[0;32m<ipython-input-15-cdd41941d0d8>\u001b[0m in \u001b[0;36m<module>\u001b[0;34m()\u001b[0m\n\u001b[0;32m----> 1\u001b[0;31m \u001b[0mholomap\u001b[0m \u001b[0;34m=\u001b[0m \u001b[0mhv\u001b[0m\u001b[0;34m.\u001b[0m\u001b[0mHoloMap\u001b[0m\u001b[0;34m(\u001b[0m\u001b[0mmapdata\u001b[0m\u001b[0;34m,\u001b[0m \u001b[0mkdims\u001b[0m\u001b[0;34m=\u001b[0m\u001b[0;34m[\u001b[0m\u001b[0mfile\u001b[0m\u001b[0;34m,\u001b[0m \u001b[0mphysical_dimension\u001b[0m\u001b[0;34m,\u001b[0m \u001b[0mslice_dimension\u001b[0m\u001b[0;34m]\u001b[0m\u001b[0;34m)\u001b[0m\u001b[0;34m\u001b[0m\u001b[0m\n\u001b[0m",
      "\u001b[0;31mNameError\u001b[0m: name 'mapdata' is not defined"
     ]
    }
   ],
   "source": [
    "holomap = hv.HoloMap(mapdata, kdims=[file, physical_dimension, slice_dimension])"
   ]
  },
  {
   "cell_type": "markdown",
   "metadata": {},
   "source": [
    "We can then render the HoloMap by accessing it. It is worth noting that for large amounts of data this can take some time, and DynamicMap, which renders on the fly rather than all at once, is more suitable. On the other hand, once a HoloMap has been created, you can embed the notebook into webpages or reload the notebook for interactive visualisation without having to run the notebook.\n",
    "\n",
    "The cell below takes a long time to run - skip ahead to the DynamicMap if you're not running on a powerful computer."
   ]
  },
  {
   "cell_type": "code",
   "execution_count": 16,
   "metadata": {
    "collapsed": false
   },
   "outputs": [
    {
     "ename": "NameError",
     "evalue": "name 'holomap' is not defined",
     "output_type": "error",
     "traceback": [
      "\u001b[0;31m---------------------------------------------------------------------------\u001b[0m",
      "\u001b[0;31mNameError\u001b[0m                                 Traceback (most recent call last)",
      "\u001b[0;32m<ipython-input-16-206c00ddbe9f>\u001b[0m in \u001b[0;36m<module>\u001b[0;34m()\u001b[0m\n\u001b[0;32m----> 1\u001b[0;31m \u001b[0mholomap\u001b[0m\u001b[0;34m\u001b[0m\u001b[0m\n\u001b[0m",
      "\u001b[0;31mNameError\u001b[0m: name 'holomap' is not defined"
     ]
    }
   ],
   "source": [
    "%%output max_frames=5000 \n",
    "%%opts Image style(interpolation='nearest', cmap='RdBu')[colorbar=True]\n",
    "holomap"
   ]
  },
  {
   "cell_type": "markdown",
   "metadata": {},
   "source": [
    "Clearly there is a lot of potential. Examples of other parameters you could explore are:\n",
    "* Time\n",
    "* System size\n",
    "* Applied Field\n",
    "* Exchange/DMI/Anisotropy strength\n",
    "* Anisotropy Axis\n",
    "\n",
    "Additionally, other hv objects can be created which can be computed for each slice through the field:\n",
    "* Field profile along an axis\n",
    "* Skyrmion number\n",
    "* Structure factor\n",
    "\n",
    "Here, we use the same data to create a Dynamic Map - to see this, a live notebook server must be used."
   ]
  },
  {
   "cell_type": "code",
   "execution_count": null,
   "metadata": {
    "collapsed": false
   },
   "outputs": [],
   "source": []
  },
  {
   "cell_type": "code",
   "execution_count": null,
   "metadata": {
    "collapsed": false
   },
   "outputs": [],
   "source": [
    "# Here we set the value ranges for the dimensions defined earlier. This \n",
    "physical_dimension.values = ['x', 'y', 'z', None]\n",
    "file.values = files\n",
    "file.value_format = filename_fun\n",
    "slice_dimension.values = list(slicecoords)\n",
    "slice_dimension.values.append(None)"
   ]
  },
  {
   "cell_type": "code",
   "execution_count": null,
   "metadata": {
    "collapsed": true
   },
   "outputs": [],
   "source": [
    "dmap = hv.DynamicMap(field2outofplane, kdims=[file, physical_dimension, slice_dimension])"
   ]
  },
  {
   "cell_type": "code",
   "execution_count": null,
   "metadata": {
    "collapsed": false
   },
   "outputs": [],
   "source": [
    "%%opts Image style(interpolation='nearest', cmap='RdBu')[colorbar=True]\n",
    "dmap"
   ]
  },
  {
   "cell_type": "code",
   "execution_count": null,
   "metadata": {
    "collapsed": true
   },
   "outputs": [],
   "source": [
    "dmap_inplane = hv.DynamicMap(field2inplane, kdims=[file, physical_dimension, slice_dimension])"
   ]
  },
  {
   "cell_type": "code",
   "execution_count": null,
   "metadata": {
    "collapsed": false
   },
   "outputs": [],
   "source": [
    "dmap_inplane"
   ]
  },
  {
   "cell_type": "code",
   "execution_count": null,
   "metadata": {
    "collapsed": true
   },
   "outputs": [],
   "source": []
  },
  {
   "cell_type": "code",
   "execution_count": null,
   "metadata": {
    "collapsed": false
   },
   "outputs": [],
   "source": [
    "dmap + dmap_inplane "
   ]
  },
  {
   "cell_type": "code",
   "execution_count": null,
   "metadata": {
    "collapsed": true
   },
   "outputs": [],
   "source": [
    "import pandas as pd"
   ]
  },
  {
   "cell_type": "code",
   "execution_count": null,
   "metadata": {
    "collapsed": true
   },
   "outputs": [],
   "source": [
    "import oommfodt"
   ]
  },
  {
   "cell_type": "code",
   "execution_count": null,
   "metadata": {
    "collapsed": false
   },
   "outputs": [],
   "source": [
    "odtpath = os.path.join(datafiles, 'cube_example.odt')"
   ]
  },
  {
   "cell_type": "code",
   "execution_count": null,
   "metadata": {
    "collapsed": false
   },
   "outputs": [],
   "source": [
    "odtdata = oommfodt.OOMMFodt(odtpath)"
   ]
  },
  {
   "cell_type": "code",
   "execution_count": null,
   "metadata": {
    "collapsed": false
   },
   "outputs": [],
   "source": []
  },
  {
   "cell_type": "code",
   "execution_count": null,
   "metadata": {
    "collapsed": false
   },
   "outputs": [],
   "source": [
    "def odt2df_fromfiles(files, odtfile):\n",
    "    \"\"\"\n",
    "    odt2df_fromfiles(files)\n",
    "    \n",
    "    Takes a list of omf filenames and selects rows in ODT file which correspond\n",
    "    to these files\n",
    "    \n",
    "    Inputs\n",
    "    ------\n",
    "    files - List of omf file paths\n",
    "    odtfile - path to OOMMF ODT file. This file must have the columns\n",
    "        'stage' and 'iteration' as headers, as these are used\n",
    "        to match up the data. Additionally, OOMMF omf file names must\n",
    "        not have been modified from their original format.\n",
    "    \"\"\"\n",
    "    strarray = [re.findall(r\"[\\w']+\", file)[10:12] for file in files]\n",
    "    relevantfiles = np.array([[int(i[0]), int(i[1])] for i in strarray])\n",
    "    index = pd.DataFrame(relevantfiles, columns = ('stage', 'iteration'))\n",
    "    \n",
    "    odtframe = oommfodt.OOMMFodt(odtfile).df\n",
    "    reduced = pd.merge(index, odtframe)\n",
    "    reduced = reduced.reset_index()\n",
    "    return reduced"
   ]
  },
  {
   "cell_type": "code",
   "execution_count": null,
   "metadata": {
    "collapsed": false
   },
   "outputs": [],
   "source": []
  },
  {
   "cell_type": "code",
   "execution_count": null,
   "metadata": {
    "collapsed": false
   },
   "outputs": [],
   "source": [
    "a = odt2df_fromfiles(files, odtpath)"
   ]
  },
  {
   "cell_type": "code",
   "execution_count": null,
   "metadata": {
    "collapsed": false
   },
   "outputs": [],
   "source": []
  },
  {
   "cell_type": "code",
   "execution_count": null,
   "metadata": {
    "collapsed": false
   },
   "outputs": [],
   "source": [
    "class hvODT:\n",
    "    def __init__(self, odtpath, omfpaths):\n",
    "        self.omfpaths = omfpaths\n",
    "        strarray = [re.findall(r\"[\\w']+\", file)[10:12] for file in omfpaths]\n",
    "        relevantfiles = np.array([[int(i[0]), int(i[1])] for i in strarray])\n",
    "        index = pd.DataFrame(relevantfiles, columns = ('stage', 'iteration'))\n",
    "\n",
    "        odtframe = oommfodt.OOMMFodt(odtpath).df\n",
    "        reduced = pd.merge(index, odtframe)\n",
    "        reduced = reduced.reset_index()\n",
    "        reduced.rename(columns={'index':'File'}, inplace=True)\n",
    "        self.frame = reduced\n",
    "        self.headers = list(reduced.columns)[1:]\n",
    "        self.hv = hv.Table(self.frame)\n",
    "    def get_curve(self, file, graph):\n",
    "        if isinstance(file, str):\n",
    "            try:\n",
    "                index = self.omfpaths.index(file)\n",
    "            except:\n",
    "                raise ValueError(\"File not in list of OMF files\")\n",
    "        else:\n",
    "            index = file\n",
    "        return self.hv.to.curve('File', graph, []) * \\\n",
    "               hv.VLine(index) \n",
    "\n",
    "            \n",
    "odttest = hvODT(odtpath, files)"
   ]
  },
  {
   "cell_type": "code",
   "execution_count": null,
   "metadata": {
    "collapsed": true
   },
   "outputs": [],
   "source": [
    "odttest.headers.append(None)"
   ]
  },
  {
   "cell_type": "code",
   "execution_count": null,
   "metadata": {
    "collapsed": false
   },
   "outputs": [],
   "source": [
    "graphs = hv.Dimension('Graph', values=odttest.headers)"
   ]
  },
  {
   "cell_type": "code",
   "execution_count": null,
   "metadata": {
    "collapsed": false
   },
   "outputs": [],
   "source": []
  },
  {
   "cell_type": "code",
   "execution_count": null,
   "metadata": {
    "collapsed": false
   },
   "outputs": [],
   "source": [
    "dmap_curves = hv.DynamicMap(odttest.get_curve, kdims=[file, graphs])\n"
   ]
  },
  {
   "cell_type": "code",
   "execution_count": null,
   "metadata": {
    "collapsed": false
   },
   "outputs": [],
   "source": [
    "kdims"
   ]
  },
  {
   "cell_type": "code",
   "execution_count": null,
   "metadata": {
    "collapsed": false
   },
   "outputs": [],
   "source": [
    "dmap_curves"
   ]
  },
  {
   "cell_type": "code",
   "execution_count": null,
   "metadata": {
    "collapsed": false,
    "scrolled": true
   },
   "outputs": [],
   "source": [
    "dmap + dmap_inplane + dmap_curves"
   ]
  },
  {
   "cell_type": "code",
   "execution_count": null,
   "metadata": {
    "collapsed": false
   },
   "outputs": [],
   "source": [
    "dmap_curves"
   ]
  },
  {
   "cell_type": "code",
   "execution_count": null,
   "metadata": {
    "collapsed": false
   },
   "outputs": [],
   "source": [
    "hv.__version__"
   ]
  },
  {
   "cell_type": "code",
   "execution_count": null,
   "metadata": {
    "collapsed": false
   },
   "outputs": [],
   "source": [
    "renderer = hv.Store.renderers['matplotlib']"
   ]
  },
  {
   "cell_type": "code",
   "execution_count": null,
   "metadata": {
    "collapsed": false
   },
   "outputs": [],
   "source": [
    "import holoviews as hv\n",
    "import numpy as np\n",
    "hv.notebook_extension('matplotlib')\n",
    "kdims = [file,\n",
    "         hv.Dimension('SliceDimension', values=['x', 'y', 'z']),\n",
    "         hv.Dimension('Coordinates', range=(0.01, 1))]\n",
    "dmap1 = hv.DynamicMap(lambda x, y, z: hv.Image(np.random.rand(10,10)), kdims=kdims)\n",
    "dmap2 = hv.DynamicMap(lambda x: hv.Curve(np.random.rand(10,2))*hv.VLine(x),\n",
    "                     kdims=kdims[:1])\n"
   ]
  },
  {
   "cell_type": "code",
   "execution_count": null,
   "metadata": {
    "collapsed": false
   },
   "outputs": [],
   "source": []
  },
  {
   "cell_type": "code",
   "execution_count": null,
   "metadata": {
    "collapsed": false
   },
   "outputs": [],
   "source": []
  },
  {
   "cell_type": "code",
   "execution_count": null,
   "metadata": {
    "collapsed": true
   },
   "outputs": [],
   "source": []
  }
 ],
 "metadata": {
  "anaconda-cloud": {},
  "kernelspec": {
   "display_name": "Python [fidimag]",
   "language": "python",
   "name": "Python [fidimag]"
  },
  "language_info": {
   "codemirror_mode": {
    "name": "ipython",
    "version": 3
   },
   "file_extension": ".py",
   "mimetype": "text/x-python",
   "name": "python",
   "nbconvert_exporter": "python",
   "pygments_lexer": "ipython3",
   "version": "3.5.2"
  }
 },
 "nbformat": 4,
 "nbformat_minor": 0
}
